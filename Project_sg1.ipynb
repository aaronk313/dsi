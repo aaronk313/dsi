{
 "cells": [
  {
   "cell_type": "code",
   "execution_count": 1,
   "metadata": {
    "collapsed": false
   },
   "outputs": [],
   "source": [
    "import pandas as pd\n",
    "import numpy as np\n",
    "from sklearn.preprocessing import LabelEncoder\n",
    "from sklearn.feature_extraction.text import TfidfVectorizer\n",
    "from sklearn.feature_extraction.text import CountVectorizer\n",
    "from nltk.tag import pos_tag\n",
    "from nltk.tokenize import WordPunctTokenizer\n",
    "from sklearn.linear_model import LogisticRegression\n",
    "from sklearn.model_selection import train_test_split,cross_val_score\n",
    "from collections import Counter\n",
    "import json\n",
    "\n",
    "from encryptedpickle import encryptedpickle\n",
    "import pickle\n",
    "from facepy import GraphAPI\n",
    "import credentials\n",
    "from geotext import GeoText\n",
    "\n",
    "import datetime\n",
    "\n",
    "import matplotlib.pyplot as plt\n",
    "%matplotlib inline"
   ]
  },
  {
   "cell_type": "code",
   "execution_count": 2,
   "metadata": {
    "collapsed": false
   },
   "outputs": [],
   "source": [
    "# Write retrieved data to pickle file\n",
    "\n",
    "encoder = encryptedpickle.EncryptedPickle(signature_passphrases=credentials.passphrases,\n",
    "                                         encryption_passphrases=credentials.passphrases)\n",
    "\n",
    "encryption = {\n",
    "    # Add new encryption algorithm specification with id = 255.\n",
    "    # Default algorithms can not be overridden so we must use some other\n",
    "    # id, maybe best starting with 255 (maximum id) and decreasing by one\n",
    "    # for next added algorithm.\n",
    "    255: {\n",
    "        # Algorithm name defined in EncryptedPickle.ALGORITHMS.\n",
    "        'algorithm': 'aes-256-cbc',\n",
    "\n",
    "        # Salt size for PBKDF2 key.\n",
    "        'salt_size': 32,\n",
    "\n",
    "        # Digest mode for PBKDF2 key.\n",
    "        'pbkdf2_algorithm': 'sha256',\n",
    "\n",
    "        # Use 10 iterations in PBKDF2 key generation.\n",
    "        'pbkdf2_iterations': 10,\n",
    "    },\n",
    "}\n",
    "\n",
    "encoder.set_algorithms(encryption=encryption)\n",
    "\n"
   ]
  },
  {
   "cell_type": "code",
   "execution_count": 3,
   "metadata": {
    "collapsed": false
   },
   "outputs": [],
   "source": [
    "graph = GraphAPI(credentials.fbtoken)"
   ]
  },
  {
   "cell_type": "code",
   "execution_count": 4,
   "metadata": {
    "collapsed": false
   },
   "outputs": [],
   "source": [
    "content = graph.get('/10153515548171271/feed')"
   ]
  },
  {
   "cell_type": "code",
   "execution_count": 5,
   "metadata": {
    "collapsed": false,
    "scrolled": true
   },
   "outputs": [
    {
     "data": {
      "text/plain": [
       "{u'data': [{u'actions': [{u'link': u'https://www.facebook.com/10153515548171271/posts/10154561134711271',\n",
       "     u'name': u'Comment'},\n",
       "    {u'link': u'https://www.facebook.com/10153515548171271/posts/10154561134711271',\n",
       "     u'name': u'Like'}],\n",
       "   u'created_time': u'2016-11-08T16:47:09+0000',\n",
       "   u'from': {u'id': u'10153515548171271', u'name': u'Aaron Kim'},\n",
       "   u'id': u'10153515548171271_10154561134711271',\n",
       "   u'is_expired': False,\n",
       "   u'is_hidden': False,\n",
       "   u'likes': {u'data': [{u'id': u'10153119020437345', u'name': u'Queena Kim'},\n",
       "     {u'id': u'10106326331063768', u'name': u'Jon A. Jo'},\n",
       "     {u'id': u'10154972940430646', u'name': u'Rosette K. Lee'},\n",
       "     {u'id': u'10203646744908206', u'name': u'David C. Lee'},\n",
       "     {u'id': u'989136211139371', u'name': u'Efren Fradejas'},\n",
       "     {u'id': u'428760387268799', u'name': u'Mark Kang'},\n",
       "     {u'id': u'10153481552898825', u'name': u'Edward Chang'},\n",
       "     {u'id': u'10101235205879531', u'name': u'Suzy Yim'},\n",
       "     {u'id': u'10152947140887478', u'name': u'Jules Heo'},\n",
       "     {u'id': u'871653142878843', u'name': u'Sam Nam'}],\n",
       "    u'paging': {u'cursors': {u'after': u'ODcxNjUzMTQyODc4ODQz',\n",
       "      u'before': u'MTAxNTMxMTkwMjA0MzczNDUZD'}}},\n",
       "   u'privacy': {u'allow': u'',\n",
       "    u'deny': u'10150386784941271,869795876370756,10152913135864668,10153744974125660,10154634023171449',\n",
       "    u'description': u'Friends; Except: Acquaintances',\n",
       "    u'friends': u'ALL_FRIENDS',\n",
       "    u'value': u'CUSTOM'},\n",
       "   u'status_type': u'mobile_status_update',\n",
       "   u'story': u'Aaron Kim updated his status.',\n",
       "   u'story_tags': {u'0': [{u'id': u'10153515548171271',\n",
       "      u'length': 9,\n",
       "      u'name': u'Aaron Kim',\n",
       "      u'offset': 0,\n",
       "      u'type': u'user'}]},\n",
       "   u'subscribed': True,\n",
       "   u'type': u'status',\n",
       "   u'updated_time': u'2016-11-08T16:47:09+0000'},\n",
       "  {u'actions': [{u'link': u'https://www.facebook.com/10153515548171271/posts/10154561132946271',\n",
       "     u'name': u'Comment'},\n",
       "    {u'link': u'https://www.facebook.com/10153515548171271/posts/10154561132946271',\n",
       "     u'name': u'Like'}],\n",
       "   u'application': {u'category': u'Entertainment',\n",
       "    u'id': u'124024574287414',\n",
       "    u'link': u'https://www.instagram.com/',\n",
       "    u'name': u'Instagram',\n",
       "    u'namespace': u'instapp'},\n",
       "   u'caption': u'Instagram photo by Aaron Kim \\u2022 Nov 8, 2016 at 4:46pm UTC',\n",
       "   u'created_time': u'2016-11-08T16:46:25+0000',\n",
       "   u'description': u'Had to do my part to make sure no  burgers were dropped today. Get yours!',\n",
       "   u'from': {u'id': u'10153515548171271', u'name': u'Aaron Kim'},\n",
       "   u'icon': u'https://www.facebook.com/images/icons/post.gif',\n",
       "   u'id': u'10153515548171271_10154561132946271',\n",
       "   u'is_expired': False,\n",
       "   u'is_hidden': False,\n",
       "   u'likes': {u'data': [{u'id': u'1183818505018261', u'name': u'Charles Choe'},\n",
       "     {u'id': u'10203303892413913', u'name': u'Mary Han'},\n",
       "     {u'id': u'10152774846952631', u'name': u'Jimbo Slice'},\n",
       "     {u'id': u'1181697101847220', u'name': u'Debora Chung'},\n",
       "     {u'id': u'10152462086514924', u'name': u'Peter Canavarro'},\n",
       "     {u'id': u'10152625326754182', u'name': u'Jo Kim'},\n",
       "     {u'id': u'10153119020437345', u'name': u'Queena Kim'},\n",
       "     {u'id': u'10206597568634556', u'name': u'Joshua So'},\n",
       "     {u'id': u'10203612780622785', u'name': u'Cheri Gima'},\n",
       "     {u'id': u'989136211139371', u'name': u'Efren Fradejas'},\n",
       "     {u'id': u'621989871313238', u'name': u'Lindsay Saunders'},\n",
       "     {u'id': u'10106326331063768', u'name': u'Jon A. Jo'},\n",
       "     {u'id': u'10154457212560066', u'name': u'Karen Kim'},\n",
       "     {u'id': u'10153727588561660', u'name': u'Harry Yoon'},\n",
       "     {u'id': u'10154972940430646', u'name': u'Rosette K. Lee'},\n",
       "     {u'id': u'10152370329084914', u'name': u'Nick Roy Cho'},\n",
       "     {u'id': u'10204014933427961', u'name': u'Christine Eastburn'},\n",
       "     {u'id': u'10157176274265234', u'name': u'Cathy Kim'},\n",
       "     {u'id': u'428760387268799', u'name': u'Mark Kang'},\n",
       "     {u'id': u'871653142878843', u'name': u'Sam Nam'},\n",
       "     {u'id': u'10152108183208178', u'name': u'Paulo Joo'},\n",
       "     {u'id': u'10152881118912129', u'name': u'Jen Ma'},\n",
       "     {u'id': u'10153213467543737', u'name': u'Tina Lee'},\n",
       "     {u'id': u'10152820145956189', u'name': u'Boneout Ben'},\n",
       "     {u'id': u'10152451761034300', u'name': u'Bryan Hsaio'}],\n",
       "    u'paging': {u'cursors': {u'after': u'MTAxNTI0NTE3NjEwMzQzMDAZD',\n",
       "      u'before': u'MTE4MzgxODUwNTAxODI2MQZDZD'},\n",
       "     u'next': u'https://graph.facebook.com/v2.2/10153515548171271_10154561132946271/likes?access_token=EAACEdEose0cBAFN0pvxm9APNvXZAP1NHmQrDIDmooIFnnuERxivy65FSsTauwz7sX1FT1KRWyR086nehAzga7TlEMaNykm4IKmqxmoZBbIqXgptV04JGC5bpgvujPhHPkFKKkbvf0ZCZBzRy2GiGO68l61gC6e23Cihf5LKfUgZDZD&limit=25&after=MTAxNTI0NTE3NjEwMzQzMDAZD'}},\n",
       "   u'link': u'https://www.facebook.com/photo.php?fbid=10154561132966271&set=a.10151253946156271.511183.524581270&type=3',\n",
       "   u'message': u'Had to do my part to make sure no  burgers were dropped today. Get yours!',\n",
       "   u'name': u'Instagram photo by Aaron Kim \\u2022 Nov 8, 2016 at 4:46pm UTC',\n",
       "   u'object_id': u'10154561132966271',\n",
       "   u'picture': u'https://scontent.xx.fbcdn.net/v/t1.0-0/p130x130/14955886_10154561132966271_932579077557038233_n.jpg?oh=7d927433010b6e38ea70e589377cd91a&oe=588CA3C8',\n",
       "   u'privacy': {u'allow': u'',\n",
       "    u'deny': u'',\n",
       "    u'description': u'Your friends',\n",
       "    u'friends': u'',\n",
       "    u'value': u'ALL_FRIENDS'},\n",
       "   u'status_type': u'added_photos',\n",
       "   u'subscribed': True,\n",
       "   u'type': u'photo',\n",
       "   u'updated_time': u'2016-11-08T17:25:14+0000'},\n",
       "  {u'actions': [{u'link': u'https://www.facebook.com/10153515548171271/posts/10154559621351271',\n",
       "     u'name': u'Comment'},\n",
       "    {u'link': u'https://www.facebook.com/10153515548171271/posts/10154559621351271',\n",
       "     u'name': u'Like'}],\n",
       "   u'created_time': u'2016-11-08T03:14:30+0000',\n",
       "   u'from': {u'id': u'10153515548171271', u'name': u'Aaron Kim'},\n",
       "   u'id': u'10153515548171271_10154559621351271',\n",
       "   u'is_expired': False,\n",
       "   u'is_hidden': False,\n",
       "   u'likes': {u'data': [{u'id': u'10155347712151258', u'name': u'Jane Hyun'},\n",
       "     {u'id': u'848754311844228', u'name': u'Lucy Lee'},\n",
       "     {u'id': u'10204589251643677', u'name': u'Kay Kang'},\n",
       "     {u'id': u'10153797149398438', u'name': u'David Jeon'},\n",
       "     {u'id': u'10106152478016556', u'name': u'Alice Won'},\n",
       "     {u'id': u'10106326331063768', u'name': u'Jon A. Jo'},\n",
       "     {u'id': u'10154972940430646', u'name': u'Rosette K. Lee'},\n",
       "     {u'id': u'556970868', u'name': u'Eddie Kim'},\n",
       "     {u'id': u'10152370329084914', u'name': u'Nick Roy Cho'},\n",
       "     {u'id': u'10103677043387433', u'name': u'Tyler Herron'},\n",
       "     {u'id': u'10153624431097905', u'name': u'Doris Cho'},\n",
       "     {u'id': u'10154457212560066', u'name': u'Karen Kim'},\n",
       "     {u'id': u'428760387268799', u'name': u'Mark Kang'},\n",
       "     {u'id': u'323678754506166', u'name': u'Jason Yoon'},\n",
       "     {u'id': u'10157176274265234', u'name': u'Cathy Kim'},\n",
       "     {u'id': u'10152343170157295', u'name': u'Marie Yoon'},\n",
       "     {u'id': u'10152535301186084', u'name': u'Hyunie Choi'},\n",
       "     {u'id': u'10152359081840901', u'name': u'J Summer Yun'},\n",
       "     {u'id': u'10203303892413913', u'name': u'Mary Han'},\n",
       "     {u'id': u'10153213467543737', u'name': u'Tina Lee'},\n",
       "     {u'id': u'10204014933427961', u'name': u'Christine Eastburn'},\n",
       "     {u'id': u'10102163055406484', u'name': u'Helena Yu'},\n",
       "     {u'id': u'10102223100859860', u'name': u'January Lim'},\n",
       "     {u'id': u'607905185962355', u'name': u'Daniel Hwang'},\n",
       "     {u'id': u'871653142878843', u'name': u'Sam Nam'}],\n",
       "    u'paging': {u'cursors': {u'after': u'ODcxNjUzMTQyODc4ODQz',\n",
       "      u'before': u'MTAxNTUzNDc3MTIxNTEyNTgZD'},\n",
       "     u'next': u'https://graph.facebook.com/v2.2/10153515548171271_10154559621351271/likes?access_token=EAACEdEose0cBAFN0pvxm9APNvXZAP1NHmQrDIDmooIFnnuERxivy65FSsTauwz7sX1FT1KRWyR086nehAzga7TlEMaNykm4IKmqxmoZBbIqXgptV04JGC5bpgvujPhHPkFKKkbvf0ZCZBzRy2GiGO68l61gC6e23Cihf5LKfUgZDZD&limit=25&after=ODcxNjUzMTQyODc4ODQz'}},\n",
       "   u'message': u'If you don\\u2019t vote tomorrow, the ballot boxes will be lighter. If the ballot boxes are lighter, the poll worker will think they\\u2019re stronger than they really are. That poll worker will try to bully a meathead and will get their butt kicked. The meathead will feel bad and go grab a burger to comfort themselves. In fact, the meathead will feel so bad he\\u2019ll drop the burger on the floor while eating it. DON\\u2019T LET GOOD BURGERS FALL ON THE FLOOR. GO OUT AND VOTE!',\n",
       "   u'privacy': {u'allow': u'',\n",
       "    u'deny': u'10150386784941271,869795876370756,10152913135864668,10153744974125660,10154634023171449',\n",
       "    u'description': u'Friends; Except: Acquaintances',\n",
       "    u'friends': u'ALL_FRIENDS',\n",
       "    u'value': u'CUSTOM'},\n",
       "   u'status_type': u'mobile_status_update',\n",
       "   u'subscribed': True,\n",
       "   u'type': u'status',\n",
       "   u'updated_time': u'2016-11-08T03:14:30+0000'},\n",
       "  {u'actions': [{u'link': u'https://www.facebook.com/10153515548171271/posts/10154547133431271',\n",
       "     u'name': u'Comment'},\n",
       "    {u'link': u'https://www.facebook.com/10153515548171271/posts/10154547133431271',\n",
       "     u'name': u'Like'}],\n",
       "   u'comments': {u'data': [{u'can_remove': False,\n",
       "      u'created_time': u'2016-11-03T21:35:59+0000',\n",
       "      u'from': {u'id': u'10204014933427961', u'name': u'Christine Eastburn'},\n",
       "      u'id': u'10154547133431271_10154547147396271',\n",
       "      u'like_count': 1,\n",
       "      u'message': u'Get better!',\n",
       "      u'user_likes': True},\n",
       "     {u'can_remove': False,\n",
       "      u'created_time': u'2016-11-03T23:10:31+0000',\n",
       "      u'from': {u'id': u'607905185962355', u'name': u'Daniel Hwang'},\n",
       "      u'id': u'10154547133431271_10154547354991271',\n",
       "      u'like_count': 1,\n",
       "      u'message': u'hope you get better!',\n",
       "      u'user_likes': True},\n",
       "     {u'can_remove': False,\n",
       "      u'created_time': u'2016-11-03T23:15:15+0000',\n",
       "      u'from': {u'id': u'10204014933427961', u'name': u'Christine Eastburn'},\n",
       "      u'id': u'10154547133431271_10154547372071271',\n",
       "      u'like_count': 1,\n",
       "      u'message': u'Drink honey ginger lemon \\U0001f34b tea! And eat spoonfuls of raw \\U0001f36f',\n",
       "      u'user_likes': True},\n",
       "     {u'can_remove': False,\n",
       "      u'created_time': u'2016-11-03T23:58:39+0000',\n",
       "      u'from': {u'id': u'10152693319441383', u'name': u'Berny Kim'},\n",
       "      u'id': u'10154547133431271_10154547535516271',\n",
       "      u'like_count': 1,\n",
       "      u'message': u'Hope you get well soon.',\n",
       "      u'user_likes': True},\n",
       "     {u'can_remove': False,\n",
       "      u'created_time': u'2016-11-04T00:44:36+0000',\n",
       "      u'from': {u'id': u'10154457212560066', u'name': u'Karen Kim'},\n",
       "      u'id': u'10154547133431271_10154547666651271',\n",
       "      u'like_count': 1,\n",
       "      u'message': u'Omg feel better!',\n",
       "      u'user_likes': True}],\n",
       "    u'paging': {u'cursors': {u'after': u'WTI5dGJXVnVkRjlqZAFhKemIzSTZANVEF4TlRRMU5EYzJOalkyTlRFeU56RTZANVFEzT0RJeU1ESTNOZAz09',\n",
       "      u'before': u'WTI5dGJXVnVkRjlqZAFhKemIzSTZANVEF4TlRRMU5EY3hORGN6T1RZAeU56RTZANVFEzT0RJd09EazFPUT09'}}},\n",
       "   u'created_time': u'2016-11-03T21:30:19+0000',\n",
       "   u'from': {u'id': u'10153515548171271', u'name': u'Aaron Kim'},\n",
       "   u'id': u'10153515548171271_10154547133431271',\n",
       "   u'is_expired': False,\n",
       "   u'is_hidden': False,\n",
       "   u'likes': {u'data': [{u'id': u'10106152478016556', u'name': u'Alice Won'},\n",
       "     {u'id': u'10152868298549177', u'name': u'Richard Kim'},\n",
       "     {u'id': u'10152595844261619', u'name': u'Sherine Amenda Dissanayake'},\n",
       "     {u'id': u'10203867844110203', u'name': u'Mikey Chang'},\n",
       "     {u'id': u'10153797149398438', u'name': u'David Jeon'},\n",
       "     {u'id': u'10202580226321523', u'name': u'Jeannie Meanie'},\n",
       "     {u'id': u'428760387268799', u'name': u'Mark Kang'}],\n",
       "    u'paging': {u'cursors': {u'after': u'NDI4NzYwMzg3MjY4Nzk5',\n",
       "      u'before': u'MTAxMDYxNTI0NzgwMTY1NTYZD'}}},\n",
       "   u'message': u'Flu with 1 week to go before race day. Awesome.',\n",
       "   u'privacy': {u'allow': u'',\n",
       "    u'deny': u'10150386784941271,869795876370756,10152913135864668,10153744974125660,10154634023171449',\n",
       "    u'description': u'Friends; Except: Acquaintances',\n",
       "    u'friends': u'ALL_FRIENDS',\n",
       "    u'value': u'CUSTOM'},\n",
       "   u'status_type': u'mobile_status_update',\n",
       "   u'subscribed': True,\n",
       "   u'type': u'status',\n",
       "   u'updated_time': u'2016-11-03T21:30:19+0000'},\n",
       "  {u'actions': [{u'link': u'https://www.facebook.com/10153515548171271/posts/10154538990696271',\n",
       "     u'name': u'Comment'},\n",
       "    {u'link': u'https://www.facebook.com/10153515548171271/posts/10154538990696271',\n",
       "     u'name': u'Like'}],\n",
       "   u'application': {u'category': u'Entertainment',\n",
       "    u'id': u'124024574287414',\n",
       "    u'link': u'https://www.instagram.com/',\n",
       "    u'name': u'Instagram',\n",
       "    u'namespace': u'instapp'},\n",
       "   u'caption': u'Instagram photo by Aaron Kim \\u2022 Nov 1, 2016 at 5:42am UTC',\n",
       "   u'created_time': u'2016-11-01T05:42:35+0000',\n",
       "   u'description': u\"Tagged along for a Halloween hike w the good folks at Christfit. Good way to start the week! But it's already November. Where'd the year go??\",\n",
       "   u'from': {u'id': u'10153515548171271', u'name': u'Aaron Kim'},\n",
       "   u'icon': u'https://www.facebook.com/images/icons/post.gif',\n",
       "   u'id': u'10153515548171271_10154538990696271',\n",
       "   u'is_expired': False,\n",
       "   u'is_hidden': False,\n",
       "   u'likes': {u'data': [{u'id': u'10103677043387433',\n",
       "      u'name': u'Tyler Herron'},\n",
       "     {u'id': u'10152370329084914', u'name': u'Nick Roy Cho'},\n",
       "     {u'id': u'10202856399563799', u'name': u'Jay M. Chang'},\n",
       "     {u'id': u'10103207374537574', u'name': u'Grace Yang'},\n",
       "     {u'id': u'10153119020437345', u'name': u'Queena Kim'},\n",
       "     {u'id': u'10152805734778873', u'name': u'Amanda Lim'},\n",
       "     {u'id': u'10202766869306700', u'name': u'Carol Chung-No'},\n",
       "     {u'id': u'10154457212560066', u'name': u'Karen Kim'},\n",
       "     {u'id': u'10103922742823756', u'name': u'Kevin Chon'},\n",
       "     {u'id': u'10102223100859860', u'name': u'January Lim'},\n",
       "     {u'id': u'10152881118912129', u'name': u'Jen Ma'},\n",
       "     {u'id': u'10155807223180263', u'name': u'Grace Cho'},\n",
       "     {u'id': u'10152844911452631', u'name': u'Dean Hur'},\n",
       "     {u'id': u'10152768072188835', u'name': u'Peter Bae'},\n",
       "     {u'id': u'10102939960198098', u'name': u'Mich Lin'}],\n",
       "    u'paging': {u'cursors': {u'after': u'MTAxMDI5Mzk5NjAxOTgwOTgZD',\n",
       "      u'before': u'MTAxMDM2NzcwNDMzODc0MzMZD'}}},\n",
       "   u'link': u'https://www.facebook.com/photo.php?fbid=10154538990716271&set=a.10151253946156271.511183.524581270&type=3',\n",
       "   u'message': u\"Tagged along for a Halloween hike w the good folks at Christfit. Good way to start the week! But it's already November. Where'd the year go??\",\n",
       "   u'name': u'Instagram photo by Aaron Kim \\u2022 Nov 1, 2016 at 5:42am UTC',\n",
       "   u'object_id': u'10154538990716271',\n",
       "   u'picture': u'https://scontent.xx.fbcdn.net/v/t1.0-0/s130x130/14956605_10154538990716271_1367108930839714197_n.jpg?oh=723c861f896d437596b883718562c9fd&oe=58C20B48',\n",
       "   u'place': {u'id': u'170442313106878',\n",
       "    u'location': {u'city': u'Altadena',\n",
       "     u'country': u'United States',\n",
       "     u'latitude': Decimal('34.204032626371'),\n",
       "     u'longitude': Decimal('-118.13054080357'),\n",
       "     u'state': u'CA',\n",
       "     u'zip': u'91001'},\n",
       "    u'name': u'Echo Mountain Hiking Trail'},\n",
       "   u'privacy': {u'allow': u'',\n",
       "    u'deny': u'',\n",
       "    u'description': u'Your friends',\n",
       "    u'friends': u'',\n",
       "    u'value': u'ALL_FRIENDS'},\n",
       "   u'status_type': u'added_photos',\n",
       "   u'story': u'Aaron Kim at Echo Mountain Hiking Trail.',\n",
       "   u'story_tags': {u'0': [{u'id': u'10153515548171271',\n",
       "      u'length': 9,\n",
       "      u'name': u'Aaron Kim',\n",
       "      u'offset': 0,\n",
       "      u'type': u'user'}],\n",
       "    u'13': [{u'id': u'170442313106878',\n",
       "      u'length': 26,\n",
       "      u'name': u'Echo Mountain Hiking Trail',\n",
       "      u'offset': 13,\n",
       "      u'type': u'page'}]},\n",
       "   u'subscribed': True,\n",
       "   u'type': u'photo',\n",
       "   u'updated_time': u'2016-11-01T05:42:35+0000'},\n",
       "  {u'actions': [{u'link': u'https://www.facebook.com/10153515548171271/posts/10154531184166271',\n",
       "     u'name': u'Comment'},\n",
       "    {u'link': u'https://www.facebook.com/10153515548171271/posts/10154531184166271',\n",
       "     u'name': u'Like'}],\n",
       "   u'application': {u'category': u'Entertainment',\n",
       "    u'id': u'124024574287414',\n",
       "    u'link': u'https://www.instagram.com/',\n",
       "    u'name': u'Instagram',\n",
       "    u'namespace': u'instapp'},\n",
       "   u'caption': u'Instagram photo by Aaron Kim \\u2022 Oct 29, 2016 at 9:13pm UTC',\n",
       "   u'comments': {u'data': [{u'can_remove': False,\n",
       "      u'created_time': u'2016-10-29T21:20:10+0000',\n",
       "      u'from': {u'id': u'10103596790370086', u'name': u'Jinkyung Lee'},\n",
       "      u'id': u'10154531184176271_10154531192566271',\n",
       "      u'like_count': 1,\n",
       "      u'message': u\"That's a great detour\",\n",
       "      u'user_likes': True},\n",
       "     {u'can_remove': False,\n",
       "      u'created_time': u'2016-10-30T01:50:14+0000',\n",
       "      u'from': {u'id': u'10203646744908206', u'name': u'David C. Lee'},\n",
       "      u'id': u'10154531184176271_10154531924081271',\n",
       "      u'like_count': 1,\n",
       "      u'message': u'Bacon donut holes for $1? Nice!!',\n",
       "      u'user_likes': True}],\n",
       "    u'paging': {u'cursors': {u'after': u'WTI5dGJXVnVkRjlqZAFhKemIzSTZANVEF4TlRRMU16RTVNalF3T0RFeU56RTZANVFEzTnpjNU1qSXhOQT09',\n",
       "      u'before': u'WTI5dGJXVnVkRjlqZAFhKemIzSTZANVEF4TlRRMU16RXhPVEkxTmpZAeU56RTZANVFEzTnpjM05qQXhNQT09'}}},\n",
       "   u'created_time': u'2016-10-29T21:17:43+0000',\n",
       "   u'description': u'Was looking for a costume but took a detour and got distracted. \\U0001f62c',\n",
       "   u'from': {u'id': u'10153515548171271', u'name': u'Aaron Kim'},\n",
       "   u'icon': u'https://www.facebook.com/images/icons/post.gif',\n",
       "   u'id': u'10153515548171271_10154531184166271',\n",
       "   u'is_expired': False,\n",
       "   u'is_hidden': False,\n",
       "   u'likes': {u'data': [{u'id': u'10202766869306700',\n",
       "      u'name': u'Carol Chung-No'},\n",
       "     {u'id': u'10153797149398438', u'name': u'David Jeon'},\n",
       "     {u'id': u'10152924592213953', u'name': u'Eddie Chae'},\n",
       "     {u'id': u'1473275329556441', u'name': u'David Shimmy'},\n",
       "     {u'id': u'10152483663477677', u'name': u'Patrik Kim'},\n",
       "     {u'id': u'10157176274265234', u'name': u'Cathy Kim'},\n",
       "     {u'id': u'10202856399563799', u'name': u'Jay M. Chang'},\n",
       "     {u'id': u'10102950804271414', u'name': u'John Myoung'},\n",
       "     {u'id': u'10100517670755559', u'name': u'Joyce Cho'},\n",
       "     {u'id': u'971277340304', u'name': u'Christine Ferguson'},\n",
       "     {u'id': u'889128577873838', u'name': u'JH Ko'},\n",
       "     {u'id': u'10203646744908206', u'name': u'David C. Lee'},\n",
       "     {u'id': u'871653142878843', u'name': u'Sam Nam'},\n",
       "     {u'id': u'10152868298549177', u'name': u'Richard Kim'},\n",
       "     {u'id': u'607905185962355', u'name': u'Daniel Hwang'},\n",
       "     {u'id': u'10205257584011386', u'name': u'Kristopher Donghyun Cha'},\n",
       "     {u'id': u'10155290563905557', u'name': u'Brian Cho'},\n",
       "     {u'id': u'10152451761034300', u'name': u'Bryan Hsaio'},\n",
       "     {u'id': u'10103207374537574', u'name': u'Grace Yang'},\n",
       "     {u'id': u'10152535301186084', u'name': u'Hyunie Choi'},\n",
       "     {u'id': u'10102158252242064', u'name': u'Stephanie Lim'},\n",
       "     {u'id': u'10202910864627022', u'name': u'JFree Yu'},\n",
       "     {u'id': u'10152025258512466', u'name': u'Audrey Kim'},\n",
       "     {u'id': u'845291462198528', u'name': u'Jenny Han'},\n",
       "     {u'id': u'10152056080601127', u'name': u'Diana Chang'}],\n",
       "    u'paging': {u'cursors': {u'after': u'MTAxNTIwNTYwODA2MDExMjcZD',\n",
       "      u'before': u'MTAyMDI3NjY4NjkzMDY3MDAZD'},\n",
       "     u'next': u'https://graph.facebook.com/v2.2/10153515548171271_10154531184166271/likes?access_token=EAACEdEose0cBAFN0pvxm9APNvXZAP1NHmQrDIDmooIFnnuERxivy65FSsTauwz7sX1FT1KRWyR086nehAzga7TlEMaNykm4IKmqxmoZBbIqXgptV04JGC5bpgvujPhHPkFKKkbvf0ZCZBzRy2GiGO68l61gC6e23Cihf5LKfUgZDZD&limit=25&after=MTAxNTIwNTYwODA2MDExMjcZD'}},\n",
       "   u'link': u'https://www.facebook.com/photo.php?fbid=10154531184176271&set=a.10151253946156271.511183.524581270&type=3',\n",
       "   u'message': u'Was looking for a costume but took a detour and got distracted. \\U0001f62c',\n",
       "   u'name': u'Instagram photo by Aaron Kim \\u2022 Oct 29, 2016 at 9:13pm UTC',\n",
       "   u'object_id': u'10154531184176271',\n",
       "   u'picture': u'https://scontent.xx.fbcdn.net/v/t1.0-0/p130x130/14732148_10154531184176271_740980579667759522_n.jpg?oh=6b63059fbfa5f7e4f6d4b839ef92c0a0&oe=58C61333',\n",
       "   u'place': {u'id': u'133026546773196',\n",
       "    u'location': {u'city': u'Los Angeles',\n",
       "     u'country': u'United States',\n",
       "     u'latitude': Decimal('34.048925395375'),\n",
       "     u'longitude': Decimal('-118.24051062316'),\n",
       "     u'state': u'CA',\n",
       "     u'street': u'134 Japanese Village Plaza, Bldg E',\n",
       "     u'zip': u'90012'},\n",
       "    u'name': u'Cafe Dulce'},\n",
       "   u'privacy': {u'allow': u'',\n",
       "    u'deny': u'',\n",
       "    u'description': u'Your friends',\n",
       "    u'friends': u'',\n",
       "    u'value': u'ALL_FRIENDS'},\n",
       "   u'status_type': u'added_photos',\n",
       "   u'story': u'Aaron Kim at Cafe Dulce.',\n",
       "   u'story_tags': {u'0': [{u'id': u'10153515548171271',\n",
       "      u'length': 9,\n",
       "      u'name': u'Aaron Kim',\n",
       "      u'offset': 0,\n",
       "      u'type': u'user'}],\n",
       "    u'13': [{u'id': u'133026546773196',\n",
       "      u'length': 10,\n",
       "      u'name': u'Cafe Dulce',\n",
       "      u'offset': 13,\n",
       "      u'type': u'page'}]},\n",
       "   u'subscribed': True,\n",
       "   u'type': u'photo',\n",
       "   u'updated_time': u'2016-10-30T01:50:14+0000'},\n",
       "  {u'actions': [{u'link': u'https://www.facebook.com/10153515548171271/posts/10154521120441271',\n",
       "     u'name': u'Comment'},\n",
       "    {u'link': u'https://www.facebook.com/10153515548171271/posts/10154521120441271',\n",
       "     u'name': u'Like'}],\n",
       "   u'comments': {u'data': [{u'can_remove': False,\n",
       "      u'created_time': u'2016-10-26T07:59:57+0000',\n",
       "      u'from': {u'id': u'10155290563905557', u'name': u'Brian Cho'},\n",
       "      u'id': u'10154521120441271_10154521139406271',\n",
       "      u'like_count': 1,\n",
       "      u'message': u\"Dude..I'd be down to check out honeybird with you depending when\",\n",
       "      u'user_likes': True},\n",
       "     {u'can_remove': False,\n",
       "      u'created_time': u'2016-10-26T15:46:00+0000',\n",
       "      u'from': {u'id': u'10102223100859860', u'name': u'January Lim'},\n",
       "      u'id': u'10154521120441271_10154521870246271',\n",
       "      u'like_count': 1,\n",
       "      u'message': u'hey for howlin, if you go week after 5th count me in!',\n",
       "      u'user_likes': True},\n",
       "     {u'can_remove': False,\n",
       "      u'created_time': u'2016-10-28T01:34:34+0000',\n",
       "      u'from': {u'id': u'10153021260727741', u'name': u'Charles Kim'},\n",
       "      u'id': u'10154521120441271_10154526059736271',\n",
       "      u'like_count': 0,\n",
       "      u'message': u\"Tokyo Fried Chicken's over rated, probably the worst fried chicken I've ever had...\",\n",
       "      u'user_likes': False},\n",
       "     {u'can_remove': False,\n",
       "      u'created_time': u'2016-10-28T07:20:49+0000',\n",
       "      u'from': {u'id': u'10102869825608331', u'name': u'Allen Suh'},\n",
       "      u'id': u'10154521120441271_10154526581406271',\n",
       "      u'like_count': 1,\n",
       "      u'message': u'I shall join.',\n",
       "      u'user_likes': True}],\n",
       "    u'paging': {u'cursors': {u'after': u'WTI5dGJXVnVkRjlqZAFhKemIzSTZANVEF4TlRRMU1qWTFPREUwTURZAeU56RTZANVFEzTnpZAek9USTBPUT09',\n",
       "      u'before': u'WTI5dGJXVnVkRjlqZAFhKemIzSTZANVEF4TlRRMU1qRXhNemswTURZAeU56RTZANVFEzTnpRMk9EYzVOdz09'}}},\n",
       "   u'created_time': u'2016-10-26T07:49:18+0000',\n",
       "   u'from': {u'id': u'10153515548171271', u'name': u'Aaron Kim'},\n",
       "   u'id': u'10153515548171271_10154521120441271',\n",
       "   u'is_expired': False,\n",
       "   u'is_hidden': False,\n",
       "   u'likes': {u'data': [{u'id': u'10102869825608331', u'name': u'Allen Suh'},\n",
       "     {u'id': u'10155596432380063', u'name': u'David Suen'},\n",
       "     {u'id': u'10152595844261619', u'name': u'Sherine Amenda Dissanayake'},\n",
       "     {u'id': u'428760387268799', u'name': u'Mark Kang'},\n",
       "     {u'id': u'607905185962355', u'name': u'Daniel Hwang'},\n",
       "     {u'id': u'10153797149398438', u'name': u'David Jeon'},\n",
       "     {u'id': u'10153119020437345', u'name': u'Queena Kim'},\n",
       "     {u'id': u'10102939960198098', u'name': u'Mich Lin'},\n",
       "     {u'id': u'970084403006287', u'name': u'Laura Lee'}],\n",
       "    u'paging': {u'cursors': {u'after': u'OTcwMDg0NDAzMDA2Mjg3',\n",
       "      u'before': u'MTAxMDI4Njk4MjU2MDgzMzEZD'}}},\n",
       "   u'message': u\"Gus' - Check. Next up (in no particular order with the first one possibly being this Sat), Howlin Ray's, Honeybird, Tokyo Fried Chicken Co, or Wong Java House. Let's roll.\",\n",
       "   u'privacy': {u'allow': u'',\n",
       "    u'deny': u'10150386784941271,869795876370756,10152913135864668,10153744974125660,10154634023171449',\n",
       "    u'description': u'Friends; Except: Acquaintances',\n",
       "    u'friends': u'ALL_FRIENDS',\n",
       "    u'value': u'CUSTOM'},\n",
       "   u'status_type': u'mobile_status_update',\n",
       "   u'subscribed': True,\n",
       "   u'type': u'status',\n",
       "   u'updated_time': u'2016-10-28T07:20:49+0000'},\n",
       "  {u'actions': [{u'link': u'https://www.facebook.com/10153515548171271/posts/10154518257586271',\n",
       "     u'name': u'Comment'},\n",
       "    {u'link': u'https://www.facebook.com/10153515548171271/posts/10154518257586271',\n",
       "     u'name': u'Like'}],\n",
       "   u'comments': {u'data': [{u'can_remove': False,\n",
       "      u'created_time': u'2016-10-25T17:14:18+0000',\n",
       "      u'from': {u'id': u'10153797149398438', u'name': u'David Jeon'},\n",
       "      u'id': u'10154518257586271_10154519375941271',\n",
       "      u'like_count': 0,\n",
       "      u'message': u\"I'll see you there!\",\n",
       "      u'user_likes': False}],\n",
       "    u'paging': {u'cursors': {u'after': u'WTI5dGJXVnVkRjlqZAFhKemIzSTZANVEF4TlRRMU1Ua3pOelU1TkRFeU56RTZANVFEzTnpReE5UWTFPQT09',\n",
       "      u'before': u'WTI5dGJXVnVkRjlqZAFhKemIzSTZANVEF4TlRRMU1Ua3pOelU1TkRFeU56RTZANVFEzTnpReE5UWTFPQT09'}}},\n",
       "   u'created_time': u'2016-10-25T07:35:30+0000',\n",
       "   u'description': u'<#\\ub7ed\\ud0a4>(Luck-Key) 10\\uc6d4 21\\uc77c \\ubbf8\\uad6d&\\uce90\\ub098\\ub2e4 \\uc0c1\\uc601\\uc9c0\\uc5ed \\ubc0f \\uadf9\\uc7a5 \\uc548\\ub0b4!\\n#Luck_Key is in Cinemas on October 21 in #USA & #CANADA. Check out the list of cities and cinemas! \\n\\n#LA, #NewYork, #Toronto, #Vancouver, #Atlanta, #Baltimore, #Calgary, #Chicago, #Dallas, #Edmonton, #Hawaii, #Houston, #LasVegas, #Philadelphia, #SanDiego, #SanFrancisco, #Seattle, #WashingtonDC, \\n\\nLA & Orange County\\n- LA CGV   =>  http://bit.ly/2dxq9UY\\n- Regal La Habra Stadium 16   =>  http://regmovi.es/2eDtRPn\\n- Regal University Town Center 6   =>  http://regmovi.es/2ejGwav\\n- AMC Fullerton 20   =>  http://bit.ly/2estJhN\\n\\nNew York & New Jersey \\n- Edgewater Multiplex 16   =>  http://bit.ly/2ePzycj\\n- College Point Multiplex Cinema (28\\uc77c \\uac1c\\ubd09, Opening from 28th)   =>  http://bit.ly/2eMdQBJ\\n\\nToronto\\n- Cineplex Cinemas Empress Walk   =>  http://bit.ly/2dN50E0\\n- Cineplex Yonge & Dundas   =>  http://bit.ly/2e4C79k\\n\\nVancouver \\n- Cineplex Silvercity 20 Coquitlam   =>  http://bit.ly/2ejMVyU\\n- Cineplex International Village   =>  http://bit.ly/2ejLF2r\\n\\nAtlanta\\n- AMC Sugarloaf Mills 18   =>  http://bit.ly/2estJhN\\n\\nBaltimore\\n- Cinemark Egyptian 24   =>  http://bit.ly/2dmdbuS\\n\\nCalgary\\n- Cineplex Westhills 10    =>  http://bit.ly/2eDy2e9\\n\\nChicago \\n- AMC Showplace 12 Niles with IMAX   =>  http://bit.ly/2estJhN\\n\\nDallas\\n- AMC Grapevine Mills 30   =>  http://bit.ly/2estJhN\\n\\nEdmonton\\n- Cineplex Movies 12 (28\\uc77c \\uac1c\\ubd09, Opening from 28th)   =>  http://bit.ly/2ejLF2r\\n\\nHawaii (Honolulu)\\n- Cons Pearlridge (28\\uc77c \\uac1c\\ubd09, Opening from 28th)   =>  http://bit.ly/2dpIdwX\\n\\nHouston\\n- AMC Studio 30 Houston with IMAX   =>  http://bit.ly/2estJhN\\n\\nLas Vegas\\n- Regal Village Square Stadium 18 (28\\uc77c \\uac1c\\ubd09, Opening from 28th)   =>  http://regmovi.es/2eDwIIh\\n\\nPhiladelphia\\n- AMC Plymouth Meeting 12   =>  http://bit.ly/2estJhN\\n\\nSan Diego\\n- AMC Fashion Valley 18   =>  http://bit.ly/2estJhN\\n\\nSan Francisco\\n- AMC Cupertino Square 16   =>  http://bit.ly/2estJhN\\n\\nSeattle\\n- AMC Alderwood 16   =>  http://bit.ly/2estJhN\\n- Cinemark Century Federal Way(10\\uc6d4 27\\uc77c\\uae4c\\uc9c0 \\uc0c1\\uc601, Ending on 27th)   =>  http://bit.ly/2dpGkAv\\n\\nWashington, DC\\n- Regal Fairfax Town Center 10   =>   http://regmovi.es/2dmaUjd\\n\\n#Synopsis\\n\\ub0c9\\ud639\\ud55c \\ud0ac\\ub7ec \\ud615\\uc6b1(\\uc720\\ud574\\uc9c4)\\uc740 \\uc0ac\\uac74 \\ucc98\\ub9ac \\ud6c4 \\uc6b0\\uc5f0\\ud788 \\ub4e4\\ub978 \\n\\ubaa9\\uc695\\ud0d5\\uc5d0\\uc11c \\ube44\\ub204\\ub97c \\ubc1f\\uace0 \\ub118\\uc5b4\\uc838 \\uacfc\\uac70\\uc758 \\uae30\\uc5b5\\uc744 \\uc783\\uac8c \\ub41c\\ub2e4. \\n\\uc778\\uae30\\ub3c4, \\uc0b6\\uc758 \\uc758\\uc695\\ub3c4 \\uc5c6\\uc5b4 \\uc8fd\\uae30\\ub85c \\uacb0\\uc2ec\\ud55c \\ubb34\\uba85\\ubc30\\uc6b0 \\uc7ac\\uc131(\\uc774\\uc900)\\uc740 \\uc2e0\\ubcc0 \\uc815\\ub9ac\\ub97c \\uc704\\ud574 \\ub4e4\\ub978 \\ubaa9\\uc695\\ud0d5\\uc5d0\\uc11c \\n\\uadf8\\ub7f0 \\ud615\\uc6b1\\uc744 \\ubcf4\\uac8c \\ub418\\uace0, \\uc790\\uc2e0\\uacfc \\uadf8\\uc758 \\ubaa9\\uc695\\ud0d5 \\ud0a4\\ub97c \\ubc14\\uafd4 \\ub3c4\\ub9dd\\uce5c\\ub2e4. \\n  \\n\\uc774\\ud6c4 \\ud615\\uc6b1\\uc740 \\uc790\\uc2e0\\uc774 \\uc7ac\\uc131\\uc774\\ub77c\\uace0 \\uc0dd\\uac01\\ud55c \\ucc44, \\ubc30\\uc6b0\\ub85c \\uc131\\uacf5\\ud558\\uae30 \\uc704\\ud574 \\ub178\\ub825\\ud558\\ub294\\ub370\\u2026 \\n  \\n\\uc778\\uc0dd\\uc5d0 \\ub2e8 \\ud55c\\ubc88 \\ucc3e\\uc544\\uc628 \\ucd08\\ub300\\ud615 \\uae30\\ud68c! \\ucd08\\ud2b9\\uae09 \\ubc18\\uc804! \\n\\uc774\\uac83\\uc774 LUCK.KEY\\ub2e4!\\n\\nHyung-wook, an infamous assassin known for his perfection, he slips on soap at a public sauna and passes out. Jae-sung, a not famous unknown actor who\\u2019s hit rock bottom, witnesses the accident and switches his locker key with Hyung-wook\\u2019s. Jae-sung opens the locker to find the key to a fancy car which leads him to a luxurious condo along with the full wealth and secrets of a successful hit man.\\n \\nOn the other hand, Hyung-wook wakes up with amnesia. And the only clue he has for his identity are the outstanding payment bills. With the help of a paramedic, he finds his (actually Jae-sung\\u2019s) place discovering that he\\u2019s a totally broke nameless actor. While Hyung-wook struggles to remember, he tries to \\u2018continue\\u2019 his life as an actor. And by irony of fate, with the help of real-life action moves that his body is used to, he soon becomes the new action hero on TV. And with the continuous shooting of the action sequences, his memory starts to return.',\n",
       "   u'from': {u'id': u'10153515548171271', u'name': u'Aaron Kim'},\n",
       "   u'id': u'10153515548171271_10154518257586271',\n",
       "   u'is_expired': False,\n",
       "   u'is_hidden': False,\n",
       "   u'likes': {u'data': [{u'id': u'10153797149398438', u'name': u'David Jeon'}],\n",
       "    u'paging': {u'cursors': {u'after': u'MTAxNTM3OTcxNDkzOTg0MzgZD',\n",
       "      u'before': u'MTAxNTM3OTcxNDkzOTg0MzgZD'}}},\n",
       "   u'link': u'https://www.facebook.com/kmovie/videos/860438490758244/',\n",
       "   u'message': u\"Lawls. Anyone up to catch this tomorrow night? Limited engagement (tomorrow's the last day at CGV LA). 9:45 show. HMU.\",\n",
       "   u'name': u'Kmovie - JBG Pictures USA',\n",
       "   u'picture': u'https://scontent.xx.fbcdn.net/v/t15.0-10/s130x130/14510793_860442017424558_3157014482564153344_n.jpg?oh=d09c3d8f9f9e36e6fbcd52eed949f33b&oe=58D4DDAA',\n",
       "   u'privacy': {u'allow': u'',\n",
       "    u'deny': u'10150386784941271,869795876370756,10152913135864668,10153744974125660,10154634023171449',\n",
       "    u'description': u'Friends; Except: Acquaintances',\n",
       "    u'friends': u'ALL_FRIENDS',\n",
       "    u'value': u'CUSTOM'},\n",
       "   u'source': u'https://scontent.xx.fbcdn.net/v/t42.1790-4/14628352_187311081678018_4066782413777272832_n.mp4?efg=eyJ2ZW5jb2RlX3RhZyI6InN2ZV9zZCJ9&oh=52680c1e69290aeac2697a166f33369d&oe=5826E659',\n",
       "   u'status_type': u'mobile_status_update',\n",
       "   u'story': u\"Aaron Kim shared Kmovie - JBG Pictures USA's video.\",\n",
       "   u'story_tags': {u'0': [{u'id': u'10153515548171271',\n",
       "      u'length': 9,\n",
       "      u'name': u'Aaron Kim',\n",
       "      u'offset': 0,\n",
       "      u'type': u'user'}],\n",
       "    u'17': [{u'id': u'315562091912556',\n",
       "      u'length': 25,\n",
       "      u'name': u'Kmovie - JBG Pictures USA',\n",
       "      u'offset': 17,\n",
       "      u'type': u'page'}],\n",
       "    u'45': [{u'id': u'860438490758244',\n",
       "      u'length': 5,\n",
       "      u'name': u'Luck-Key',\n",
       "      u'offset': 45}]},\n",
       "   u'subscribed': True,\n",
       "   u'type': u'video',\n",
       "   u'updated_time': u'2016-10-25T17:14:18+0000'},\n",
       "  {u'actions': [{u'link': u'https://www.facebook.com/10153515548171271/posts/10154516858186271',\n",
       "     u'name': u'Comment'},\n",
       "    {u'link': u'https://www.facebook.com/10153515548171271/posts/10154516858186271',\n",
       "     u'name': u'Like'}],\n",
       "   u'caption': u'discoverlosangeles.com',\n",
       "   u'comments': {u'data': [{u'can_remove': False,\n",
       "      u'created_time': u'2016-10-24T20:18:57+0000',\n",
       "      u'from': {u'id': u'10205770863493588', u'name': u'Jumel Datoon Sulabo'},\n",
       "      u'id': u'10154516858186271_10154516897381271',\n",
       "      u'like_count': 1,\n",
       "      u'message': u'That list looks legit, I see howlin rays haha',\n",
       "      u'user_likes': True},\n",
       "     {u'can_remove': False,\n",
       "      u'created_time': u'2016-10-25T07:06:51+0000',\n",
       "      u'from': {u'id': u'10106152478016556', u'name': u'Alice Won'},\n",
       "      u'id': u'10154516858186271_10154518186636271',\n",
       "      u'like_count': 2,\n",
       "      u'message': u'Dude. Seriously been craving fried chicken!!',\n",
       "      u'user_likes': True}],\n",
       "    u'paging': {u'cursors': {u'after': u'WTI5dGJXVnVkRjlqZAFhKemIzSTZANVEF4TlRRMU1UZA3hPRFkyTXpZAeU56RTZANVFEzTnpNM09USXhNUT09',\n",
       "      u'before': u'WTI5dGJXVnVkRjlqZAFhKemIzSTZANVEF4TlRRMU1UWTRPVGN6T0RFeU56RTZANVFEzTnpNME1ETXpOdz09'}}},\n",
       "   u'created_time': u'2016-10-24T19:57:08+0000',\n",
       "   u'description': u'Read on for 10 of L.A.\\u2019s top fried chicken options, mostly battered and served on the bone.',\n",
       "   u'from': {u'id': u'10153515548171271', u'name': u'Aaron Kim'},\n",
       "   u'icon': u'https://www.facebook.com/images/icons/post.gif',\n",
       "   u'id': u'10153515548171271_10154516858186271',\n",
       "   u'is_expired': False,\n",
       "   u'is_hidden': False,\n",
       "   u'likes': {u'data': [{u'id': u'10153265275179209', u'name': u'Ara Koh'},\n",
       "     {u'id': u'10153021260727741', u'name': u'Charles Kim'},\n",
       "     {u'id': u'10106152478016556', u'name': u'Alice Won'},\n",
       "     {u'id': u'10102939960198098', u'name': u'Mich Lin'},\n",
       "     {u'id': u'10154457212560066', u'name': u'Karen Kim'},\n",
       "     {u'id': u'10152881118912129', u'name': u'Jen Ma'},\n",
       "     {u'id': u'10153797149398438', u'name': u'David Jeon'},\n",
       "     {u'id': u'607905185962355', u'name': u'Daniel Hwang'},\n",
       "     {u'id': u'10205770863493588', u'name': u'Jumel Datoon Sulabo'},\n",
       "     {u'id': u'10202580226321523', u'name': u'Jeannie Meanie'}],\n",
       "    u'paging': {u'cursors': {u'after': u'MTAyMDI1ODAyMjYzMjE1MjMZD',\n",
       "      u'before': u'MTAxNTMyNjUyNzUxNzkyMDkZD'}}},\n",
       "   u'link': u'http://www.discoverlosangeles.com/blog/best-fried-chicken-los-angeles',\n",
       "   u'message': u'Lets go. All of them. At once. Kidding about the \"at once.\" Maybe.',\n",
       "   u'name': u'The Best Fried Chicken in Los Angeles: Fall 2016',\n",
       "   u'picture': u'https://external.xx.fbcdn.net/safe_image.php?d=AQBTxtbDL185XuCm&w=130&h=130&url=http%3A%2F%2Fwww.discoverlosangeles.com%2Fsites%2Fdefault%2Ffiles%2Fmedia%2FRestaurants%2Ffarmshop-fried-chicken.jpg&cfs=1',\n",
       "   u'privacy': {u'allow': u'',\n",
       "    u'deny': u'10150386784941271,869795876370756,10152913135864668,10153744974125660,10154634023171449',\n",
       "    u'description': u'Friends; Except: Acquaintances',\n",
       "    u'friends': u'ALL_FRIENDS',\n",
       "    u'value': u'CUSTOM'},\n",
       "   u'shares': {u'count': 1},\n",
       "   u'status_type': u'shared_story',\n",
       "   u'subscribed': True,\n",
       "   u'type': u'link',\n",
       "   u'updated_time': u'2016-10-25T07:06:51+0000'},\n",
       "  {u'actions': [{u'link': u'https://www.facebook.com/10153515548171271/posts/10154516703026271',\n",
       "     u'name': u'Comment'},\n",
       "    {u'link': u'https://www.facebook.com/10153515548171271/posts/10154516703026271',\n",
       "     u'name': u'Like'}],\n",
       "   u'caption': u'bloomberg.com',\n",
       "   u'comments': {u'data': [{u'can_remove': False,\n",
       "      u'created_time': u'2016-10-24T20:03:26+0000',\n",
       "      u'from': {u'id': u'10154052660955321', u'name': u'Sa Rah Yi'},\n",
       "      u'id': u'10154516703026271_10154516871171271',\n",
       "      u'like_count': 1,\n",
       "      u'message': u'I know lots! \\U0001f601',\n",
       "      u'user_likes': True}],\n",
       "    u'paging': {u'cursors': {u'after': u'WTI5dGJXVnVkRjlqZAFhKemIzSTZANVEF4TlRRMU1UWTROekV4TnpFeU56RTZANVFEzTnpNek9UUXdOZAz09',\n",
       "      u'before': u'WTI5dGJXVnVkRjlqZAFhKemIzSTZANVEF4TlRRMU1UWTROekV4TnpFeU56RTZANVFEzTnpNek9UUXdOZAz09'}}},\n",
       "   u'created_time': u'2016-10-24T18:36:22+0000',\n",
       "   u'description': u'When it comes to falling in love, it\\u2019s not just fate that brings people together',\n",
       "   u'from': {u'id': u'10153515548171271', u'name': u'Aaron Kim'},\n",
       "   u'icon': u'https://www.facebook.com/images/icons/post.gif',\n",
       "   u'id': u'10153515548171271_10154516703026271',\n",
       "   u'is_expired': False,\n",
       "   u'is_hidden': False,\n",
       "   u'likes': {u'data': [{u'id': u'701793423306854',\n",
       "      u'name': u'David Storm Lee'},\n",
       "     {u'id': u'10152947140887478', u'name': u'Jules Heo'},\n",
       "     {u'id': u'428760387268799', u'name': u'Mark Kang'}],\n",
       "    u'paging': {u'cursors': {u'after': u'NDI4NzYwMzg3MjY4Nzk5',\n",
       "      u'before': u'NzAxNzkzNDIzMzA2ODU0'}}},\n",
       "   u'link': u'http://www.bloomberg.com/graphics/2016-who-marries-whom/',\n",
       "   u'message': u'So, I guess I should be narrowing my scope to teachers and nurses? \\U0001f602',\n",
       "   u'name': u'This Chart Shows Who Marries CEOs, Doctors, Chefs and Janitors',\n",
       "   u'privacy': {u'allow': u'',\n",
       "    u'deny': u'10150386784941271,869795876370756,10152913135864668,10153744974125660,10154634023171449',\n",
       "    u'description': u'Friends; Except: Acquaintances',\n",
       "    u'friends': u'ALL_FRIENDS',\n",
       "    u'value': u'CUSTOM'},\n",
       "   u'status_type': u'shared_story',\n",
       "   u'subscribed': True,\n",
       "   u'type': u'link',\n",
       "   u'updated_time': u'2016-10-24T20:03:26+0000'},\n",
       "  {u'actions': [{u'link': u'https://www.facebook.com/10153515548171271/posts/10154515420476271',\n",
       "     u'name': u'Comment'},\n",
       "    {u'link': u'https://www.facebook.com/10153515548171271/posts/10154515420476271',\n",
       "     u'name': u'Like'}],\n",
       "   u'created_time': u'2016-10-24T07:06:32+0000',\n",
       "   u'from': {u'id': u'10153515548171271', u'name': u'Aaron Kim'},\n",
       "   u'id': u'10153515548171271_10154515420476271',\n",
       "   u'is_expired': False,\n",
       "   u'is_hidden': False,\n",
       "   u'likes': {u'data': [{u'id': u'10204696019094910',\n",
       "      u'name': u'Jae F K Jr Jr.'},\n",
       "     {u'id': u'10205725829845420', u'name': u'Sue Mi Kim'},\n",
       "     {u'id': u'10102869825608331', u'name': u'Allen Suh'},\n",
       "     {u'id': u'10203646744908206', u'name': u'David C. Lee'},\n",
       "     {u'id': u'10152419149110850', u'name': u'Robin Lee'},\n",
       "     {u'id': u'845291462198528', u'name': u'Jenny Han'},\n",
       "     {u'id': u'10152056080601127', u'name': u'Diana Chang'},\n",
       "     {u'id': u'10102158252242064', u'name': u'Stephanie Lim'},\n",
       "     {u'id': u'607905185962355', u'name': u'Daniel Hwang'},\n",
       "     {u'id': u'10210815427172456', u'name': u'Michael Dougherty'},\n",
       "     {u'id': u'10103677043387433', u'name': u'Tyler Herron'},\n",
       "     {u'id': u'10208795328657449', u'name': u'Emeka Amene'},\n",
       "     {u'id': u'1181697101847220', u'name': u'Debora Chung'},\n",
       "     {u'id': u'10152595844261619', u'name': u'Sherine Amenda Dissanayake'},\n",
       "     {u'id': u'428760387268799', u'name': u'Mark Kang'},\n",
       "     {u'id': u'10205770863493588', u'name': u'Jumel Datoon Sulabo'},\n",
       "     {u'id': u'10154457212560066', u'name': u'Karen Kim'}],\n",
       "    u'paging': {u'cursors': {u'after': u'MTAxNTQ0NTcyMTI1NjAwNjYZD',\n",
       "      u'before': u'MTAyMDQ2OTYwMTkwOTQ5MTAZD'}}},\n",
       "   u'message': u\"So empty! This is fantastic. I know I'm going to pay for it tomorrow, but the race is just a few weeks away so gotta run. Help me \\uc9c0\\uc800\\uc4f0. \\U0001f613\",\n",
       "   u'place': {u'id': u'105946732779712',\n",
       "    u'location': {u'city': u'Los Angeles',\n",
       "     u'country': u'United States',\n",
       "     u'latitude': Decimal('34.062099573531'),\n",
       "     u'longitude': Decimal('-118.30623762112'),\n",
       "     u'state': u'CA',\n",
       "     u'street': u'3699 Wilshire Blvd',\n",
       "     u'zip': u'90010-2720'},\n",
       "    u'name': u'24 Hour Fitness - Mid Wilshire, CA'},\n",
       "   u'privacy': {u'allow': u'',\n",
       "    u'deny': u'10150386784941271,869795876370756,10152913135864668,10153744974125660,10154634023171449',\n",
       "    u'description': u'Friends; Except: Acquaintances',\n",
       "    u'friends': u'ALL_FRIENDS',\n",
       "    u'value': u'CUSTOM'},\n",
       "   u'status_type': u'mobile_status_update',\n",
       "   u'story': u'Aaron Kim at 24 Hour Fitness - Mid Wilshire, CA.',\n",
       "   u'story_tags': {u'0': [{u'id': u'10153515548171271',\n",
       "      u'length': 9,\n",
       "      u'name': u'Aaron Kim',\n",
       "      u'offset': 0,\n",
       "      u'type': u'user'}],\n",
       "    u'13': [{u'id': u'105946732779712',\n",
       "      u'length': 34,\n",
       "      u'name': u'24 Hour Fitness - Mid Wilshire, CA',\n",
       "      u'offset': 13,\n",
       "      u'type': u'page'}]},\n",
       "   u'subscribed': True,\n",
       "   u'type': u'status',\n",
       "   u'updated_time': u'2016-10-24T07:06:32+0000'},\n",
       "  {u'actions': [{u'link': u'https://www.facebook.com/10153515548171271/posts/10154514994086271',\n",
       "     u'name': u'Comment'},\n",
       "    {u'link': u'https://www.facebook.com/10153515548171271/posts/10154514994086271',\n",
       "     u'name': u'Like'}],\n",
       "   u'comments': {u'data': [{u'can_remove': False,\n",
       "      u'created_time': u'2016-10-24T02:54:47+0000',\n",
       "      u'from': {u'id': u'10152446032743043', u'name': u'Diana Cho'},\n",
       "      u'id': u'10154514994086271_10154515070401271',\n",
       "      u'like_count': 1,\n",
       "      u'message': u'Let me know the next time u go to study!',\n",
       "      u'user_likes': True},\n",
       "     {u'can_remove': False,\n",
       "      u'created_time': u'2016-10-24T03:01:59+0000',\n",
       "      u'from': {u'id': u'10154972940430646', u'name': u'Rosette K. Lee'},\n",
       "      u'id': u'10154514994086271_10154515080261271',\n",
       "      u'like_count': 1,\n",
       "      u'message': u'I studied there last night! They have fizzy peach.',\n",
       "      u'user_likes': True},\n",
       "     {u'can_remove': False,\n",
       "      u'created_time': u'2016-10-24T04:33:44+0000',\n",
       "      u'from': {u'id': u'10103035330410376', u'name': u'Hanna Lee'},\n",
       "      u'id': u'10154514994086271_10154515220746271',\n",
       "      u'like_count': 1,\n",
       "      u'message': u'love their kimchee fried rice',\n",
       "      u'user_likes': True},\n",
       "     {u'can_remove': False,\n",
       "      u'created_time': u'2016-10-24T05:03:28+0000',\n",
       "      u'from': {u'id': u'10153376473489809', u'name': u'Caroline Youm Lee'},\n",
       "      u'id': u'10154514994086271_10154515259911271',\n",
       "      u'like_count': 0,\n",
       "      u'message': u'I was there yesterday. It was nice!',\n",
       "      u'user_likes': False},\n",
       "     {u'can_remove': False,\n",
       "      u'created_time': u'2016-10-24T05:33:39+0000',\n",
       "      u'from': {u'id': u'10205770863493588', u'name': u'Jumel Datoon Sulabo'},\n",
       "      u'id': u'10154514994086271_10154515294016271',\n",
       "      u'like_count': 1,\n",
       "      u'message': u\"Second place I go to if I don't go to doc \\U0001f44c\\U0001f3fb\",\n",
       "      u'user_likes': False},\n",
       "     {u'can_remove': False,\n",
       "      u'created_time': u'2016-10-24T05:48:57+0000',\n",
       "      u'from': {u'id': u'10102223100859860', u'name': u'January Lim'},\n",
       "      u'id': u'10154514994086271_10154515311606271',\n",
       "      u'like_count': 1,\n",
       "      u'message': u'Jackie Ahn likes it there too!',\n",
       "      u'message_tags': [{u'id': u'10154989291305422',\n",
       "        u'length': 10,\n",
       "        u'name': u'Jackie Ahn',\n",
       "        u'offset': 0,\n",
       "        u'type': u'user'}],\n",
       "      u'user_likes': False},\n",
       "     {u'can_remove': False,\n",
       "      u'created_time': u'2016-10-26T23:12:58+0000',\n",
       "      u'from': {u'id': u'10155347712151258', u'name': u'Jane Hyun'},\n",
       "      u'id': u'10154514994086271_10154522886711271',\n",
       "      u'like_count': 1,\n",
       "      u'message': u'i love this place!',\n",
       "      u'user_likes': True},\n",
       "     {u'can_remove': False,\n",
       "      u'created_time': u'2016-10-27T21:28:44+0000',\n",
       "      u'from': {u'id': u'607905185962355', u'name': u'Daniel Hwang'},\n",
       "      u'id': u'10154514994086271_10154525460996271',\n",
       "      u'like_count': 1,\n",
       "      u'message': u'I ended up sticking with Mr Coffee. Decent internet, good coffee, usually quiet and they serve Portos.',\n",
       "      u'user_likes': True}],\n",
       "    u'paging': {u'cursors': {u'after': u'WTI5dGJXVnVkRjlqZAFhKemIzSTZANVEF4TlRRMU1qVTBOakE1T1RZAeU56RTZANVFEzTnpZAd016Y3lOQT09',\n",
       "      u'before': u'WTI5dGJXVnVkRjlqZAFhKemIzSTZANVEF4TlRRMU1UVXdOekEwTURFeU56RTZANVFEzTnpJM056WTROdz09'}}},\n",
       "   u'created_time': u'2016-10-24T02:18:29+0000',\n",
       "   u'from': {u'id': u'10153515548171271', u'name': u'Aaron Kim'},\n",
       "   u'id': u'10153515548171271_10154514994086271',\n",
       "   u'is_expired': False,\n",
       "   u'is_hidden': False,\n",
       "   u'likes': {u'data': [{u'id': u'10101141672720822', u'name': u'Randy Lee'},\n",
       "     {u'id': u'10101704934674041', u'name': u'Simon Shin'},\n",
       "     {u'id': u'10153797149398438', u'name': u'David Jeon'},\n",
       "     {u'id': u'970084403006287', u'name': u'Laura Lee'},\n",
       "     {u'id': u'10204036957178835', u'name': u'Derrick Im'},\n",
       "     {u'id': u'10152419149110850', u'name': u'Robin Lee'},\n",
       "     {u'id': u'10152595844261619', u'name': u'Sherine Amenda Dissanayake'},\n",
       "     {u'id': u'10153119020437345', u'name': u'Queena Kim'},\n",
       "     {u'id': u'10205770863493588', u'name': u'Jumel Datoon Sulabo'},\n",
       "     {u'id': u'10152805734778873', u'name': u'Amanda Lim'},\n",
       "     {u'id': u'10153376473489809', u'name': u'Caroline Youm Lee'},\n",
       "     {u'id': u'10152868298549177', u'name': u'Richard Kim'},\n",
       "     {u'id': u'845291462198528', u'name': u'Jenny Han'},\n",
       "     {u'id': u'10102776784847734', u'name': u'Ken Neth Yi'},\n",
       "     {u'id': u'10103677043387433', u'name': u'Tyler Herron'},\n",
       "     {u'id': u'10102163055406484', u'name': u'Helena Yu'},\n",
       "     {u'id': u'859454590755221', u'name': u'Jenny Love'},\n",
       "     {u'id': u'10100867117322036', u'name': u'David Park'},\n",
       "     {u'id': u'10208208857279434', u'name': u'Steve Yang'},\n",
       "     {u'id': u'10152446032743043', u'name': u'Diana Cho'},\n",
       "     {u'id': u'10202580226321523', u'name': u'Jeannie Meanie'},\n",
       "     {u'id': u'10154073206255010', u'name': u'Daniel Injoon Kim'},\n",
       "     {u'id': u'10154457212560066', u'name': u'Karen Kim'}],\n",
       "    u'paging': {u'cursors': {u'after': u'MTAxNTQ0NTcyMTI1NjAwNjYZD',\n",
       "      u'before': u'MTAxMDExNDE2NzI3MjA4MjIZD'}}},\n",
       "   u'message': u'Not too shabby and close to home. Think I found a new option for a study spot.',\n",
       "   u'place': {u'id': u'954215221332744',\n",
       "    u'location': {u'city': u'Los Angeles',\n",
       "     u'country': u'United States',\n",
       "     u'latitude': Decimal('34.06273'),\n",
       "     u'longitude': Decimal('-118.30946'),\n",
       "     u'state': u'CA',\n",
       "     u'street': u'621 S Western Ave, # 101',\n",
       "     u'zip': u'90005'},\n",
       "    u'name': u'KLAT'},\n",
       "   u'privacy': {u'allow': u'',\n",
       "    u'deny': u'10150386784941271,869795876370756,10152913135864668,10153744974125660,10154634023171449',\n",
       "    u'description': u'Friends; Except: Acquaintances',\n",
       "    u'friends': u'ALL_FRIENDS',\n",
       "    u'value': u'CUSTOM'},\n",
       "   u'status_type': u'mobile_status_update',\n",
       "   u'story': u'Aaron Kim at KLAT.',\n",
       "   u'story_tags': {u'0': [{u'id': u'10153515548171271',\n",
       "      u'length': 9,\n",
       "      u'name': u'Aaron Kim',\n",
       "      u'offset': 0,\n",
       "      u'type': u'user'}],\n",
       "    u'13': [{u'id': u'954215221332744',\n",
       "      u'length': 4,\n",
       "      u'name': u'KLAT',\n",
       "      u'offset': 13,\n",
       "      u'type': u'page'}]},\n",
       "   u'subscribed': True,\n",
       "   u'type': u'status',\n",
       "   u'updated_time': u'2016-10-27T22:39:54+0000'},\n",
       "  {u'actions': [{u'link': u'https://www.facebook.com/10153515548171271/posts/10154514547286271',\n",
       "     u'name': u'Comment'},\n",
       "    {u'link': u'https://www.facebook.com/10153515548171271/posts/10154514547286271',\n",
       "     u'name': u'Like'}],\n",
       "   u'application': {u'category': u'Entertainment',\n",
       "    u'id': u'124024574287414',\n",
       "    u'link': u'https://www.instagram.com/',\n",
       "    u'name': u'Instagram',\n",
       "    u'namespace': u'instapp'},\n",
       "   u'caption': u'Instagram photo by Aaron Kim \\u2022 Oct 23, 2016 at 11:17pm UTC',\n",
       "   u'created_time': u'2016-10-23T23:17:47+0000',\n",
       "   u'description': u'Thanks, Red Bull! Time for another red bull! No, wait. Maybe some water. \\U0001f605',\n",
       "   u'from': {u'id': u'10153515548171271', u'name': u'Aaron Kim'},\n",
       "   u'icon': u'https://www.facebook.com/images/icons/post.gif',\n",
       "   u'id': u'10153515548171271_10154514547286271',\n",
       "   u'is_expired': False,\n",
       "   u'is_hidden': False,\n",
       "   u'likes': {u'data': [{u'id': u'970084403006287', u'name': u'Laura Lee'},\n",
       "     {u'id': u'10202580226321523', u'name': u'Jeannie Meanie'},\n",
       "     {u'id': u'10202810359034527', u'name': u'Roger Dodger'},\n",
       "     {u'id': u'753093871388496', u'name': u'Rese Kim'},\n",
       "     {u'id': u'1181697101847220', u'name': u'Debora Chung'},\n",
       "     {u'id': u'10152649542163605', u'name': u'Dennis Yee'},\n",
       "     {u'id': u'10205770863493588', u'name': u'Jumel Datoon Sulabo'},\n",
       "     {u'id': u'10202868057275400', u'name': u'Daisy Doll'},\n",
       "     {u'id': u'10154457212560066', u'name': u'Karen Kim'},\n",
       "     {u'id': u'10202856399563799', u'name': u'Jay M. Chang'},\n",
       "     {u'id': u'10152451761034300', u'name': u'Bryan Hsaio'},\n",
       "     {u'id': u'10153797149398438', u'name': u'David Jeon'},\n",
       "     {u'id': u'10102939960198098', u'name': u'Mich Lin'}],\n",
       "    u'paging': {u'cursors': {u'after': u'MTAxMDI5Mzk5NjAxOTgwOTgZD',\n",
       "      u'before': u'OTcwMDg0NDAzMDA2Mjg3'}}},\n",
       "   u'link': u'https://www.facebook.com/photo.php?fbid=10154514547311271&set=a.10151253946156271.511183.524581270&type=3',\n",
       "   u'message': u'Thanks, Red Bull! Time for another red bull! No, wait. Maybe some water. \\U0001f605',\n",
       "   u'name': u'Instagram photo by Aaron Kim \\u2022 Oct 23, 2016 at 11:17pm UTC',\n",
       "   u'object_id': u'10154514547311271',\n",
       "   u'picture': u'https://scontent.xx.fbcdn.net/v/t1.0-0/p130x130/14724596_10154514547311271_6129034562267029844_n.jpg?oh=3bb43d16e0ac90c3aff2bbdd5c854541&oe=58D37066',\n",
       "   u'privacy': {u'allow': u'',\n",
       "    u'deny': u'',\n",
       "    u'description': u'Your friends',\n",
       "    u'friends': u'',\n",
       "    u'value': u'ALL_FRIENDS'},\n",
       "   u'status_type': u'added_photos',\n",
       "   u'subscribed': True,\n",
       "   u'type': u'photo',\n",
       "   u'updated_time': u'2016-10-23T23:17:47+0000'},\n",
       "  {u'actions': [{u'link': u'https://www.facebook.com/10153515548171271/posts/10154510768591271',\n",
       "     u'name': u'Comment'},\n",
       "    {u'link': u'https://www.facebook.com/10153515548171271/posts/10154510768591271',\n",
       "     u'name': u'Like'}],\n",
       "   u'application': {u'category': u'Entertainment',\n",
       "    u'id': u'124024574287414',\n",
       "    u'link': u'https://www.instagram.com/',\n",
       "    u'name': u'Instagram',\n",
       "    u'namespace': u'instapp'},\n",
       "   u'caption': u'Instagram photo by Aaron Kim \\u2022 Oct 22, 2016 at 4:48pm UTC',\n",
       "   u'created_time': u'2016-10-22T18:14:24+0000',\n",
       "   u'description': u\"Been feeling like life's been missing some color. Maybe next time I should take a trip to wherever those other two airlines fly.\",\n",
       "   u'from': {u'id': u'10153515548171271', u'name': u'Aaron Kim'},\n",
       "   u'icon': u'https://www.facebook.com/images/icons/post.gif',\n",
       "   u'id': u'10153515548171271_10154510768591271',\n",
       "   u'is_expired': False,\n",
       "   u'is_hidden': False,\n",
       "   u'likes': {u'data': [{u'id': u'10100517670755559', u'name': u'Joyce Cho'},\n",
       "     {u'id': u'10206202853007477', u'name': u'Sochin Kim'},\n",
       "     {u'id': u'10152768072188835', u'name': u'Peter Bae'},\n",
       "     {u'id': u'871653142878843', u'name': u'Sam Nam'},\n",
       "     {u'id': u'10152451761034300', u'name': u'Bryan Hsaio'},\n",
       "     {u'id': u'10154369226214832', u'name': u'Keldon Ancheta'},\n",
       "     {u'id': u'10202580226321523', u'name': u'Jeannie Meanie'}],\n",
       "    u'paging': {u'cursors': {u'after': u'MTAyMDI1ODAyMjYzMjE1MjMZD',\n",
       "      u'before': u'MTAxMDA1MTc2NzA3NTU1NTkZD'}}},\n",
       "   u'link': u'https://www.facebook.com/photo.php?fbid=10154510768616271&set=a.10151253946156271.511183.524581270&type=3',\n",
       "   u'message': u\"Been feeling like life's been missing some color. Maybe next time I should take a trip to wherever those other two airlines fly.\",\n",
       "   u'name': u'Instagram photo by Aaron Kim \\u2022 Oct 22, 2016 at 4:48pm UTC',\n",
       "   u'object_id': u'10154510768616271',\n",
       "   u'picture': u'https://scontent.xx.fbcdn.net/v/t1.0-0/p130x130/14642010_10154510768616271_4488995214294734923_n.jpg?oh=5835e4afc83e5a4718e9a21a5ee5b8e8&oe=58950B47',\n",
       "   u'privacy': {u'allow': u'',\n",
       "    u'deny': u'',\n",
       "    u'description': u'Your friends',\n",
       "    u'friends': u'',\n",
       "    u'value': u'ALL_FRIENDS'},\n",
       "   u'status_type': u'added_photos',\n",
       "   u'subscribed': True,\n",
       "   u'type': u'photo',\n",
       "   u'updated_time': u'2016-10-22T18:14:24+0000'},\n",
       "  {u'actions': [{u'link': u'https://www.facebook.com/10153515548171271/posts/10154495981376271',\n",
       "     u'name': u'Comment'},\n",
       "    {u'link': u'https://www.facebook.com/10153515548171271/posts/10154495981376271',\n",
       "     u'name': u'Like'}],\n",
       "   u'caption': u'nerdreactor.com',\n",
       "   u'comments': {u'data': [{u'can_remove': False,\n",
       "      u'created_time': u'2016-10-17T21:39:53+0000',\n",
       "      u'from': {u'id': u'10152844911452631', u'name': u'Dean Hur'},\n",
       "      u'id': u'10154495981376271_10154496109616271',\n",
       "      u'like_count': 1,\n",
       "      u'message': u'',\n",
       "      u'user_likes': True},\n",
       "     {u'can_remove': False,\n",
       "      u'created_time': u'2016-10-18T17:02:29+0000',\n",
       "      u'from': {u'id': u'2341773025976', u'name': u'Christine Wang'},\n",
       "      u'id': u'10154495981376271_10154498583331271',\n",
       "      u'like_count': 1,\n",
       "      u'message': u'what about samurai champloo?!',\n",
       "      u'user_likes': True}],\n",
       "    u'paging': {u'cursors': {u'after': u'WTI5dGJXVnVkRjlqZAFhKemIzSTZANVEF4TlRRME9UZAzFPRE16TXpFeU56RTZANVFEzTmpneE1ERTFNQT09',\n",
       "      u'before': u'WTI5dGJXVnVkRjlqZAFhKemIzSTZANVEF4TlRRME9UWXhNRGsyTVRZAeU56RTZANVFEzTmpjME1ETTVOQT09'}}},\n",
       "   u'created_time': u'2016-10-17T20:51:10+0000',\n",
       "   u'description': u\"October 17, 2016 John 'Spartan' Nguyen Cowboy Bebop Funko Pops coming this December Okay, three, two, one let\\u2019s pop! Yes, Cowboy Bebop fans will soon get a chance to own Pops after their favorite characters in December. The Pop figures include Spike, Jet, Faye Valentine and Ed. Sorry, no signs of Ei...\",\n",
       "   u'from': {u'id': u'10153515548171271', u'name': u'Aaron Kim'},\n",
       "   u'icon': u'https://www.facebook.com/images/icons/post.gif',\n",
       "   u'id': u'10153515548171271_10154495981376271',\n",
       "   u'is_expired': False,\n",
       "   u'is_hidden': False,\n",
       "   u'likes': {u'data': [{u'id': u'10102939960198098', u'name': u'Mich Lin'},\n",
       "     {u'id': u'10206202853007477', u'name': u'Sochin Kim'},\n",
       "     {u'id': u'10205770863493588', u'name': u'Jumel Datoon Sulabo'},\n",
       "     {u'id': u'10102223100859860', u'name': u'January Lim'},\n",
       "     {u'id': u'10155362584428569', u'name': u'John-Jin Stream'},\n",
       "     {u'id': u'428760387268799', u'name': u'Mark Kang'},\n",
       "     {u'id': u'871653142878843', u'name': u'Sam Nam'}],\n",
       "    u'paging': {u'cursors': {u'after': u'ODcxNjUzMTQyODc4ODQz',\n",
       "      u'before': u'MTAxMDI5Mzk5NjAxOTgwOTgZD'}}},\n",
       "   u'link': u'http://nerdreactor.com/2016/10/17/cowboy-bebop-funko-pops-coming-this-december/#148077',\n",
       "   u'message': u'Having one of those nerd out moments.',\n",
       "   u'name': u'Cowboy Bebop Funko Pops coming this December',\n",
       "   u'picture': u'https://external.xx.fbcdn.net/safe_image.php?d=AQAkq3OJP4PkcoHb&w=130&h=130&url=http%3A%2F%2Fnerdreactor.com%2Fwp-content%2Fuploads%2F2016%2F10%2FFunko-Pops-Cowboy-Bebop-Spike.jpg&cfs=1',\n",
       "   u'privacy': {u'allow': u'',\n",
       "    u'deny': u'10150386784941271,869795876370756,10152913135864668,10153744974125660,10154634023171449',\n",
       "    u'description': u'Friends; Except: Acquaintances',\n",
       "    u'friends': u'ALL_FRIENDS',\n",
       "    u'value': u'CUSTOM'},\n",
       "   u'status_type': u'shared_story',\n",
       "   u'subscribed': True,\n",
       "   u'type': u'link',\n",
       "   u'updated_time': u'2016-10-18T17:12:35+0000'},\n",
       "  {u'actions': [{u'link': u'https://www.facebook.com/10153515548171271/posts/10154476678311271',\n",
       "     u'name': u'Comment'},\n",
       "    {u'link': u'https://www.facebook.com/10153515548171271/posts/10154476678311271',\n",
       "     u'name': u'Like'}],\n",
       "   u'comments': {u'data': [{u'can_remove': False,\n",
       "      u'created_time': u'2016-10-12T05:40:09+0000',\n",
       "      u'from': {u'id': u'10102223100859860', u'name': u'January Lim'},\n",
       "      u'id': u'10154476678311271_10154476730396271',\n",
       "      u'like_count': 1,\n",
       "      u'message': u'at 1? am?',\n",
       "      u'user_likes': False},\n",
       "     {u'can_remove': False,\n",
       "      u'created_time': u'2016-10-12T05:49:05+0000',\n",
       "      u'from': {u'id': u'10102158252242064', u'name': u'Stephanie Lim'},\n",
       "      u'id': u'10154476678311271_10154476739641271',\n",
       "      u'like_count': 1,\n",
       "      u'message': u'How about tmrw??? I got the day off!',\n",
       "      u'user_likes': True},\n",
       "     {u'can_remove': False,\n",
       "      u'created_time': u'2016-10-12T08:37:27+0000',\n",
       "      u'from': {u'id': u'10153119020437345', u'name': u'Queena Kim'},\n",
       "      u'id': u'10154476678311271_10154477078521271',\n",
       "      u'like_count': 0,\n",
       "      u'message': u'Are you eating tacos right now?',\n",
       "      u'user_likes': False}],\n",
       "    u'paging': {u'cursors': {u'after': u'WTI5dGJXVnVkRjlqZAFhKemIzSTZANVEF4TlRRME56Y3dOemcxTWpFeU56RTZANVFEzTmpJMk1UUTBOdz09',\n",
       "      u'before': u'WTI5dGJXVnVkRjlqZAFhKemIzSTZANVEF4TlRRME56WTNNekF6T1RZAeU56RTZANVFEzTmpJMU1EZA3dPUT09'}}},\n",
       "   u'created_time': u'2016-10-12T04:54:08+0000',\n",
       "   u'from': {u'id': u'10153515548171271', u'name': u'Aaron Kim'},\n",
       "   u'id': u'10153515548171271_10154476678311271',\n",
       "   u'is_expired': False,\n",
       "   u'is_hidden': False,\n",
       "   u'likes': {u'data': [{u'id': u'1473275329556441', u'name': u'David Shimmy'},\n",
       "     {u'id': u'10152881118912129', u'name': u'Jen Ma'},\n",
       "     {u'id': u'428760387268799', u'name': u'Mark Kang'},\n",
       "     {u'id': u'10202580226321523', u'name': u'Jeannie Meanie'}],\n",
       "    u'paging': {u'cursors': {u'after': u'MTAyMDI1ODAyMjYzMjE1MjMZD',\n",
       "      u'before': u'MTQ3MzI3NTMyOTU1NjQ0MQZDZD'}}},\n",
       "   u'message': u'One of those nights. Anyone up for tacos at 1?',\n",
       "   u'privacy': {u'allow': u'',\n",
       "    u'deny': u'10150386784941271,869795876370756,10152913135864668,10153744974125660,10154634023171449',\n",
       "    u'description': u'Friends; Except: Acquaintances',\n",
       "    u'friends': u'ALL_FRIENDS',\n",
       "    u'value': u'CUSTOM'},\n",
       "   u'status_type': u'mobile_status_update',\n",
       "   u'subscribed': True,\n",
       "   u'type': u'status',\n",
       "   u'updated_time': u'2016-10-12T08:39:33+0000'},\n",
       "  {u'actions': [{u'link': u'https://www.facebook.com/10153515548171271/posts/10154474060436271',\n",
       "     u'name': u'Comment'},\n",
       "    {u'link': u'https://www.facebook.com/10153515548171271/posts/10154474060436271',\n",
       "     u'name': u'Like'}],\n",
       "   u'caption': u'youtube.com',\n",
       "   u'comments': {u'data': [{u'can_remove': False,\n",
       "      u'created_time': u'2016-10-11T18:46:31+0000',\n",
       "      u'from': {u'id': u'607905185962355', u'name': u'Daniel Hwang'},\n",
       "      u'id': u'10154474060436271_10154475470571271',\n",
       "      u'like_count': 0,\n",
       "      u'message': u\"Are you voting? I don't think I'm voting.\",\n",
       "      u'user_likes': False}],\n",
       "    u'paging': {u'cursors': {u'after': u'WTI5dGJXVnVkRjlqZAFhKemIzSTZANVEF4TlRRME56VTBOekExTnpFeU56RTZANVFEzTmpJeE1UVTVNUT09',\n",
       "      u'before': u'WTI5dGJXVnVkRjlqZAFhKemIzSTZANVEF4TlRRME56VTBOekExTnpFeU56RTZANVFEzTmpJeE1UVTVNUT09'}}},\n",
       "   u'created_time': u'2016-10-11T06:00:37+0000',\n",
       "   u'description': u'Donald and Hillary go head to head in classic games such as \"Time to Act!\", \"Five Favorites\", and \"I Can Do This!\" End credits song: \"Bushes of Love\" https:/...',\n",
       "   u'from': {u'id': u'10153515548171271', u'name': u'Aaron Kim'},\n",
       "   u'icon': u'https://www.facebook.com/images/icons/post.gif',\n",
       "   u'id': u'10153515548171271_10154474060436271',\n",
       "   u'is_expired': False,\n",
       "   u'is_hidden': False,\n",
       "   u'likes': {u'data': [{u'id': u'10153221514827550',\n",
       "      u'name': u'Christopher J. Choi'},\n",
       "     {u'id': u'10152845990482303', u'name': u'Chris Han'},\n",
       "     {u'id': u'10206597568634556', u'name': u'Joshua So'},\n",
       "     {u'id': u'871653142878843', u'name': u'Sam Nam'},\n",
       "     {u'id': u'428760387268799', u'name': u'Mark Kang'}],\n",
       "    u'paging': {u'cursors': {u'after': u'NDI4NzYwMzg3MjY4Nzk5',\n",
       "      u'before': u'MTAxNTMyMjE1MTQ4Mjc1NTAZD'}}},\n",
       "   u'link': u'https://www.youtube.com/watch?v=WLYHu0AG8GI',\n",
       "   u'message': u'There isn\\'t much to look forward to in this election, so how about a laugh? \\n\\n\"This is so fun. It\\'s like going back to school in imported shoes and one perfectly matched pant suit.\"',\n",
       "   u'name': u'\"DEBATE NIGHT!\" \\u2014 A Bad Lip Reading of the first 2016 Presidential Debate',\n",
       "   u'picture': u'https://external.xx.fbcdn.net/safe_image.php?d=AQAKp_onLcEXAE-w&w=130&h=130&url=https%3A%2F%2Fi.ytimg.com%2Fvi%2FWLYHu0AG8GI%2Fmaxresdefault.jpg&cfs=1&sx=0&sy=0&sw=720&sh=720',\n",
       "   u'privacy': {u'allow': u'',\n",
       "    u'deny': u'10150386784941271,869795876370756,10152913135864668,10153744974125660,10154634023171449',\n",
       "    u'description': u'Friends; Except: Acquaintances',\n",
       "    u'friends': u'ALL_FRIENDS',\n",
       "    u'value': u'CUSTOM'},\n",
       "   u'shares': {u'count': 1},\n",
       "   u'source': u'https://www.youtube.com/embed/WLYHu0AG8GI?autoplay=1',\n",
       "   u'status_type': u'shared_story',\n",
       "   u'subscribed': True,\n",
       "   u'type': u'video',\n",
       "   u'updated_time': u'2016-10-11T20:57:49+0000'},\n",
       "  {u'actions': [{u'link': u'https://www.facebook.com/10153515548171271/posts/10154457392366271',\n",
       "     u'name': u'Comment'},\n",
       "    {u'link': u'https://www.facebook.com/10153515548171271/posts/10154457392366271',\n",
       "     u'name': u'Like'}],\n",
       "   u'application': {u'category': u'Entertainment',\n",
       "    u'id': u'124024574287414',\n",
       "    u'link': u'https://www.instagram.com/',\n",
       "    u'name': u'Instagram',\n",
       "    u'namespace': u'instapp'},\n",
       "   u'caption': u'Instagram photo by Aaron Kim \\u2022 Oct 5, 2016 at 2:09am UTC',\n",
       "   u'comments': {u'data': [{u'can_remove': False,\n",
       "      u'created_time': u'2016-10-05T02:38:25+0000',\n",
       "      u'from': {u'id': u'10202910864627022', u'name': u'JFree Yu'},\n",
       "      u'id': u'10154457392406271_10154457466101271',\n",
       "      u'like_count': 1,\n",
       "      u'message': u'Hahaha I know this place. Should of hit me up, Would of gave you some Hot sauce',\n",
       "      u'user_likes': True},\n",
       "     {u'can_remove': False,\n",
       "      u'created_time': u'2016-10-05T02:48:32+0000',\n",
       "      u'from': {u'id': u'10155807223180263', u'name': u'Grace Cho'},\n",
       "      u'id': u'10154457392406271_10154457480776271',\n",
       "      u'like_count': 1,\n",
       "      u'message': u\"No veggies? Potato doesn't count.\",\n",
       "      u'user_likes': True},\n",
       "     {u'can_remove': False,\n",
       "      u'created_time': u'2016-10-05T03:23:09+0000',\n",
       "      u'from': {u'id': u'10154972940430646', u'name': u'Rosette K. Lee'},\n",
       "      u'id': u'10154457392406271_10154457538941271',\n",
       "      u'like_count': 1,\n",
       "      u'message': u'Avenida 26?? The best.',\n",
       "      u'user_likes': True},\n",
       "     {u'can_remove': False,\n",
       "      u'created_time': u'2016-10-05T04:44:46+0000',\n",
       "      u'from': {u'id': u'10206597568634556', u'name': u'Joshua So'},\n",
       "      u'id': u'10154457392406271_10154457651531271',\n",
       "      u'like_count': 1,\n",
       "      u'message': u'Wow ... where can I get this ...',\n",
       "      u'user_likes': True}],\n",
       "    u'paging': {u'cursors': {u'after': u'WTI5dGJXVnVkRjlqZAFhKemIzSTZANVEF4TlRRME5UYzJOVEUxTXpFeU56RTZANVFEzTlRZAME1qWTROZAz09',\n",
       "      u'before': u'WTI5dGJXVnVkRjlqZAFhKemIzSTZANVEF4TlRRME5UYzBOall4TURFeU56RTZANVFEzTlRZAek5URXdOUT09'}}},\n",
       "   u'created_time': u'2016-10-05T02:09:30+0000',\n",
       "   u'description': u'Happy Taco Day!',\n",
       "   u'from': {u'id': u'10153515548171271', u'name': u'Aaron Kim'},\n",
       "   u'icon': u'https://www.facebook.com/images/icons/post.gif',\n",
       "   u'id': u'10153515548171271_10154457392366271',\n",
       "   u'is_expired': False,\n",
       "   u'is_hidden': False,\n",
       "   u'likes': {u'data': [{u'id': u'970084403006287', u'name': u'Laura Lee'},\n",
       "     {u'id': u'989136211139371', u'name': u'Efren Fradejas'},\n",
       "     {u'id': u'10152979098832547', u'name': u'Lena Cici Song'},\n",
       "     {u'id': u'2341773025976', u'name': u'Christine Wang'},\n",
       "     {u'id': u'845291462198528', u'name': u'Jenny Han'},\n",
       "     {u'id': u'3471091408419', u'name': u'Song Kwon'},\n",
       "     {u'id': u'10103298328400266', u'name': u'Jen Ancheta'},\n",
       "     {u'id': u'607905185962355', u'name': u'Daniel Hwang'},\n",
       "     {u'id': u'10103677043387433', u'name': u'Tyler Herron'},\n",
       "     {u'id': u'889128577873838', u'name': u'JH Ko'},\n",
       "     {u'id': u'10204748465143203', u'name': u'Rachel Maeng'},\n",
       "     {u'id': u'10152462086514924', u'name': u'Peter Canavarro'},\n",
       "     {u'id': u'10206597568634556', u'name': u'Joshua So'},\n",
       "     {u'id': u'10202766869306700', u'name': u'Carol Chung-No'},\n",
       "     {u'id': u'10102223100859860', u'name': u'January Lim'},\n",
       "     {u'id': u'10208208857279434', u'name': u'Steve Yang'},\n",
       "     {u'id': u'859454590755221', u'name': u'Jenny Love'},\n",
       "     {u'id': u'10202580226321523', u'name': u'Jeannie Meanie'},\n",
       "     {u'id': u'10204036957178835', u'name': u'Derrick Im'},\n",
       "     {u'id': u'10152483663477677', u'name': u'Patrik Kim'},\n",
       "     {u'id': u'10155290563905557', u'name': u'Brian Cho'},\n",
       "     {u'id': u'10203867844110203', u'name': u'Mikey Chang'},\n",
       "     {u'id': u'10154073206255010', u'name': u'Daniel Injoon Kim'},\n",
       "     {u'id': u'10154369226214832', u'name': u'Keldon Ancheta'},\n",
       "     {u'id': u'10204471540881520', u'name': u'Steve Kim'}],\n",
       "    u'paging': {u'cursors': {u'after': u'MTAyMDQ0NzE1NDA4ODE1MjAZD',\n",
       "      u'before': u'OTcwMDg0NDAzMDA2Mjg3'},\n",
       "     u'next': u'https://graph.facebook.com/v2.2/10153515548171271_10154457392366271/likes?access_token=EAACEdEose0cBAFN0pvxm9APNvXZAP1NHmQrDIDmooIFnnuERxivy65FSsTauwz7sX1FT1KRWyR086nehAzga7TlEMaNykm4IKmqxmoZBbIqXgptV04JGC5bpgvujPhHPkFKKkbvf0ZCZBzRy2GiGO68l61gC6e23Cihf5LKfUgZDZD&limit=25&after=MTAyMDQ0NzE1NDA4ODE1MjAZD'}},\n",
       "   u'link': u'https://www.facebook.com/photo.php?fbid=10154457392406271&set=a.10151253946156271.511183.524581270&type=3',\n",
       "   u'message': u'Happy Taco Day!',\n",
       "   u'name': u'Instagram photo by Aaron Kim \\u2022 Oct 5, 2016 at 2:09am UTC',\n",
       "   u'object_id': u'10154457392406271',\n",
       "   u'picture': u'https://scontent.xx.fbcdn.net/v/t1.0-0/p130x130/14610913_10154457392406271_6488521645071399789_n.jpg?oh=7a4d5d87b36fe57a44212dc1f98e1ea4&oe=58C3D26B',\n",
       "   u'privacy': {u'allow': u'',\n",
       "    u'deny': u'',\n",
       "    u'description': u'Your friends',\n",
       "    u'friends': u'',\n",
       "    u'value': u'ALL_FRIENDS'},\n",
       "   u'status_type': u'added_photos',\n",
       "   u'subscribed': True,\n",
       "   u'type': u'photo',\n",
       "   u'updated_time': u'2016-10-05T04:52:12+0000'},\n",
       "  {u'actions': [{u'link': u'https://www.facebook.com/10153515548171271/posts/10154455397686271',\n",
       "     u'name': u'Comment'},\n",
       "    {u'link': u'https://www.facebook.com/10153515548171271/posts/10154455397686271',\n",
       "     u'name': u'Like'}],\n",
       "   u'application': {u'category': u'Entertainment',\n",
       "    u'id': u'124024574287414',\n",
       "    u'link': u'https://www.instagram.com/',\n",
       "    u'name': u'Instagram',\n",
       "    u'namespace': u'instapp'},\n",
       "   u'caption': u'Instagram photo by Aaron Kim \\u2022 Oct 4, 2016 at 12:47am UTC',\n",
       "   u'created_time': u'2016-10-04T07:20:24+0000',\n",
       "   u'description': u\"Some legit cosplay. I think. What's going on here?\",\n",
       "   u'from': {u'id': u'10153515548171271', u'name': u'Aaron Kim'},\n",
       "   u'icon': u'https://www.facebook.com/images/icons/post.gif',\n",
       "   u'id': u'10153515548171271_10154455397686271',\n",
       "   u'is_expired': False,\n",
       "   u'is_hidden': False,\n",
       "   u'link': u'https://www.facebook.com/photo.php?fbid=10154455397696271&set=a.10151253946156271.511183.524581270&type=3',\n",
       "   u'message': u\"Some legit cosplay. I think. What's going on here?\",\n",
       "   u'name': u'Instagram photo by Aaron Kim \\u2022 Oct 4, 2016 at 12:47am UTC',\n",
       "   u'object_id': u'10154455397696271',\n",
       "   u'picture': u'https://scontent.xx.fbcdn.net/v/t1.0-0/p130x130/14463300_10154455397696271_7948148696463266304_n.jpg?oh=7e9298793260f917a50357e5062c6e52&oe=58D1B904',\n",
       "   u'privacy': {u'allow': u'',\n",
       "    u'deny': u'',\n",
       "    u'description': u'Your friends',\n",
       "    u'friends': u'',\n",
       "    u'value': u'ALL_FRIENDS'},\n",
       "   u'status_type': u'added_photos',\n",
       "   u'subscribed': True,\n",
       "   u'type': u'photo',\n",
       "   u'updated_time': u'2016-10-04T07:20:24+0000'},\n",
       "  {u'actions': [{u'link': u'https://www.facebook.com/10153515548171271/posts/10154449037831271',\n",
       "     u'name': u'Comment'},\n",
       "    {u'link': u'https://www.facebook.com/10153515548171271/posts/10154449037831271',\n",
       "     u'name': u'Like'}],\n",
       "   u'created_time': u'2016-10-01T22:27:02+0000',\n",
       "   u'from': {u'id': u'10153515548171271', u'name': u'Aaron Kim'},\n",
       "   u'id': u'10153515548171271_10154449037831271',\n",
       "   u'is_expired': False,\n",
       "   u'is_hidden': False,\n",
       "   u'likes': {u'data': [{u'id': u'10152378585093258',\n",
       "      u'name': u'Michael Song'},\n",
       "     {u'id': u'889128577873838', u'name': u'JH Ko'},\n",
       "     {u'id': u'323678754506166', u'name': u'Jason Yoon'},\n",
       "     {u'id': u'10206202853007477', u'name': u'Sochin Kim'},\n",
       "     {u'id': u'10152625326754182', u'name': u'Jo Kim'},\n",
       "     {u'id': u'10100517670755559', u'name': u'Joyce Cho'},\n",
       "     {u'id': u'871653142878843', u'name': u'Sam Nam'},\n",
       "     {u'id': u'10153420769029884', u'name': u'Kathy Youm'},\n",
       "     {u'id': u'10152881118912129', u'name': u'Jen Ma'},\n",
       "     {u'id': u'10152535301186084', u'name': u'Hyunie Choi'},\n",
       "     {u'id': u'607905185962355', u'name': u'Daniel Hwang'},\n",
       "     {u'id': u'10202810359034527', u'name': u'Roger Dodger'},\n",
       "     {u'id': u'10153797149398438', u'name': u'David Jeon'},\n",
       "     {u'id': u'10153163920691425', u'name': u'Ian Michael Cherney'},\n",
       "     {u'id': u'10154457212560066', u'name': u'Karen Kim'}],\n",
       "    u'paging': {u'cursors': {u'after': u'MTAxNTQ0NTcyMTI1NjAwNjYZD',\n",
       "      u'before': u'MTAxNTIzNzg1ODUwOTMyNTgZD'}}},\n",
       "   u'message': u'Last flight. Got the itch to do some experimenting with grilled cheese after this. May need taste testers. \\U0001f61c',\n",
       "   u'place': {u'id': u'110504348969090',\n",
       "    u'location': {u'city': u'San Francisco',\n",
       "     u'country': u'United States',\n",
       "     u'latitude': Decimal('37.615608'),\n",
       "     u'longitude': Decimal('-122.389544'),\n",
       "     u'state': u'CA',\n",
       "     u'zip': u'94128'},\n",
       "    u'name': u'San Francisco International Airport (SFO)'},\n",
       "   u'privacy': {u'allow': u'',\n",
       "    u'deny': u'10150386784941271,869795876370756,10152913135864668,10153744974125660,10154634023171449',\n",
       "    u'description': u'Friends; Except: Acquaintances',\n",
       "    u'friends': u'ALL_FRIENDS',\n",
       "    u'value': u'CUSTOM'},\n",
       "   u'status_type': u'mobile_status_update',\n",
       "   u'story': u'Aaron Kim at San Francisco International Airport (SFO).',\n",
       "   u'story_tags': {u'0': [{u'id': u'10153515548171271',\n",
       "      u'length': 9,\n",
       "      u'name': u'Aaron Kim',\n",
       "      u'offset': 0,\n",
       "      u'type': u'user'}],\n",
       "    u'13': [{u'id': u'110504348969090',\n",
       "      u'length': 41,\n",
       "      u'name': u'San Francisco International Airport (SFO)',\n",
       "      u'offset': 13,\n",
       "      u'type': u'page'}]},\n",
       "   u'subscribed': True,\n",
       "   u'type': u'status',\n",
       "   u'updated_time': u'2016-10-01T22:27:02+0000'},\n",
       "  {u'actions': [{u'link': u'https://www.facebook.com/10153515548171271/posts/10154446255231271',\n",
       "     u'name': u'Comment'},\n",
       "    {u'link': u'https://www.facebook.com/10153515548171271/posts/10154446255231271',\n",
       "     u'name': u'Like'}],\n",
       "   u'comments': {u'data': [{u'can_remove': False,\n",
       "      u'created_time': u'2016-09-30T23:30:40+0000',\n",
       "      u'from': {u'id': u'10205770863493588', u'name': u'Jumel Datoon Sulabo'},\n",
       "      u'id': u'10154446255231271_10154446261451271',\n",
       "      u'like_count': 2,\n",
       "      u'message': u'you need to try howling rays',\n",
       "      u'user_likes': True},\n",
       "     {u'can_remove': False,\n",
       "      u'created_time': u'2016-09-30T23:47:58+0000',\n",
       "      u'from': {u'id': u'10101235205879531', u'name': u'Suzy Yim'},\n",
       "      u'id': u'10154446255231271_10154446326261271',\n",
       "      u'like_count': 1,\n",
       "      u'message': u'You should try Honeybird\\nhttps://www.yelp.com/biz/honeybird-la-ca%C3%B1ada-flintridge?utm_source=ishare',\n",
       "      u'user_likes': True},\n",
       "     {u'can_remove': False,\n",
       "      u'created_time': u'2016-10-01T16:03:11+0000',\n",
       "      u'from': {u'id': u'10109623317526424', u'name': u'Anne Frances Han'},\n",
       "      u'id': u'10154446255231271_10154448180986271',\n",
       "      u'like_count': 1,\n",
       "      u'message': u'Haha you and bacon',\n",
       "      u'user_likes': True}],\n",
       "    u'paging': {u'cursors': {u'after': u'WTI5dGJXVnVkRjlqZAFhKemIzSTZANVEF4TlRRME5EZA3hPREE1T0RZAeU56RTZANVFEzTlRNek56YzVNUT09',\n",
       "      u'before': u'WTI5dGJXVnVkRjlqZAFhKemIzSTZANVEF4TlRRME5EWXlOakUwTlRFeU56RTZANVFEzTlRJM09ESTBNQT09'}}},\n",
       "   u'created_time': u'2016-09-30T23:29:05+0000',\n",
       "   u'from': {u'id': u'10153515548171271', u'name': u'Aaron Kim'},\n",
       "   u'id': u'10153515548171271_10154446255231271',\n",
       "   u'is_expired': False,\n",
       "   u'is_hidden': False,\n",
       "   u'likes': {u'data': [{u'id': u'10202856399563799',\n",
       "      u'name': u'Jay M. Chang'},\n",
       "     {u'id': u'10102939960198098', u'name': u'Mich Lin'},\n",
       "     {u'id': u'10109623317526424', u'name': u'Anne Frances Han'},\n",
       "     {u'id': u'323678754506166', u'name': u'Jason Yoon'},\n",
       "     {u'id': u'607905185962355', u'name': u'Daniel Hwang'},\n",
       "     {u'id': u'10153797149398438', u'name': u'David Jeon'},\n",
       "     {u'id': u'10154457212560066', u'name': u'Karen Kim'},\n",
       "     {u'id': u'10102163055406484', u'name': u'Helena Yu'},\n",
       "     {u'id': u'10202580226321523', u'name': u'Jeannie Meanie'}],\n",
       "    u'paging': {u'cursors': {u'after': u'MTAyMDI1ODAyMjYzMjE1MjMZD',\n",
       "      u'before': u'MTAyMDI4NTYzOTk1NjM3OTkZD'}}},\n",
       "   u'message': u\"Lot of people putting up pictures about fried chicken. So naturally, guess what's for dinner?\\n\\nThat's right! Bacon! j/k. Anyone up to hit up Gus'?\",\n",
       "   u'privacy': {u'allow': u'',\n",
       "    u'deny': u'10150386784941271,869795876370756,10152913135864668,10153744974125660,10154634023171449',\n",
       "    u'description': u'Friends; Except: Acquaintances',\n",
       "    u'friends': u'ALL_FRIENDS',\n",
       "    u'value': u'CUSTOM'},\n",
       "   u'status_type': u'mobile_status_update',\n",
       "   u'subscribed': True,\n",
       "   u'type': u'status',\n",
       "   u'updated_time': u'2016-10-02T01:58:09+0000'},\n",
       "  {u'actions': [{u'link': u'https://www.facebook.com/10153515548171271/posts/10154438719396271',\n",
       "     u'name': u'Comment'},\n",
       "    {u'link': u'https://www.facebook.com/10153515548171271/posts/10154438719396271',\n",
       "     u'name': u'Like'}],\n",
       "   u'caption': u'youtube.com',\n",
       "   u'created_time': u'2016-09-28T02:54:33+0000',\n",
       "   u'description': u'Created by: soudou http://www.gaki-no-tsukai.com/memberlist.php?mode=viewprofile&u=40125 Source: Gaki No-Laughing Detectives Extra Footage SP (New Scenes Onl...',\n",
       "   u'from': {u'id': u'10153515548171271', u'name': u'Aaron Kim'},\n",
       "   u'icon': u'https://www.facebook.com/images/icons/post.gif',\n",
       "   u'id': u'10153515548171271_10154438719396271',\n",
       "   u'is_expired': False,\n",
       "   u'is_hidden': False,\n",
       "   u'likes': {u'data': [{u'id': u'10206597568634556', u'name': u'Joshua So'},\n",
       "     {u'id': u'10101828697217989', u'name': u'Min Mo'}],\n",
       "    u'paging': {u'cursors': {u'after': u'MTAxMDE4Mjg2OTcyMTc5ODkZD',\n",
       "      u'before': u'MTAyMDY1OTc1Njg2MzQ1NTYZD'}}},\n",
       "   u'link': u'https://youtu.be/69iSXks1bes',\n",
       "   u'message': u'che chu chu.  Try not to laugh. \\U0001f602\\n\\n',\n",
       "   u'name': u'Jimmy Onishi trying to pronounce Massachusetts State (Gaki No Tsukai)',\n",
       "   u'picture': u'https://external.xx.fbcdn.net/safe_image.php?d=AQBDCm1FIEemsATB&w=130&h=130&url=https%3A%2F%2Fi.ytimg.com%2Fvi%2F69iSXks1bes%2Fmaxresdefault.jpg&cfs=1&sx=40&sy=0&sw=720&sh=720',\n",
       "   u'privacy': {u'allow': u'',\n",
       "    u'deny': u'10150386784941271,869795876370756,10152913135864668,10153744974125660,10154634023171449',\n",
       "    u'description': u'Friends; Except: Acquaintances',\n",
       "    u'friends': u'ALL_FRIENDS',\n",
       "    u'value': u'CUSTOM'},\n",
       "   u'source': u'https://www.youtube.com/embed/69iSXks1bes?autoplay=1',\n",
       "   u'status_type': u'shared_story',\n",
       "   u'subscribed': True,\n",
       "   u'type': u'video',\n",
       "   u'updated_time': u'2016-09-28T02:54:33+0000'},\n",
       "  {u'actions': [{u'link': u'https://www.facebook.com/10153515548171271/posts/10154435975931271',\n",
       "     u'name': u'Comment'},\n",
       "    {u'link': u'https://www.facebook.com/10153515548171271/posts/10154435975931271',\n",
       "     u'name': u'Like'}],\n",
       "   u'application': {u'category': u'Entertainment',\n",
       "    u'id': u'124024574287414',\n",
       "    u'link': u'https://www.instagram.com/',\n",
       "    u'name': u'Instagram',\n",
       "    u'namespace': u'instapp'},\n",
       "   u'caption': u'Instagram photo by Aaron Kim \\u2022 Sep 27, 2016 at 12:39am UTC',\n",
       "   u'comments': {u'data': [{u'can_remove': False,\n",
       "      u'created_time': u'2016-09-27T01:05:15+0000',\n",
       "      u'from': {u'id': u'10202580226321523', u'name': u'Jeannie Meanie'},\n",
       "      u'id': u'10154435975966271_10154436010136271',\n",
       "      u'like_count': 1,\n",
       "      u'message': u'Yaaaas!!! \\U0001f602',\n",
       "      u'user_likes': True},\n",
       "     {u'can_remove': False,\n",
       "      u'created_time': u'2016-09-27T02:31:13+0000',\n",
       "      u'from': {u'id': u'10203612780622785', u'name': u'Cheri Gima'},\n",
       "      u'id': u'10154435975966271_10154436168906271',\n",
       "      u'like_count': 2,\n",
       "      u'message': u'Hahaha for my son too \\U0001f602\\U0001f602\\U0001f602',\n",
       "      u'user_likes': True},\n",
       "     {u'can_remove': False,\n",
       "      u'created_time': u'2016-09-27T03:32:53+0000',\n",
       "      u'from': {u'id': u'2341773025976', u'name': u'Christine Wang'},\n",
       "      u'id': u'10154435975966271_10154436273741271',\n",
       "      u'like_count': 0,\n",
       "      u'message': u'Aaron Lee haha',\n",
       "      u'message_tags': [{u'id': u'10100204199055937',\n",
       "        u'length': 9,\n",
       "        u'name': u'Aaron Lee',\n",
       "        u'offset': 0,\n",
       "        u'type': u'user'}],\n",
       "      u'user_likes': False}],\n",
       "    u'paging': {u'cursors': {u'after': u'WTI5dGJXVnVkRjlqZAFhKemIzSTZANVEF4TlRRME16WXlOek0zTkRFeU56RTZANVFEzTkRrME56RTNNdz09',\n",
       "      u'before': u'WTI5dGJXVnVkRjlqZAFhKemIzSTZANVEF4TlRRME16WXdNVEF4TXpZAeU56RTZANVFEzTkRrek9ETXhOUT09'}}},\n",
       "   u'created_time': u'2016-09-27T00:44:19+0000',\n",
       "   u'description': u\"YAAAAAS. Wait, now that it's here, I dont know when I might really wear this. \",\n",
       "   u'from': {u'id': u'10153515548171271', u'name': u'Aaron Kim'},\n",
       "   u'icon': u'https://www.facebook.com/images/icons/post.gif',\n",
       "   u'id': u'10153515548171271_10154435975931271',\n",
       "   u'is_expired': False,\n",
       "   u'is_hidden': False,\n",
       "   u'likes': {u'data': [{u'id': u'10204748465143203',\n",
       "      u'name': u'Rachel Maeng'},\n",
       "     {u'id': u'10206202853007477', u'name': u'Sochin Kim'},\n",
       "     {u'id': u'10152370329084914', u'name': u'Nick Roy Cho'},\n",
       "     {u'id': u'10153119020437345', u'name': u'Queena Kim'},\n",
       "     {u'id': u'2341773025976', u'name': u'Christine Wang'},\n",
       "     {u'id': u'10152768072188835', u'name': u'Peter Bae'},\n",
       "     {u'id': u'10152945531693420', u'name': u'Robin Choi'},\n",
       "     {u'id': u'10154457212560066', u'name': u'Karen Kim'},\n",
       "     {u'id': u'10202856399563799', u'name': u'Jay M. Chang'},\n",
       "     {u'id': u'10106326331063768', u'name': u'Jon A. Jo'},\n",
       "     {u'id': u'10153481552898825', u'name': u'Edward Chang'},\n",
       "     {u'id': u'10203612780622785', u'name': u'Cheri Gima'},\n",
       "     {u'id': u'10152640960884671', u'name': u'Changsta Boogie'},\n",
       "     {u'id': u'10204176566373478', u'name': u'Elliott Hamai'},\n",
       "     {u'id': u'10154972940430646', u'name': u'Rosette K. Lee'},\n",
       "     {u'id': u'10153797149398438', u'name': u'David Jeon'},\n",
       "     {u'id': u'10205253061140129', u'name': u'Christine Suh'},\n",
       "     {u'id': u'10155421517090632', u'name': u'Chris Huh'},\n",
       "     {u'id': u'871653142878843', u'name': u'Sam Nam'}],\n",
       "    u'paging': {u'cursors': {u'after': u'ODcxNjUzMTQyODc4ODQz',\n",
       "      u'before': u'MTAyMDQ3NDg0NjUxNDMyMDMZD'}}},\n",
       "   u'link': u'https://www.facebook.com/photo.php?fbid=10154435975966271&set=a.10151253946156271.511183.524581270&type=3',\n",
       "   u'message': u\"YAAAAAS. Wait, now that it's here, I dont know when I might really wear this. \\U0001f605\",\n",
       "   u'name': u'Instagram photo by Aaron Kim \\u2022 Sep 27, 2016 at 12:39am UTC',\n",
       "   u'object_id': u'10154435975966271',\n",
       "   u'picture': u'https://scontent.xx.fbcdn.net/v/t1.0-0/p130x130/14469556_10154435975966271_5365423164338955335_n.jpg?oh=0285c4b886f5b3e397c204f20c80fc51&oe=58995C3B',\n",
       "   u'privacy': {u'allow': u'',\n",
       "    u'deny': u'',\n",
       "    u'description': u'Your friends',\n",
       "    u'friends': u'',\n",
       "    u'value': u'ALL_FRIENDS'},\n",
       "   u'status_type': u'added_photos',\n",
       "   u'subscribed': True,\n",
       "   u'type': u'photo',\n",
       "   u'updated_time': u'2016-09-27T00:44:19+0000'},\n",
       "  {u'actions': [{u'link': u'https://www.facebook.com/10153515548171271/posts/10154435128381271',\n",
       "     u'name': u'Comment'},\n",
       "    {u'link': u'https://www.facebook.com/10153515548171271/posts/10154435128381271',\n",
       "     u'name': u'Like'}],\n",
       "   u'application': {u'category': u'Entertainment',\n",
       "    u'id': u'124024574287414',\n",
       "    u'link': u'https://www.instagram.com/',\n",
       "    u'name': u'Instagram',\n",
       "    u'namespace': u'instapp'},\n",
       "   u'caption': u'Instagram photo by Aaron Kim \\u2022 Sep 26, 2016 at 5:55pm UTC',\n",
       "   u'created_time': u'2016-09-26T17:55:58+0000',\n",
       "   u'description': u\"Classmate got some free samples from one of their friends who works for this company. In short, I'd rather not try this again. [?] Anyone up for souplantation?\",\n",
       "   u'from': {u'id': u'10153515548171271', u'name': u'Aaron Kim'},\n",
       "   u'icon': u'https://www.facebook.com/images/icons/post.gif',\n",
       "   u'id': u'10153515548171271_10154435128381271',\n",
       "   u'is_expired': False,\n",
       "   u'is_hidden': False,\n",
       "   u'link': u'https://www.facebook.com/photo.php?fbid=10154435128406271&set=a.10151253946156271.511183.524581270&type=3',\n",
       "   u'message': u\"Classmate got some free samples from one of their friends who works for this company. In short, I'd rather not try this again. \\U0001f615 Anyone up for souplantation?\",\n",
       "   u'name': u'Instagram photo by Aaron Kim \\u2022 Sep 26, 2016 at 5:55pm UTC',\n",
       "   u'object_id': u'10154435128406271',\n",
       "   u'picture': u'https://scontent.xx.fbcdn.net/v/t1.0-0/p130x130/14449753_10154435128406271_5130941414134607154_n.jpg?oh=7123653b12f667f2f6b81e8c39ce8f6d&oe=58C39894',\n",
       "   u'privacy': {u'allow': u'',\n",
       "    u'deny': u'',\n",
       "    u'description': u'Your friends',\n",
       "    u'friends': u'',\n",
       "    u'value': u'ALL_FRIENDS'},\n",
       "   u'status_type': u'added_photos',\n",
       "   u'subscribed': True,\n",
       "   u'type': u'photo',\n",
       "   u'updated_time': u'2016-09-26T20:23:39+0000'},\n",
       "  {u'actions': [{u'link': u'https://www.facebook.com/10153515548171271/posts/10154427727811271',\n",
       "     u'name': u'Comment'},\n",
       "    {u'link': u'https://www.facebook.com/10153515548171271/posts/10154427727811271',\n",
       "     u'name': u'Like'}],\n",
       "   u'comments': {u'data': [{u'can_remove': False,\n",
       "      u'created_time': u'2016-09-24T01:37:23+0000',\n",
       "      u'from': {u'id': u'10154972940430646', u'name': u'Rosette K. Lee'},\n",
       "      u'id': u'10154427727811271_10154427789871271',\n",
       "      u'like_count': 1,\n",
       "      u'message': u\"I'm lamenting Vin's forthcoming absence \\U0001f629\\U0001f629\",\n",
       "      u'user_likes': True},\n",
       "     {u'can_remove': False,\n",
       "      u'created_time': u'2016-09-24T02:50:17+0000',\n",
       "      u'from': {u'id': u'10106152478016556', u'name': u'Alice Won'},\n",
       "      u'id': u'10154427727811271_10154427902401271',\n",
       "      u'like_count': 1,\n",
       "      u'message': u'Ah... Tempting.........',\n",
       "      u'user_likes': True},\n",
       "     {u'can_remove': False,\n",
       "      u'created_time': u'2016-09-24T02:52:48+0000',\n",
       "      u'from': {u'id': u'10152945531693420', u'name': u'Robin Choi'},\n",
       "      u'id': u'10154427727811271_10154427905886271',\n",
       "      u'like_count': 1,\n",
       "      u'message': u'Omgggggggg. I',\n",
       "      u'user_likes': True},\n",
       "     {u'can_remove': False,\n",
       "      u'created_time': u'2016-09-24T04:22:09+0000',\n",
       "      u'from': {u'id': u'10205770863493588', u'name': u'Jumel Datoon Sulabo'},\n",
       "      u'id': u'10154427727811271_10154428018141271',\n",
       "      u'like_count': 1,\n",
       "      u'message': u'!!!',\n",
       "      u'user_likes': True},\n",
       "     {u'can_remove': False,\n",
       "      u'created_time': u'2016-09-24T05:05:39+0000',\n",
       "      u'from': {u'id': u'10153515548171271', u'name': u'Aaron Kim'},\n",
       "      u'id': u'10154427727811271_10154428077141271',\n",
       "      u'like_count': 0,\n",
       "      u'message': u'all gone!',\n",
       "      u'user_likes': False}],\n",
       "    u'paging': {u'cursors': {u'after': u'WTI5dGJXVnVkRjlqZAFhKemIzSTZANVEF4TlRRME1qZA3dOemN4TkRFeU56RTZANVFEzTkRZANU16VXpPUT09',\n",
       "      u'before': u'WTI5dGJXVnVkRjlqZAFhKemIzSTZANVEF4TlRRME1qYzNPRGs0TnpFeU56RTZANVFEzTkRZANE1UQTBNdz09'}}},\n",
       "   u'created_time': u'2016-09-24T00:57:57+0000',\n",
       "   u'from': {u'id': u'10153515548171271', u'name': u'Aaron Kim'},\n",
       "   u'id': u'10153515548171271_10154427727811271',\n",
       "   u'is_expired': False,\n",
       "   u'is_hidden': False,\n",
       "   u'likes': {u'data': [{u'id': u'10152451761034300', u'name': u'Bryan Hsaio'},\n",
       "     {u'id': u'10152945531693420', u'name': u'Robin Choi'},\n",
       "     {u'id': u'10106152478016556', u'name': u'Alice Won'}],\n",
       "    u'paging': {u'cursors': {u'after': u'MTAxMDYxNTI0NzgwMTY1NTYZD',\n",
       "      u'before': u'MTAxNTI0NTE3NjEwMzQzMDAZD'}}},\n",
       "   u'message': u'Anyone up for a dodger game tomorrow? PM me asap.',\n",
       "   u'privacy': {u'allow': u'',\n",
       "    u'deny': u'10150386784941271,869795876370756,10152913135864668,10153744974125660,10154634023171449',\n",
       "    u'description': u'Friends; Except: Acquaintances',\n",
       "    u'friends': u'ALL_FRIENDS',\n",
       "    u'value': u'CUSTOM'},\n",
       "   u'status_type': u'mobile_status_update',\n",
       "   u'subscribed': True,\n",
       "   u'type': u'status',\n",
       "   u'updated_time': u'2016-09-24T07:11:01+0000'}],\n",
       " u'paging': {u'next': u'https://graph.facebook.com/v2.2/10153515548171271/feed?access_token=EAACEdEose0cBAFN0pvxm9APNvXZAP1NHmQrDIDmooIFnnuERxivy65FSsTauwz7sX1FT1KRWyR086nehAzga7TlEMaNykm4IKmqxmoZBbIqXgptV04JGC5bpgvujPhHPkFKKkbvf0ZCZBzRy2GiGO68l61gC6e23Cihf5LKfUgZDZD&limit=25&until=1474678677&__paging_token=enc_AdDB83jq6QvFvgm6FW9WaBE385loKXScGr0zfUOniPBftcmmjhN9ACa3xvT2lkRLZArmMdy3fjYMYZB63ZBhLJ4oLep',\n",
       "  u'previous': u'https://graph.facebook.com/v2.2/10153515548171271/feed?since=1478623629&access_token=EAACEdEose0cBAFN0pvxm9APNvXZAP1NHmQrDIDmooIFnnuERxivy65FSsTauwz7sX1FT1KRWyR086nehAzga7TlEMaNykm4IKmqxmoZBbIqXgptV04JGC5bpgvujPhHPkFKKkbvf0ZCZBzRy2GiGO68l61gC6e23Cihf5LKfUgZDZD&limit=25&__paging_token=enc_AdDcajJ0SXNcMvUmU0Cy7xbO4F9eI7L4MaZA2VPxvOEGPdKGDzYHvrGf0ew8kxo6pyFpxUG7SKEXsOYw3TxTZAyoLo&__previous=1'}}"
      ]
     },
     "execution_count": 5,
     "metadata": {},
     "output_type": "execute_result"
    }
   ],
   "source": [
    "content"
   ]
  },
  {
   "cell_type": "code",
   "execution_count": 6,
   "metadata": {
    "collapsed": true
   },
   "outputs": [],
   "source": [
    "sealed = encoder.seal(content)"
   ]
  },
  {
   "cell_type": "code",
   "execution_count": 7,
   "metadata": {
    "collapsed": false
   },
   "outputs": [
    {
     "name": "stdout",
     "output_type": "stream",
     "text": [
      "* sealed: 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\n"
     ]
    }
   ],
   "source": [
    "print(\"* sealed: %s\" % sealed)"
   ]
  },
  {
   "cell_type": "code",
   "execution_count": 8,
   "metadata": {
    "collapsed": false
   },
   "outputs": [],
   "source": [
    "with open('fbfeed.p','wb') as fp:\n",
    "    pickle.dump(sealed,fp)"
   ]
  },
  {
   "cell_type": "code",
   "execution_count": 9,
   "metadata": {
    "collapsed": false
   },
   "outputs": [],
   "source": [
    "# Loading pickle data from file (if necessary)\n",
    "\n",
    "with open('fbfeed.p','rb') as fp:\n",
    "    sealedcontent = pickle.load(fp)\n",
    "\n",
    "unsealed = encoder.unseal(sealedcontent)"
   ]
  },
  {
   "cell_type": "code",
   "execution_count": 10,
   "metadata": {
    "collapsed": false
   },
   "outputs": [
    {
     "data": {
      "text/plain": [
       "dict"
      ]
     },
     "execution_count": 10,
     "metadata": {},
     "output_type": "execute_result"
    }
   ],
   "source": [
    "type(unsealed)"
   ]
  },
  {
   "cell_type": "code",
   "execution_count": 11,
   "metadata": {
    "collapsed": false,
    "scrolled": true
   },
   "outputs": [
    {
     "name": "stdout",
     "output_type": "stream",
     "text": [
      "-------\n",
      "Title:Instagram photo by Aaron Kim • Nov 8, 2016 at 4:46pm UTC\n",
      "Time:2016-11-08T16:46:25+0000\n",
      "Message:Had to do my part to make sure no  burgers were dropped today. Get yours!\n",
      "-------\n",
      "-------\n",
      "-------\n",
      "Title:Instagram photo by Aaron Kim • Nov 1, 2016 at 5:42am UTC\n",
      "Time:2016-11-01T05:42:35+0000\n",
      "Message:Tagged along for a Halloween hike w the good folks at Christfit. Good way to start the week! But it's already November. Where'd the year go??\n",
      "Location:{'city': 'Altadena', 'zip': '91001', 'country': 'United States', 'longitude': -118.13054080357, 'state': 'CA', 'latitude': 34.204032626371}\n",
      "-------\n",
      "Title:Instagram photo by Aaron Kim • Oct 29, 2016 at 9:13pm UTC\n",
      "Time:2016-10-29T21:17:43+0000\n",
      "Message:Was looking for a costume but took a detour and got distracted. 😬\n",
      "Location:{'city': 'Los Angeles', 'zip': '90012', 'country': 'United States', 'longitude': -118.24051062316, 'state': 'CA', 'street': '134 Japanese Village Plaza, Bldg E', 'latitude': 34.048925395375}\n",
      "-------\n",
      "-------\n",
      "Title:Kmovie - JBG Pictures USA\n",
      "Time:2016-10-25T07:35:30+0000\n",
      "Message:Lawls. Anyone up to catch this tomorrow night? Limited engagement (tomorrow's the last day at CGV LA). 9:45 show. HMU.\n",
      "-------\n",
      "Title:The Best Fried Chicken in Los Angeles: Fall 2016\n",
      "Time:2016-10-24T19:57:08+0000\n",
      "Message:Lets go. All of them. At once. Kidding about the \"at once.\" Maybe.\n",
      "-------\n",
      "Title:This Chart Shows Who Marries CEOs, Doctors, Chefs and Janitors\n",
      "Time:2016-10-24T18:36:22+0000\n",
      "Message:So, I guess I should be narrowing my scope to teachers and nurses? 😂\n",
      "-------\n",
      "-------\n",
      "-------\n",
      "Title:Instagram photo by Aaron Kim • Oct 23, 2016 at 11:17pm UTC\n",
      "Time:2016-10-23T23:17:47+0000\n",
      "Message:Thanks, Red Bull! Time for another red bull! No, wait. Maybe some water. 😅\n",
      "-------\n",
      "Title:Instagram photo by Aaron Kim • Oct 22, 2016 at 4:48pm UTC\n",
      "Time:2016-10-22T18:14:24+0000\n",
      "Message:Been feeling like life's been missing some color. Maybe next time I should take a trip to wherever those other two airlines fly.\n",
      "-------\n",
      "Title:Cowboy Bebop Funko Pops coming this December\n",
      "Time:2016-10-17T20:51:10+0000\n",
      "Message:Having one of those nerd out moments.\n",
      "-------\n",
      "-------\n",
      "Title:\"DEBATE NIGHT!\" — A Bad Lip Reading of the first 2016 Presidential Debate\n",
      "Time:2016-10-11T06:00:37+0000\n",
      "Message:There isn't much to look forward to in this election, so how about a laugh? \n",
      "\n",
      "\"This is so fun. It's like going back to school in imported shoes and one perfectly matched pant suit.\"\n",
      "-------\n",
      "Title:Instagram photo by Aaron Kim • Oct 5, 2016 at 2:09am UTC\n",
      "Time:2016-10-05T02:09:30+0000\n",
      "Message:Happy Taco Day!\n",
      "-------\n",
      "Title:Instagram photo by Aaron Kim • Oct 4, 2016 at 12:47am UTC\n",
      "Time:2016-10-04T07:20:24+0000\n",
      "Message:Some legit cosplay. I think. What's going on here?\n",
      "-------\n",
      "-------\n",
      "-------\n",
      "Title:Jimmy Onishi trying to pronounce Massachusetts State (Gaki No Tsukai)\n",
      "Time:2016-09-28T02:54:33+0000\n",
      "Message:che chu chu.  Try not to laugh. 😂\n",
      "\n",
      "\n",
      "-------\n",
      "Title:Instagram photo by Aaron Kim • Sep 27, 2016 at 12:39am UTC\n",
      "Time:2016-09-27T00:44:19+0000\n",
      "Message:YAAAAAS. Wait, now that it's here, I dont know when I might really wear this. 😅\n",
      "-------\n",
      "Title:Instagram photo by Aaron Kim • Sep 26, 2016 at 5:55pm UTC\n",
      "Time:2016-09-26T17:55:58+0000\n",
      "Message:Classmate got some free samples from one of their friends who works for this company. In short, I'd rather not try this again. 😕 Anyone up for souplantation?\n",
      "-------\n",
      "-------\n"
     ]
    }
   ],
   "source": [
    "locations = {}\n",
    "\n",
    "messages = []\n",
    "\n",
    "for post in unsealed['data']:\n",
    "    try:\n",
    "        print 'Title:%s'%post['name']\n",
    "        print 'Time:%s'%post['created_time']\n",
    "        print 'Message:%s'%post['message']\n",
    "        print 'Location:%s'%post['place']['location']\n",
    "        locations.update({post['created_time']:post['place']['location']})\n",
    "    except:\n",
    "        pass\n",
    "    print \"-------\"\n"
   ]
  },
  {
   "cell_type": "code",
   "execution_count": 12,
   "metadata": {
    "collapsed": false
   },
   "outputs": [
    {
     "data": {
      "text/plain": [
       "{'2016-10-29T21:17:43+0000': {'city': 'Los Angeles',\n",
       "  'country': 'United States',\n",
       "  'latitude': 34.048925395375,\n",
       "  'longitude': -118.24051062316,\n",
       "  'state': 'CA',\n",
       "  'street': '134 Japanese Village Plaza, Bldg E',\n",
       "  'zip': '90012'},\n",
       " '2016-11-01T05:42:35+0000': {'city': 'Altadena',\n",
       "  'country': 'United States',\n",
       "  'latitude': 34.204032626371,\n",
       "  'longitude': -118.13054080357,\n",
       "  'state': 'CA',\n",
       "  'zip': '91001'}}"
      ]
     },
     "execution_count": 12,
     "metadata": {},
     "output_type": "execute_result"
    }
   ],
   "source": [
    "locations"
   ]
  },
  {
   "cell_type": "code",
   "execution_count": 13,
   "metadata": {
    "collapsed": false
   },
   "outputs": [
    {
     "name": "stdout",
     "output_type": "stream",
     "text": [
      "Given the available Facebook post data, the following location data is available:\n"
     ]
    },
    {
     "data": {
      "text/html": [
       "<div>\n",
       "<table border=\"1\" class=\"dataframe\">\n",
       "  <thead>\n",
       "    <tr style=\"text-align: right;\">\n",
       "      <th></th>\n",
       "      <th>city</th>\n",
       "      <th>zip</th>\n",
       "      <th>country</th>\n",
       "      <th>longitude</th>\n",
       "      <th>state</th>\n",
       "      <th>street</th>\n",
       "      <th>latitude</th>\n",
       "    </tr>\n",
       "  </thead>\n",
       "  <tbody>\n",
       "    <tr>\n",
       "      <th>0</th>\n",
       "      <td>Los Angeles</td>\n",
       "      <td>90012</td>\n",
       "      <td>United States</td>\n",
       "      <td>-118.240511</td>\n",
       "      <td>CA</td>\n",
       "      <td>134 Japanese Village Plaza, Bldg E</td>\n",
       "      <td>34.048925</td>\n",
       "    </tr>\n",
       "    <tr>\n",
       "      <th>1</th>\n",
       "      <td>Altadena</td>\n",
       "      <td>91001</td>\n",
       "      <td>United States</td>\n",
       "      <td>-118.130541</td>\n",
       "      <td>CA</td>\n",
       "      <td>nan</td>\n",
       "      <td>34.204033</td>\n",
       "    </tr>\n",
       "  </tbody>\n",
       "</table>\n",
       "</div>"
      ],
      "text/plain": [
       "          city    zip        country   longitude state  \\\n",
       "0  Los Angeles  90012  United States -118.240511    CA   \n",
       "1     Altadena  91001  United States -118.130541    CA   \n",
       "\n",
       "                               street   latitude  \n",
       "0  134 Japanese Village Plaza, Bldg E  34.048925  \n",
       "1                                 nan  34.204033  "
      ]
     },
     "execution_count": 13,
     "metadata": {},
     "output_type": "execute_result"
    }
   ],
   "source": [
    "fblocdata = []\n",
    "columns = []\n",
    "\n",
    "for timestamp in locations.keys():\n",
    "    columns = locations[timestamp].keys() if len(locations[timestamp].keys()) > len(columns) else columns\n",
    "    \n",
    "    fbdataholder= []\n",
    "    for title in columns:\n",
    "        try:\n",
    "            fbdataholder.append(locations[timestamp][title])\n",
    "        except:\n",
    "            fbdataholder.append('nan')\n",
    "    \n",
    "    fblocdata.append(fbdataholder)\n",
    "\n",
    "fblocdf = pd.DataFrame(fblocdata,columns=columns)\n",
    "    \n",
    "print 'Given the available Facebook post data, the following location data is available:'\n",
    "fblocdf"
   ]
  },
  {
   "cell_type": "code",
   "execution_count": null,
   "metadata": {
    "collapsed": true
   },
   "outputs": [],
   "source": []
  },
  {
   "cell_type": "code",
   "execution_count": null,
   "metadata": {
    "collapsed": true
   },
   "outputs": [],
   "source": []
  },
  {
   "cell_type": "code",
   "execution_count": null,
   "metadata": {
    "collapsed": true
   },
   "outputs": [],
   "source": []
  },
  {
   "cell_type": "code",
   "execution_count": null,
   "metadata": {
    "collapsed": true
   },
   "outputs": [],
   "source": []
  },
  {
   "cell_type": "markdown",
   "metadata": {},
   "source": [
    "# ==== LOCATION BASED CHALLENGE (LBC) ===="
   ]
  },
  {
   "cell_type": "markdown",
   "metadata": {},
   "source": [
    "The concept of this approach is to take user location data (if available) and try to build a challenge option based on the location data available.\n",
    "\n",
    "Google maps user location history is enabled by default and running in the background, so it's reasonable to assume this data is readily available.\n",
    "\n",
    "Some things to consider when deciding to include an LBC are:\n",
    "- Date of last location : for now, the null hypothesis/assumption about the user's ability to retain their own location information is that they will be able to recall where they were with reasonable accuracy for up to three days worth of history. This assumption will need to be tested and will need to be updated accordingly in effort to improve the location recollection success rate over time.\n",
    "- If the data is a pair of geographic coordinates but no specific business/name reference, is there user history with reference to any businesses or other frequent markers that can be tied to the user? \n",
    "    - eg: have a pair of coordinates for the corner of Washington and Hill. There is a subway, chinese restaurant, mcdonalds, courthouse, and maker city LA/General Assembly. Is there user history to suggest which one (or more) of these were visited by the user? "
   ]
  },
  {
   "cell_type": "markdown",
   "metadata": {},
   "source": [
    "## Source : Google Maps Data"
   ]
  },
  {
   "cell_type": "code",
   "execution_count": 14,
   "metadata": {
    "collapsed": true
   },
   "outputs": [],
   "source": [
    "g_loc_hist_raw = pd.read_json('LocationHistory.json')"
   ]
  },
  {
   "cell_type": "code",
   "execution_count": 15,
   "metadata": {
    "collapsed": false
   },
   "outputs": [
    {
     "data": {
      "text/plain": [
       "140"
      ]
     },
     "execution_count": 15,
     "metadata": {},
     "output_type": "execute_result"
    }
   ],
   "source": [
    "len(g_loc_hist_raw)"
   ]
  },
  {
   "cell_type": "code",
   "execution_count": 16,
   "metadata": {
    "collapsed": true
   },
   "outputs": [],
   "source": [
    "# Added new data available from 11/07\n",
    "g_loc_hist2_raw = pd.read_json('LocationHistory-20161107.json')"
   ]
  },
  {
   "cell_type": "code",
   "execution_count": 17,
   "metadata": {
    "collapsed": false
   },
   "outputs": [
    {
     "data": {
      "text/plain": [
       "502"
      ]
     },
     "execution_count": 17,
     "metadata": {},
     "output_type": "execute_result"
    }
   ],
   "source": [
    "len(g_loc_hist2_raw)"
   ]
  },
  {
   "cell_type": "code",
   "execution_count": 18,
   "metadata": {
    "collapsed": true
   },
   "outputs": [],
   "source": [
    "gmaps_columns = ['timestamp','lat','lng','acc','vel','heading','altitude','v_acc']"
   ]
  },
  {
   "cell_type": "code",
   "execution_count": 19,
   "metadata": {
    "collapsed": true
   },
   "outputs": [],
   "source": [
    "# Google maps location does not include the decimal point. \n",
    "# The code below is to set the offset programmatically in \n",
    "# case there is a need to do so in the future. \n",
    "\n",
    "gmaps_coord_disp = 10.**7"
   ]
  },
  {
   "cell_type": "code",
   "execution_count": 20,
   "metadata": {
    "collapsed": false
   },
   "outputs": [],
   "source": [
    "def pandify_gloc_data(data, columns, geodisp = 10.**7):\n",
    "    loc_hist = []\n",
    "        \n",
    "    for datapoint in data:\n",
    "        try:\n",
    "            timestamp = datetime.datetime.fromtimestamp((int(datapoint['timestampMs'])/1000)).strftime('%Y-%m-%d %H:%M:%S')\n",
    "        except:\n",
    "            timestamp = ''\n",
    "        try:\n",
    "            lat = datapoint['latitudeE7']/(geodisp)\n",
    "        except:\n",
    "            lat = '0'\n",
    "        try:\n",
    "            lng = datapoint['longitudeE7']/(geodisp)\n",
    "        except:\n",
    "            lng = '0'\n",
    "        try:\n",
    "            alt = datapoint['altitude']\n",
    "        except:\n",
    "            alt = '0'\n",
    "        try:\n",
    "            v_acc = datapoint['verticalAccuracy']\n",
    "        except:\n",
    "            v_acc = '0'\n",
    "        try:\n",
    "            vel = datapoint['velocity']\n",
    "        except:\n",
    "            vel = '0'\n",
    "        try:\n",
    "            heading = datapoint['heading']\n",
    "        except:\n",
    "            heading = '0'\n",
    "        try:\n",
    "            acc = datapoint['accuracy']\n",
    "        except:\n",
    "            acc = '0'\n",
    "\n",
    "        loc_hist.append([timestamp, lat, lng, acc, vel, heading, alt, v_acc])\n",
    "    \n",
    "    \n",
    "    return pd.DataFrame(loc_hist, columns=columns)\n",
    "    "
   ]
  },
  {
   "cell_type": "code",
   "execution_count": 21,
   "metadata": {
    "collapsed": false
   },
   "outputs": [],
   "source": [
    "gloc_hist = pandify_gloc_data(g_loc_hist_raw['locations'],gmaps_columns,gmaps_coord_disp)"
   ]
  },
  {
   "cell_type": "code",
   "execution_count": 22,
   "metadata": {
    "collapsed": false
   },
   "outputs": [
    {
     "data": {
      "text/html": [
       "<div>\n",
       "<table border=\"1\" class=\"dataframe\">\n",
       "  <thead>\n",
       "    <tr style=\"text-align: right;\">\n",
       "      <th></th>\n",
       "      <th>timestamp</th>\n",
       "      <th>lat</th>\n",
       "      <th>lng</th>\n",
       "      <th>acc</th>\n",
       "      <th>vel</th>\n",
       "      <th>heading</th>\n",
       "      <th>altitude</th>\n",
       "      <th>v_acc</th>\n",
       "    </tr>\n",
       "  </thead>\n",
       "  <tbody>\n",
       "    <tr>\n",
       "      <th>0</th>\n",
       "      <td>2016-10-30 15:10:58</td>\n",
       "      <td>34.066658</td>\n",
       "      <td>-118.314842</td>\n",
       "      <td>10</td>\n",
       "      <td>12</td>\n",
       "      <td>333</td>\n",
       "      <td>67</td>\n",
       "      <td>4</td>\n",
       "    </tr>\n",
       "    <tr>\n",
       "      <th>1</th>\n",
       "      <td>2016-10-30 15:09:45</td>\n",
       "      <td>34.066535</td>\n",
       "      <td>-118.314814</td>\n",
       "      <td>43</td>\n",
       "      <td>0</td>\n",
       "      <td>0</td>\n",
       "      <td>0</td>\n",
       "      <td>0</td>\n",
       "    </tr>\n",
       "    <tr>\n",
       "      <th>2</th>\n",
       "      <td>2016-10-30 15:08:16</td>\n",
       "      <td>34.062415</td>\n",
       "      <td>-118.314190</td>\n",
       "      <td>10</td>\n",
       "      <td>15</td>\n",
       "      <td>3</td>\n",
       "      <td>61</td>\n",
       "      <td>4</td>\n",
       "    </tr>\n",
       "    <tr>\n",
       "      <th>3</th>\n",
       "      <td>2016-10-30 15:06:07</td>\n",
       "      <td>34.052689</td>\n",
       "      <td>-118.309767</td>\n",
       "      <td>5</td>\n",
       "      <td>15</td>\n",
       "      <td>270</td>\n",
       "      <td>60</td>\n",
       "      <td>12</td>\n",
       "    </tr>\n",
       "    <tr>\n",
       "      <th>4</th>\n",
       "      <td>2016-10-30 15:04:00</td>\n",
       "      <td>34.052777</td>\n",
       "      <td>-118.297520</td>\n",
       "      <td>10</td>\n",
       "      <td>2</td>\n",
       "      <td>270</td>\n",
       "      <td>98</td>\n",
       "      <td>32</td>\n",
       "    </tr>\n",
       "    <tr>\n",
       "      <th>5</th>\n",
       "      <td>2016-10-30 15:03:40</td>\n",
       "      <td>34.052990</td>\n",
       "      <td>-118.296021</td>\n",
       "      <td>29</td>\n",
       "      <td>0</td>\n",
       "      <td>0</td>\n",
       "      <td>0</td>\n",
       "      <td>0</td>\n",
       "    </tr>\n",
       "    <tr>\n",
       "      <th>6</th>\n",
       "      <td>2016-10-30 13:45:19</td>\n",
       "      <td>34.052913</td>\n",
       "      <td>-118.296064</td>\n",
       "      <td>65</td>\n",
       "      <td>0</td>\n",
       "      <td>0</td>\n",
       "      <td>92</td>\n",
       "      <td>48</td>\n",
       "    </tr>\n",
       "    <tr>\n",
       "      <th>7</th>\n",
       "      <td>2016-10-30 13:23:02</td>\n",
       "      <td>34.053039</td>\n",
       "      <td>-118.296075</td>\n",
       "      <td>40</td>\n",
       "      <td>0</td>\n",
       "      <td>0</td>\n",
       "      <td>0</td>\n",
       "      <td>0</td>\n",
       "    </tr>\n",
       "    <tr>\n",
       "      <th>8</th>\n",
       "      <td>2016-10-30 13:21:27</td>\n",
       "      <td>34.052142</td>\n",
       "      <td>-118.287942</td>\n",
       "      <td>10</td>\n",
       "      <td>10</td>\n",
       "      <td>266</td>\n",
       "      <td>68</td>\n",
       "      <td>4</td>\n",
       "    </tr>\n",
       "    <tr>\n",
       "      <th>9</th>\n",
       "      <td>2016-10-30 13:17:39</td>\n",
       "      <td>34.059100</td>\n",
       "      <td>-118.282748</td>\n",
       "      <td>10</td>\n",
       "      <td>6</td>\n",
       "      <td>271</td>\n",
       "      <td>86</td>\n",
       "      <td>4</td>\n",
       "    </tr>\n",
       "  </tbody>\n",
       "</table>\n",
       "</div>"
      ],
      "text/plain": [
       "             timestamp        lat         lng  acc vel heading altitude v_acc\n",
       "0  2016-10-30 15:10:58  34.066658 -118.314842   10  12     333       67     4\n",
       "1  2016-10-30 15:09:45  34.066535 -118.314814   43   0       0        0     0\n",
       "2  2016-10-30 15:08:16  34.062415 -118.314190   10  15       3       61     4\n",
       "3  2016-10-30 15:06:07  34.052689 -118.309767    5  15     270       60    12\n",
       "4  2016-10-30 15:04:00  34.052777 -118.297520   10   2     270       98    32\n",
       "5  2016-10-30 15:03:40  34.052990 -118.296021   29   0       0        0     0\n",
       "6  2016-10-30 13:45:19  34.052913 -118.296064   65   0       0       92    48\n",
       "7  2016-10-30 13:23:02  34.053039 -118.296075   40   0       0        0     0\n",
       "8  2016-10-30 13:21:27  34.052142 -118.287942   10  10     266       68     4\n",
       "9  2016-10-30 13:17:39  34.059100 -118.282748   10   6     271       86     4"
      ]
     },
     "execution_count": 22,
     "metadata": {},
     "output_type": "execute_result"
    }
   ],
   "source": [
    "gloc_hist.head(10)"
   ]
  },
  {
   "cell_type": "code",
   "execution_count": 23,
   "metadata": {
    "collapsed": false
   },
   "outputs": [
    {
     "data": {
      "text/html": [
       "<div>\n",
       "<table border=\"1\" class=\"dataframe\">\n",
       "  <thead>\n",
       "    <tr style=\"text-align: right;\">\n",
       "      <th></th>\n",
       "      <th>timestamp</th>\n",
       "      <th>lat</th>\n",
       "      <th>lng</th>\n",
       "      <th>acc</th>\n",
       "      <th>vel</th>\n",
       "      <th>heading</th>\n",
       "      <th>altitude</th>\n",
       "      <th>v_acc</th>\n",
       "    </tr>\n",
       "  </thead>\n",
       "  <tbody>\n",
       "    <tr>\n",
       "      <th>135</th>\n",
       "      <td>2016-10-28 09:03:31</td>\n",
       "      <td>34.031147</td>\n",
       "      <td>-118.265579</td>\n",
       "      <td>75</td>\n",
       "      <td>0</td>\n",
       "      <td>0</td>\n",
       "      <td>63</td>\n",
       "      <td>10</td>\n",
       "    </tr>\n",
       "    <tr>\n",
       "      <th>136</th>\n",
       "      <td>2016-10-28 08:46:13</td>\n",
       "      <td>34.031180</td>\n",
       "      <td>-118.266102</td>\n",
       "      <td>65</td>\n",
       "      <td>0</td>\n",
       "      <td>0</td>\n",
       "      <td>61</td>\n",
       "      <td>11</td>\n",
       "    </tr>\n",
       "    <tr>\n",
       "      <th>137</th>\n",
       "      <td>2016-10-28 08:43:01</td>\n",
       "      <td>34.031125</td>\n",
       "      <td>-118.266337</td>\n",
       "      <td>73</td>\n",
       "      <td>0</td>\n",
       "      <td>0</td>\n",
       "      <td>0</td>\n",
       "      <td>0</td>\n",
       "    </tr>\n",
       "    <tr>\n",
       "      <th>138</th>\n",
       "      <td>2016-10-28 08:38:02</td>\n",
       "      <td>34.029564</td>\n",
       "      <td>-118.268051</td>\n",
       "      <td>10</td>\n",
       "      <td>1</td>\n",
       "      <td>31</td>\n",
       "      <td>66</td>\n",
       "      <td>4</td>\n",
       "    </tr>\n",
       "    <tr>\n",
       "      <th>139</th>\n",
       "      <td>2016-10-28 08:33:21</td>\n",
       "      <td>34.029688</td>\n",
       "      <td>-118.270350</td>\n",
       "      <td>30</td>\n",
       "      <td>3</td>\n",
       "      <td>341</td>\n",
       "      <td>67</td>\n",
       "      <td>4</td>\n",
       "    </tr>\n",
       "  </tbody>\n",
       "</table>\n",
       "</div>"
      ],
      "text/plain": [
       "               timestamp        lat         lng  acc vel heading altitude  \\\n",
       "135  2016-10-28 09:03:31  34.031147 -118.265579   75   0       0       63   \n",
       "136  2016-10-28 08:46:13  34.031180 -118.266102   65   0       0       61   \n",
       "137  2016-10-28 08:43:01  34.031125 -118.266337   73   0       0        0   \n",
       "138  2016-10-28 08:38:02  34.029564 -118.268051   10   1      31       66   \n",
       "139  2016-10-28 08:33:21  34.029688 -118.270350   30   3     341       67   \n",
       "\n",
       "    v_acc  \n",
       "135    10  \n",
       "136    11  \n",
       "137     0  \n",
       "138     4  \n",
       "139     4  "
      ]
     },
     "execution_count": 23,
     "metadata": {},
     "output_type": "execute_result"
    }
   ],
   "source": [
    "gloc_hist.tail()"
   ]
  },
  {
   "cell_type": "code",
   "execution_count": 24,
   "metadata": {
    "collapsed": true
   },
   "outputs": [],
   "source": [
    "X = np.array(gloc_hist['lat'])\n",
    "y = np.array(gloc_hist['lng'])"
   ]
  },
  {
   "cell_type": "markdown",
   "metadata": {},
   "source": [
    "###  ------------ LBC Subsection - EDA - Dimension Validation ---------------\n",
    "\n",
    "It may be conceptually logical that user location history is a predictable pattern, we need to verify that there is enough of a pattern upon which we can base one this dimension of user behavior. One such method is to inspect the data by plotting the geolocation points over a series of actual-data plots as well as scaled/clustered plots. If the visualizations show that there is no reasonable clustering of data points or that the user's location history is too \"sparse\" (that is, the user's location is too erratic to determine a location pattern), then it would be reasonable to conclude that user location is not a viable dimension of user behavior modeling."
   ]
  },
  {
   "cell_type": "code",
   "execution_count": 25,
   "metadata": {
    "collapsed": false
   },
   "outputs": [
    {
     "data": {
      "text/plain": [
       "<matplotlib.collections.PathCollection at 0x11d5bf650>"
      ]
     },
     "execution_count": 25,
     "metadata": {},
     "output_type": "execute_result"
    },
    {
     "data": {
      "image/png": "[encoded data removed]",
      "text/plain": [
       "<matplotlib.figure.Figure at 0x11a865650>"
      ]
     },
     "metadata": {},
     "output_type": "display_data"
    }
   ],
   "source": [
    "# Rough scatter plot of initial dataset \n",
    "\n",
    "plt.scatter(X,y)"
   ]
  },
  {
   "cell_type": "code",
   "execution_count": 26,
   "metadata": {
    "collapsed": false
   },
   "outputs": [],
   "source": [
    "from sklearn import preprocessing"
   ]
  },
  {
   "cell_type": "code",
   "execution_count": 27,
   "metadata": {
    "collapsed": true
   },
   "outputs": [],
   "source": [
    "X_scaled = preprocessing.scale(X)\n",
    "y_scaled = preprocessing.scale(y)"
   ]
  },
  {
   "cell_type": "code",
   "execution_count": 28,
   "metadata": {
    "collapsed": false
   },
   "outputs": [
    {
     "data": {
      "text/plain": [
       "<matplotlib.collections.PathCollection at 0x11d957c90>"
      ]
     },
     "execution_count": 28,
     "metadata": {},
     "output_type": "execute_result"
    },
    {
     "data": {
      "image/png": "[encoded data removed]",
      "text/plain": [
       "<matplotlib.figure.Figure at 0x11d817a90>"
      ]
     },
     "metadata": {},
     "output_type": "display_data"
    }
   ],
   "source": [
    "plt.scatter(X_scaled, y_scaled)"
   ]
  },
  {
   "cell_type": "code",
   "execution_count": 29,
   "metadata": {
    "collapsed": true
   },
   "outputs": [],
   "source": [
    "gloc_hist_alt = pandify_gloc_data(g_loc_hist2_raw['locations'],gmaps_columns,gmaps_coord_disp)"
   ]
  },
  {
   "cell_type": "code",
   "execution_count": 30,
   "metadata": {
    "collapsed": false
   },
   "outputs": [
    {
     "data": {
      "text/html": [
       "<div>\n",
       "<table border=\"1\" class=\"dataframe\">\n",
       "  <thead>\n",
       "    <tr style=\"text-align: right;\">\n",
       "      <th></th>\n",
       "      <th>timestamp</th>\n",
       "      <th>lat</th>\n",
       "      <th>lng</th>\n",
       "      <th>acc</th>\n",
       "      <th>vel</th>\n",
       "      <th>heading</th>\n",
       "      <th>altitude</th>\n",
       "      <th>v_acc</th>\n",
       "    </tr>\n",
       "  </thead>\n",
       "  <tbody>\n",
       "    <tr>\n",
       "      <th>0</th>\n",
       "      <td>2016-11-07 18:07:21</td>\n",
       "      <td>34.066386</td>\n",
       "      <td>-118.314777</td>\n",
       "      <td>5</td>\n",
       "      <td>0</td>\n",
       "      <td>0</td>\n",
       "      <td>63</td>\n",
       "      <td>16</td>\n",
       "    </tr>\n",
       "    <tr>\n",
       "      <th>1</th>\n",
       "      <td>2016-11-07 18:07:21</td>\n",
       "      <td>34.066391</td>\n",
       "      <td>-118.314760</td>\n",
       "      <td>34</td>\n",
       "      <td>0</td>\n",
       "      <td>0</td>\n",
       "      <td>0</td>\n",
       "      <td>0</td>\n",
       "    </tr>\n",
       "    <tr>\n",
       "      <th>2</th>\n",
       "      <td>2016-11-07 17:23:39</td>\n",
       "      <td>34.036402</td>\n",
       "      <td>-118.308978</td>\n",
       "      <td>10</td>\n",
       "      <td>2</td>\n",
       "      <td>238</td>\n",
       "      <td>58</td>\n",
       "      <td>24</td>\n",
       "    </tr>\n",
       "    <tr>\n",
       "      <th>3</th>\n",
       "      <td>2016-11-07 14:43:53</td>\n",
       "      <td>34.031227</td>\n",
       "      <td>-118.265898</td>\n",
       "      <td>53</td>\n",
       "      <td>0</td>\n",
       "      <td>0</td>\n",
       "      <td>0</td>\n",
       "      <td>0</td>\n",
       "    </tr>\n",
       "  </tbody>\n",
       "</table>\n",
       "</div>"
      ],
      "text/plain": [
       "             timestamp        lat         lng  acc vel heading altitude v_acc\n",
       "0  2016-11-07 18:07:21  34.066386 -118.314777    5   0       0       63    16\n",
       "1  2016-11-07 18:07:21  34.066391 -118.314760   34   0       0        0     0\n",
       "2  2016-11-07 17:23:39  34.036402 -118.308978   10   2     238       58    24\n",
       "3  2016-11-07 14:43:53  34.031227 -118.265898   53   0       0        0     0"
      ]
     },
     "execution_count": 30,
     "metadata": {},
     "output_type": "execute_result"
    }
   ],
   "source": [
    "gloc_hist_alt.head(4)"
   ]
  },
  {
   "cell_type": "code",
   "execution_count": 31,
   "metadata": {
    "collapsed": false
   },
   "outputs": [
    {
     "data": {
      "text/plain": [
       "<matplotlib.collections.PathCollection at 0x11d9e9950>"
      ]
     },
     "execution_count": 31,
     "metadata": {},
     "output_type": "execute_result"
    },
    {
     "data": {
      "image/png": "[encoded data removed]",
      "text/plain": [
       "<matplotlib.figure.Figure at 0x11d817b10>"
      ]
     },
     "metadata": {},
     "output_type": "display_data"
    }
   ],
   "source": [
    "# Rough scatter plot\n",
    "\n",
    "plt.scatter(gloc_hist_alt['lat'],gloc_hist_alt['lng'])"
   ]
  },
  {
   "cell_type": "code",
   "execution_count": 32,
   "metadata": {
    "collapsed": false
   },
   "outputs": [
    {
     "data": {
      "text/plain": [
       "<matplotlib.collections.PathCollection at 0x11dc52e50>"
      ]
     },
     "execution_count": 32,
     "metadata": {},
     "output_type": "execute_result"
    },
    {
     "data": {
      "image/png": "[encoded data removed]",
      "text/plain": [
       "<matplotlib.figure.Figure at 0x11dbd9250>"
      ]
     },
     "metadata": {},
     "output_type": "display_data"
    }
   ],
   "source": [
    "# Re-scaled scatter plot\n",
    "\n",
    "plt.scatter(preprocessing.scale(np.array(gloc_hist_alt['lat'])), \\\n",
    "            preprocessing.scale(np.array(gloc_hist_alt['lng'])))"
   ]
  },
  {
   "cell_type": "code",
   "execution_count": 33,
   "metadata": {
    "collapsed": true
   },
   "outputs": [],
   "source": [
    "from sklearn.cluster import KMeans\n",
    "from sklearn.metrics import silhouette_score\n",
    "from sklearn import cluster, preprocessing, metrics"
   ]
  },
  {
   "cell_type": "code",
   "execution_count": 38,
   "metadata": {
    "collapsed": false
   },
   "outputs": [],
   "source": [
    "geoc = np.array(gloc_hist_alt[['lat','lng']])"
   ]
  },
  {
   "cell_type": "code",
   "execution_count": 50,
   "metadata": {
    "collapsed": false
   },
   "outputs": [],
   "source": [
    "kmlist = []\n",
    "\n",
    "for n in range(2,100):\n",
    "    lkm = KMeans(n_clusters=n)\n",
    "    ltkm = lkm.fit(geoc)\n",
    "    ltkm_score = metrics.silhouette_score(geoc, ltkm.labels_, metric='euclidean')\n",
    "    kmlist.append([n,ltkm_score])\n",
    "    #print \"K:%s - Silhouette:%s\"%(n,ltkm_score)"
   ]
  },
  {
   "cell_type": "code",
   "execution_count": 51,
   "metadata": {
    "collapsed": false
   },
   "outputs": [],
   "source": [
    "klist = np.array(kmlist)"
   ]
  },
  {
   "cell_type": "code",
   "execution_count": 52,
   "metadata": {
    "collapsed": false
   },
   "outputs": [
    {
     "data": {
      "text/plain": [
       "0.69835268055188837"
      ]
     },
     "execution_count": 52,
     "metadata": {},
     "output_type": "execute_result"
    }
   ],
   "source": [
    "np.amax(klist[3:100,1])"
   ]
  },
  {
   "cell_type": "code",
   "execution_count": 53,
   "metadata": {
    "collapsed": false
   },
   "outputs": [
    {
     "name": "stdout",
     "output_type": "stream",
     "text": [
      "n-cluster matching max sil score : 44.0\n"
     ]
    }
   ],
   "source": [
    "for n in klist:\n",
    "    if n[1]==np.amax(klist[3:100,1]):\n",
    "        n_max =n[0]\n",
    "        sc_max = np.amax(klist[3:100,1])\n",
    "        print \"n-cluster matching max sil score : %s\"%n[0]"
   ]
  },
  {
   "cell_type": "code",
   "execution_count": 214,
   "metadata": {
    "collapsed": false
   },
   "outputs": [
    {
     "data": {
      "text/plain": [
       "(0.5, 0.725)"
      ]
     },
     "execution_count": 214,
     "metadata": {},
     "output_type": "execute_result"
    },
    {
     "data": {
      "image/png": "[encoded data removed]",
      "text/plain": [
       "<matplotlib.figure.Figure at 0x12a5da310>"
      ]
     },
     "metadata": {},
     "output_type": "display_data"
    }
   ],
   "source": [
    "plt.figure(figsize=(12,10))\n",
    "plt.plot(klist[1:,0],klist[1:,1])\n",
    "plt.axhline(y=sc_max,c=\"red\",linewidth=0.5,zorder=0)\n",
    "plt.annotate('Max Silhouette Score (n=%s, score=%s)'%(n_max,sc_max), xy=(n_max, sc_max), xytext=(15, 0.58))\n",
    "plt.title(\"N-Cluster vs. Silhouette Score\")\n",
    "plt.xlabel(\"Clusters \\(n\\)\")\n",
    "plt.ylabel(\"Silhouette Score\")\n",
    "plt.ylim(.5, 0.725)"
   ]
  },
  {
   "cell_type": "code",
   "execution_count": 58,
   "metadata": {
    "collapsed": true
   },
   "outputs": [],
   "source": [
    "lkm = KMeans(n_clusters=44)"
   ]
  },
  {
   "cell_type": "code",
   "execution_count": 59,
   "metadata": {
    "collapsed": false
   },
   "outputs": [],
   "source": [
    "ltkm = lkm.fit(geoc)"
   ]
  },
  {
   "cell_type": "code",
   "execution_count": 60,
   "metadata": {
    "collapsed": false,
    "scrolled": false
   },
   "outputs": [
    {
     "data": {
      "text/plain": [
       "<matplotlib.text.Text at 0x120dc2ed0>"
      ]
     },
     "execution_count": 60,
     "metadata": {},
     "output_type": "execute_result"
    },
    {
     "data": {
      "image/png": "[encoded data removed]",
      "text/plain": [
       "<matplotlib.figure.Figure at 0x11fc2d110>"
      ]
     },
     "metadata": {},
     "output_type": "display_data"
    }
   ],
   "source": [
    "plt.figure(figsize=(12,10))\n",
    "plt.scatter(geoc[:,0], geoc[:,1], c=ltkm.labels_, cmap=plt.cm.prism) \n",
    "plt.title('K-Means Clustering Results with K=2')\n",
    "#plt.scatter(ltkm.cluster_centers_[:,0], ltkm.cluster_centers_[:,1], marker='+', s=100, c='k', linewidth=2)\n",
    "plt.xlabel(\"Latitude\")\n",
    "plt.ylabel(\"Longitude\")\n"
   ]
  },
  {
   "cell_type": "code",
   "execution_count": 61,
   "metadata": {
    "collapsed": false
   },
   "outputs": [],
   "source": [
    "from sklearn.preprocessing import StandardScaler\n",
    "from sklearn.manifold import TSNE\n",
    "\n",
    "my_tsne = TSNE(n_components=2)\n",
    "\n",
    "geoc_stand = StandardScaler().fit_transform(geoc)\n",
    "\n",
    "loc_tsne = my_tsne.fit_transform(geoc_stand)\n",
    "\n",
    "loc_tsne_df = pd.DataFrame({'X1':loc_tsne[:,0], 'X2':loc_tsne[:,1],'y':ltkm.labels_})"
   ]
  },
  {
   "cell_type": "code",
   "execution_count": 62,
   "metadata": {
    "collapsed": false
   },
   "outputs": [
    {
     "data": {
      "text/plain": [
       "<seaborn.axisgrid.FacetGrid at 0x11fa33710>"
      ]
     },
     "execution_count": 62,
     "metadata": {},
     "output_type": "execute_result"
    },
    {
     "data": {
      "image/png": "[encoded data removed]",
      "text/plain": [
       "<matplotlib.figure.Figure at 0x11f9e8a90>"
      ]
     },
     "metadata": {},
     "output_type": "display_data"
    }
   ],
   "source": [
    "import seaborn as sns\n",
    "\n",
    "sns.lmplot('X1','X2',data=loc_tsne_df, fit_reg=False,hue='y', size=10)"
   ]
  },
  {
   "cell_type": "code",
   "execution_count": 49,
   "metadata": {
    "collapsed": false
   },
   "outputs": [
    {
     "name": "stdout",
     "output_type": "stream",
     "text": [
      "Dataset Start: ['2016-10-28 08:33:21']\n",
      "Dataset Finish: ['2016-11-07 18:07:21']\n"
     ]
    }
   ],
   "source": [
    "print \"Dataset Start: %s\"%gloc_hist_alt.tail(1)['timestamp'].values\n",
    "print \"Dataset Finish: %s\"%gloc_hist_alt.head(1)['timestamp'].values"
   ]
  },
  {
   "cell_type": "markdown",
   "metadata": {},
   "source": [
    "### Section Conclusion\n",
    "\n",
    "Though it may seem like a relatively high optimal 'n' given the number of data points, it is not outside the realm of reason that a user may have been located that many number of places over the timeframe of the data (11 days). \n",
    "\n",
    "Given that the points represent actual locations, the interpretation of the scatterplot is that during the observation period, the user traveled mainly between two points, but spent a lot of time in places inbetween the two points. The TSNE plot reveals that of the locations, there may be specific points of interest within the overall location data. \n",
    "\n",
    "This is ideal as we can work towards identifying those points of interest (POI) that the user may have a higher chance of recalling correctly. An \"insignificant datapoint\" (ie: data collected while the user was either in transit or sitting in traffic) which although could be considered a predictor of user behavior (ie: during evening commute, there amy be a point in the travel path in which there may be excessive traffic), may not be a particular point of interest for generating an LBC. User may not be able to easily recall the answer to \"Where are you usually located at around XX:XX AM/PM?\" if that location is a particular intersection. If a location is known/trained such as \"home\" or the name of the company where they work, the user may be more likely to recall the correct answer.\n",
    "\n",
    "###  ------------ END of LBC Subsection - EDA - Dimension Validation ---------------"
   ]
  },
  {
   "cell_type": "markdown",
   "metadata": {},
   "source": [
    "###  ------------ LBC Subsection - EDA - Finding POI ---------------"
   ]
  },
  {
   "cell_type": "code",
   "execution_count": null,
   "metadata": {
    "collapsed": true
   },
   "outputs": [],
   "source": [
    "# For the purposes of placing the user at a specific time, we will not need the velocity and heading. \n",
    "# For now, we will keep accuracy and vertical accuracy figures."
   ]
  },
  {
   "cell_type": "code",
   "execution_count": 63,
   "metadata": {
    "collapsed": false
   },
   "outputs": [],
   "source": [
    "gloc_hist_alt = gloc_hist_alt.drop(['vel'], axis=1).drop(['altitude'], axis=1)"
   ]
  },
  {
   "cell_type": "code",
   "execution_count": 64,
   "metadata": {
    "collapsed": false
   },
   "outputs": [
    {
     "data": {
      "text/html": [
       "<div>\n",
       "<table border=\"1\" class=\"dataframe\">\n",
       "  <thead>\n",
       "    <tr style=\"text-align: right;\">\n",
       "      <th></th>\n",
       "      <th>timestamp</th>\n",
       "      <th>lat</th>\n",
       "      <th>lng</th>\n",
       "      <th>acc</th>\n",
       "      <th>heading</th>\n",
       "      <th>v_acc</th>\n",
       "    </tr>\n",
       "  </thead>\n",
       "  <tbody>\n",
       "    <tr>\n",
       "      <th>0</th>\n",
       "      <td>2016-11-07 18:07:21</td>\n",
       "      <td>34.066386</td>\n",
       "      <td>-118.314777</td>\n",
       "      <td>5</td>\n",
       "      <td>0</td>\n",
       "      <td>16</td>\n",
       "    </tr>\n",
       "    <tr>\n",
       "      <th>1</th>\n",
       "      <td>2016-11-07 18:07:21</td>\n",
       "      <td>34.066391</td>\n",
       "      <td>-118.314760</td>\n",
       "      <td>34</td>\n",
       "      <td>0</td>\n",
       "      <td>0</td>\n",
       "    </tr>\n",
       "    <tr>\n",
       "      <th>2</th>\n",
       "      <td>2016-11-07 17:23:39</td>\n",
       "      <td>34.036402</td>\n",
       "      <td>-118.308978</td>\n",
       "      <td>10</td>\n",
       "      <td>238</td>\n",
       "      <td>24</td>\n",
       "    </tr>\n",
       "    <tr>\n",
       "      <th>3</th>\n",
       "      <td>2016-11-07 14:43:53</td>\n",
       "      <td>34.031227</td>\n",
       "      <td>-118.265898</td>\n",
       "      <td>53</td>\n",
       "      <td>0</td>\n",
       "      <td>0</td>\n",
       "    </tr>\n",
       "    <tr>\n",
       "      <th>4</th>\n",
       "      <td>2016-11-07 14:06:17</td>\n",
       "      <td>34.031402</td>\n",
       "      <td>-118.265722</td>\n",
       "      <td>77</td>\n",
       "      <td>0</td>\n",
       "      <td>10</td>\n",
       "    </tr>\n",
       "    <tr>\n",
       "      <th>5</th>\n",
       "      <td>2016-11-07 13:40:24</td>\n",
       "      <td>34.031327</td>\n",
       "      <td>-118.266530</td>\n",
       "      <td>10</td>\n",
       "      <td>305</td>\n",
       "      <td>6</td>\n",
       "    </tr>\n",
       "    <tr>\n",
       "      <th>6</th>\n",
       "      <td>2016-11-07 08:57:21</td>\n",
       "      <td>34.031385</td>\n",
       "      <td>-118.266618</td>\n",
       "      <td>62</td>\n",
       "      <td>0</td>\n",
       "      <td>0</td>\n",
       "    </tr>\n",
       "    <tr>\n",
       "      <th>7</th>\n",
       "      <td>2016-11-07 08:57:02</td>\n",
       "      <td>34.032807</td>\n",
       "      <td>-118.261937</td>\n",
       "      <td>2000</td>\n",
       "      <td>0</td>\n",
       "      <td>20</td>\n",
       "    </tr>\n",
       "    <tr>\n",
       "      <th>8</th>\n",
       "      <td>2016-11-07 08:06:54</td>\n",
       "      <td>34.052506</td>\n",
       "      <td>-118.298265</td>\n",
       "      <td>10</td>\n",
       "      <td>0</td>\n",
       "      <td>16</td>\n",
       "    </tr>\n",
       "    <tr>\n",
       "      <th>9</th>\n",
       "      <td>2016-11-06 23:11:02</td>\n",
       "      <td>34.066417</td>\n",
       "      <td>-118.314795</td>\n",
       "      <td>27</td>\n",
       "      <td>0</td>\n",
       "      <td>0</td>\n",
       "    </tr>\n",
       "  </tbody>\n",
       "</table>\n",
       "</div>"
      ],
      "text/plain": [
       "             timestamp        lat         lng   acc heading v_acc\n",
       "0  2016-11-07 18:07:21  34.066386 -118.314777     5       0    16\n",
       "1  2016-11-07 18:07:21  34.066391 -118.314760    34       0     0\n",
       "2  2016-11-07 17:23:39  34.036402 -118.308978    10     238    24\n",
       "3  2016-11-07 14:43:53  34.031227 -118.265898    53       0     0\n",
       "4  2016-11-07 14:06:17  34.031402 -118.265722    77       0    10\n",
       "5  2016-11-07 13:40:24  34.031327 -118.266530    10     305     6\n",
       "6  2016-11-07 08:57:21  34.031385 -118.266618    62       0     0\n",
       "7  2016-11-07 08:57:02  34.032807 -118.261937  2000       0    20\n",
       "8  2016-11-07 08:06:54  34.052506 -118.298265    10       0    16\n",
       "9  2016-11-06 23:11:02  34.066417 -118.314795    27       0     0"
      ]
     },
     "execution_count": 64,
     "metadata": {},
     "output_type": "execute_result"
    }
   ],
   "source": [
    "gloc_hist_alt.head(10)"
   ]
  },
  {
   "cell_type": "code",
   "execution_count": 78,
   "metadata": {
    "collapsed": true
   },
   "outputs": [],
   "source": [
    "gloc_hist_alt['poi_id'] = ltkm.labels_"
   ]
  },
  {
   "cell_type": "code",
   "execution_count": 66,
   "metadata": {
    "collapsed": false
   },
   "outputs": [
    {
     "data": {
      "text/html": [
       "<div>\n",
       "<table border=\"1\" class=\"dataframe\">\n",
       "  <thead>\n",
       "    <tr style=\"text-align: right;\">\n",
       "      <th></th>\n",
       "      <th>timestamp</th>\n",
       "      <th>lat</th>\n",
       "      <th>lng</th>\n",
       "      <th>acc</th>\n",
       "      <th>heading</th>\n",
       "      <th>v_acc</th>\n",
       "      <th>poi_id</th>\n",
       "    </tr>\n",
       "  </thead>\n",
       "  <tbody>\n",
       "    <tr>\n",
       "      <th>0</th>\n",
       "      <td>2016-11-07 18:07:21</td>\n",
       "      <td>34.066386</td>\n",
       "      <td>-118.314777</td>\n",
       "      <td>5</td>\n",
       "      <td>0</td>\n",
       "      <td>16</td>\n",
       "      <td>8</td>\n",
       "    </tr>\n",
       "    <tr>\n",
       "      <th>1</th>\n",
       "      <td>2016-11-07 18:07:21</td>\n",
       "      <td>34.066391</td>\n",
       "      <td>-118.314760</td>\n",
       "      <td>34</td>\n",
       "      <td>0</td>\n",
       "      <td>0</td>\n",
       "      <td>8</td>\n",
       "    </tr>\n",
       "    <tr>\n",
       "      <th>2</th>\n",
       "      <td>2016-11-07 17:23:39</td>\n",
       "      <td>34.036402</td>\n",
       "      <td>-118.308978</td>\n",
       "      <td>10</td>\n",
       "      <td>238</td>\n",
       "      <td>24</td>\n",
       "      <td>16</td>\n",
       "    </tr>\n",
       "    <tr>\n",
       "      <th>3</th>\n",
       "      <td>2016-11-07 14:43:53</td>\n",
       "      <td>34.031227</td>\n",
       "      <td>-118.265898</td>\n",
       "      <td>53</td>\n",
       "      <td>0</td>\n",
       "      <td>0</td>\n",
       "      <td>3</td>\n",
       "    </tr>\n",
       "    <tr>\n",
       "      <th>4</th>\n",
       "      <td>2016-11-07 14:06:17</td>\n",
       "      <td>34.031402</td>\n",
       "      <td>-118.265722</td>\n",
       "      <td>77</td>\n",
       "      <td>0</td>\n",
       "      <td>10</td>\n",
       "      <td>3</td>\n",
       "    </tr>\n",
       "    <tr>\n",
       "      <th>5</th>\n",
       "      <td>2016-11-07 13:40:24</td>\n",
       "      <td>34.031327</td>\n",
       "      <td>-118.266530</td>\n",
       "      <td>10</td>\n",
       "      <td>305</td>\n",
       "      <td>6</td>\n",
       "      <td>3</td>\n",
       "    </tr>\n",
       "    <tr>\n",
       "      <th>6</th>\n",
       "      <td>2016-11-07 08:57:21</td>\n",
       "      <td>34.031385</td>\n",
       "      <td>-118.266618</td>\n",
       "      <td>62</td>\n",
       "      <td>0</td>\n",
       "      <td>0</td>\n",
       "      <td>3</td>\n",
       "    </tr>\n",
       "    <tr>\n",
       "      <th>7</th>\n",
       "      <td>2016-11-07 08:57:02</td>\n",
       "      <td>34.032807</td>\n",
       "      <td>-118.261937</td>\n",
       "      <td>2000</td>\n",
       "      <td>0</td>\n",
       "      <td>20</td>\n",
       "      <td>31</td>\n",
       "    </tr>\n",
       "    <tr>\n",
       "      <th>8</th>\n",
       "      <td>2016-11-07 08:06:54</td>\n",
       "      <td>34.052506</td>\n",
       "      <td>-118.298265</td>\n",
       "      <td>10</td>\n",
       "      <td>0</td>\n",
       "      <td>16</td>\n",
       "      <td>29</td>\n",
       "    </tr>\n",
       "    <tr>\n",
       "      <th>9</th>\n",
       "      <td>2016-11-06 23:11:02</td>\n",
       "      <td>34.066417</td>\n",
       "      <td>-118.314795</td>\n",
       "      <td>27</td>\n",
       "      <td>0</td>\n",
       "      <td>0</td>\n",
       "      <td>8</td>\n",
       "    </tr>\n",
       "  </tbody>\n",
       "</table>\n",
       "</div>"
      ],
      "text/plain": [
       "             timestamp        lat         lng   acc heading v_acc  poi_id\n",
       "0  2016-11-07 18:07:21  34.066386 -118.314777     5       0    16       8\n",
       "1  2016-11-07 18:07:21  34.066391 -118.314760    34       0     0       8\n",
       "2  2016-11-07 17:23:39  34.036402 -118.308978    10     238    24      16\n",
       "3  2016-11-07 14:43:53  34.031227 -118.265898    53       0     0       3\n",
       "4  2016-11-07 14:06:17  34.031402 -118.265722    77       0    10       3\n",
       "5  2016-11-07 13:40:24  34.031327 -118.266530    10     305     6       3\n",
       "6  2016-11-07 08:57:21  34.031385 -118.266618    62       0     0       3\n",
       "7  2016-11-07 08:57:02  34.032807 -118.261937  2000       0    20      31\n",
       "8  2016-11-07 08:06:54  34.052506 -118.298265    10       0    16      29\n",
       "9  2016-11-06 23:11:02  34.066417 -118.314795    27       0     0       8"
      ]
     },
     "execution_count": 66,
     "metadata": {},
     "output_type": "execute_result"
    }
   ],
   "source": [
    "gloc_hist_alt.head(10)"
   ]
  },
  {
   "cell_type": "markdown",
   "metadata": {
    "collapsed": true
   },
   "source": [
    "Based on the following degree precision information (Source: Wikipedia, https://en.wikipedia.org/wiki/Decimal_degrees), add locations with reduced accuracy within reasonable tolerances for clustering options.\n",
    "\n",
    "![title](gps-resolution.png)"
   ]
  },
  {
   "cell_type": "code",
   "execution_count": 67,
   "metadata": {
    "collapsed": false
   },
   "outputs": [],
   "source": [
    "gloc_hist_alt['lat4'] = [round(glat,4) for glat in gloc_hist_alt['lat']]"
   ]
  },
  {
   "cell_type": "code",
   "execution_count": 68,
   "metadata": {
    "collapsed": false
   },
   "outputs": [],
   "source": [
    "gloc_hist_alt['lng4'] = [round(glng,4) for glng in gloc_hist_alt['lng']]"
   ]
  },
  {
   "cell_type": "code",
   "execution_count": 69,
   "metadata": {
    "collapsed": true
   },
   "outputs": [],
   "source": [
    "gloc_hist_alt['lat5'] = [round(glat,5) for glat in gloc_hist_alt['lat']]"
   ]
  },
  {
   "cell_type": "code",
   "execution_count": 70,
   "metadata": {
    "collapsed": true
   },
   "outputs": [],
   "source": [
    "gloc_hist_alt['lng5'] = [round(glng,5) for glng in gloc_hist_alt['lng']]"
   ]
  },
  {
   "cell_type": "code",
   "execution_count": 79,
   "metadata": {
    "collapsed": false
   },
   "outputs": [
    {
     "data": {
      "text/html": [
       "<div>\n",
       "<table border=\"1\" class=\"dataframe\">\n",
       "  <thead>\n",
       "    <tr style=\"text-align: right;\">\n",
       "      <th></th>\n",
       "      <th>timestamp</th>\n",
       "      <th>lat</th>\n",
       "      <th>lng</th>\n",
       "      <th>acc</th>\n",
       "      <th>heading</th>\n",
       "      <th>v_acc</th>\n",
       "      <th>poi_id</th>\n",
       "      <th>lat4</th>\n",
       "      <th>lng4</th>\n",
       "      <th>lat5</th>\n",
       "      <th>lng5</th>\n",
       "    </tr>\n",
       "  </thead>\n",
       "  <tbody>\n",
       "    <tr>\n",
       "      <th>0</th>\n",
       "      <td>2016-11-07 18:07:21</td>\n",
       "      <td>34.066386</td>\n",
       "      <td>-118.314777</td>\n",
       "      <td>5</td>\n",
       "      <td>0</td>\n",
       "      <td>16</td>\n",
       "      <td>8</td>\n",
       "      <td>34.0664</td>\n",
       "      <td>-118.3148</td>\n",
       "      <td>34.06639</td>\n",
       "      <td>-118.31478</td>\n",
       "    </tr>\n",
       "    <tr>\n",
       "      <th>1</th>\n",
       "      <td>2016-11-07 18:07:21</td>\n",
       "      <td>34.066391</td>\n",
       "      <td>-118.314760</td>\n",
       "      <td>34</td>\n",
       "      <td>0</td>\n",
       "      <td>0</td>\n",
       "      <td>8</td>\n",
       "      <td>34.0664</td>\n",
       "      <td>-118.3148</td>\n",
       "      <td>34.06639</td>\n",
       "      <td>-118.31476</td>\n",
       "    </tr>\n",
       "    <tr>\n",
       "      <th>2</th>\n",
       "      <td>2016-11-07 17:23:39</td>\n",
       "      <td>34.036402</td>\n",
       "      <td>-118.308978</td>\n",
       "      <td>10</td>\n",
       "      <td>238</td>\n",
       "      <td>24</td>\n",
       "      <td>16</td>\n",
       "      <td>34.0364</td>\n",
       "      <td>-118.3090</td>\n",
       "      <td>34.03640</td>\n",
       "      <td>-118.30898</td>\n",
       "    </tr>\n",
       "    <tr>\n",
       "      <th>3</th>\n",
       "      <td>2016-11-07 14:43:53</td>\n",
       "      <td>34.031227</td>\n",
       "      <td>-118.265898</td>\n",
       "      <td>53</td>\n",
       "      <td>0</td>\n",
       "      <td>0</td>\n",
       "      <td>3</td>\n",
       "      <td>34.0312</td>\n",
       "      <td>-118.2659</td>\n",
       "      <td>34.03123</td>\n",
       "      <td>-118.26590</td>\n",
       "    </tr>\n",
       "    <tr>\n",
       "      <th>4</th>\n",
       "      <td>2016-11-07 14:06:17</td>\n",
       "      <td>34.031402</td>\n",
       "      <td>-118.265722</td>\n",
       "      <td>77</td>\n",
       "      <td>0</td>\n",
       "      <td>10</td>\n",
       "      <td>3</td>\n",
       "      <td>34.0314</td>\n",
       "      <td>-118.2657</td>\n",
       "      <td>34.03140</td>\n",
       "      <td>-118.26572</td>\n",
       "    </tr>\n",
       "    <tr>\n",
       "      <th>5</th>\n",
       "      <td>2016-11-07 13:40:24</td>\n",
       "      <td>34.031327</td>\n",
       "      <td>-118.266530</td>\n",
       "      <td>10</td>\n",
       "      <td>305</td>\n",
       "      <td>6</td>\n",
       "      <td>3</td>\n",
       "      <td>34.0313</td>\n",
       "      <td>-118.2665</td>\n",
       "      <td>34.03133</td>\n",
       "      <td>-118.26653</td>\n",
       "    </tr>\n",
       "    <tr>\n",
       "      <th>6</th>\n",
       "      <td>2016-11-07 08:57:21</td>\n",
       "      <td>34.031385</td>\n",
       "      <td>-118.266618</td>\n",
       "      <td>62</td>\n",
       "      <td>0</td>\n",
       "      <td>0</td>\n",
       "      <td>3</td>\n",
       "      <td>34.0314</td>\n",
       "      <td>-118.2666</td>\n",
       "      <td>34.03138</td>\n",
       "      <td>-118.26662</td>\n",
       "    </tr>\n",
       "    <tr>\n",
       "      <th>7</th>\n",
       "      <td>2016-11-07 08:57:02</td>\n",
       "      <td>34.032807</td>\n",
       "      <td>-118.261937</td>\n",
       "      <td>2000</td>\n",
       "      <td>0</td>\n",
       "      <td>20</td>\n",
       "      <td>31</td>\n",
       "      <td>34.0328</td>\n",
       "      <td>-118.2619</td>\n",
       "      <td>34.03281</td>\n",
       "      <td>-118.26194</td>\n",
       "    </tr>\n",
       "    <tr>\n",
       "      <th>8</th>\n",
       "      <td>2016-11-07 08:06:54</td>\n",
       "      <td>34.052506</td>\n",
       "      <td>-118.298265</td>\n",
       "      <td>10</td>\n",
       "      <td>0</td>\n",
       "      <td>16</td>\n",
       "      <td>29</td>\n",
       "      <td>34.0525</td>\n",
       "      <td>-118.2983</td>\n",
       "      <td>34.05251</td>\n",
       "      <td>-118.29826</td>\n",
       "    </tr>\n",
       "    <tr>\n",
       "      <th>9</th>\n",
       "      <td>2016-11-06 23:11:02</td>\n",
       "      <td>34.066417</td>\n",
       "      <td>-118.314795</td>\n",
       "      <td>27</td>\n",
       "      <td>0</td>\n",
       "      <td>0</td>\n",
       "      <td>8</td>\n",
       "      <td>34.0664</td>\n",
       "      <td>-118.3148</td>\n",
       "      <td>34.06642</td>\n",
       "      <td>-118.31479</td>\n",
       "    </tr>\n",
       "  </tbody>\n",
       "</table>\n",
       "</div>"
      ],
      "text/plain": [
       "             timestamp        lat         lng   acc heading v_acc  poi_id  \\\n",
       "0  2016-11-07 18:07:21  34.066386 -118.314777     5       0    16       8   \n",
       "1  2016-11-07 18:07:21  34.066391 -118.314760    34       0     0       8   \n",
       "2  2016-11-07 17:23:39  34.036402 -118.308978    10     238    24      16   \n",
       "3  2016-11-07 14:43:53  34.031227 -118.265898    53       0     0       3   \n",
       "4  2016-11-07 14:06:17  34.031402 -118.265722    77       0    10       3   \n",
       "5  2016-11-07 13:40:24  34.031327 -118.266530    10     305     6       3   \n",
       "6  2016-11-07 08:57:21  34.031385 -118.266618    62       0     0       3   \n",
       "7  2016-11-07 08:57:02  34.032807 -118.261937  2000       0    20      31   \n",
       "8  2016-11-07 08:06:54  34.052506 -118.298265    10       0    16      29   \n",
       "9  2016-11-06 23:11:02  34.066417 -118.314795    27       0     0       8   \n",
       "\n",
       "      lat4      lng4      lat5       lng5  \n",
       "0  34.0664 -118.3148  34.06639 -118.31478  \n",
       "1  34.0664 -118.3148  34.06639 -118.31476  \n",
       "2  34.0364 -118.3090  34.03640 -118.30898  \n",
       "3  34.0312 -118.2659  34.03123 -118.26590  \n",
       "4  34.0314 -118.2657  34.03140 -118.26572  \n",
       "5  34.0313 -118.2665  34.03133 -118.26653  \n",
       "6  34.0314 -118.2666  34.03138 -118.26662  \n",
       "7  34.0328 -118.2619  34.03281 -118.26194  \n",
       "8  34.0525 -118.2983  34.05251 -118.29826  \n",
       "9  34.0664 -118.3148  34.06642 -118.31479  "
      ]
     },
     "execution_count": 79,
     "metadata": {},
     "output_type": "execute_result"
    }
   ],
   "source": [
    "gloc_hist_alt.head(10)"
   ]
  },
  {
   "cell_type": "code",
   "execution_count": 85,
   "metadata": {
    "collapsed": false
   },
   "outputs": [
    {
     "data": {
      "text/plain": [
       "<seaborn.axisgrid.FacetGrid at 0x124c20e90>"
      ]
     },
     "execution_count": 85,
     "metadata": {},
     "output_type": "execute_result"
    },
    {
     "data": {
      "image/png": "[encoded data removed]",
      "text/plain": [
       "<matplotlib.figure.Figure at 0x1265d5b50>"
      ]
     },
     "metadata": {},
     "output_type": "display_data"
    }
   ],
   "source": [
    "gloc4_tsne = TSNE(n_components=2)\n",
    "geoc4_stand = StandardScaler().fit_transform(gloc_hist_alt[['lat4','lng4']])\n",
    "\n",
    "loc4_tsne = gloc4_tsne.fit_transform(geoc4_stand)\n",
    "loc4_tsne_df = pd.DataFrame({'X1':loc4_tsne[:,0], 'X2':loc4_tsne[:,1],'y':ltkm.labels_})\n",
    "\n",
    "sns.lmplot('X1','X2',data=loc4_tsne_df, fit_reg=False,hue='y', size=10)"
   ]
  },
  {
   "cell_type": "code",
   "execution_count": 92,
   "metadata": {
    "collapsed": false
   },
   "outputs": [
    {
     "data": {
      "text/plain": [
       "<seaborn.axisgrid.FacetGrid at 0x125d6ef50>"
      ]
     },
     "execution_count": 92,
     "metadata": {},
     "output_type": "execute_result"
    },
    {
     "data": {
      "image/png": "[encoded data removed]",
      "text/plain": [
       "<matplotlib.figure.Figure at 0x12998bb50>"
      ]
     },
     "metadata": {},
     "output_type": "display_data"
    }
   ],
   "source": [
    "gloc5_tsne = TSNE(n_components=2)\n",
    "geoc5_stand = StandardScaler().fit_transform(gloc_hist_alt[['lat5','lng5']])\n",
    "\n",
    "loc5_tsne = gloc5_tsne.fit_transform(geoc5_stand)\n",
    "loc5_tsne_df = pd.DataFrame({'X1':loc5_tsne[:,0], 'X2':loc5_tsne[:,1],'y':ltkm.labels_})\n",
    "\n",
    "sns.lmplot('X1','X2',data=loc5_tsne_df, fit_reg=False,hue='y', size=10)"
   ]
  },
  {
   "cell_type": "code",
   "execution_count": 241,
   "metadata": {
    "collapsed": false
   },
   "outputs": [],
   "source": [
    "poi_id_list = gloc_hist_alt['poi_id'].value_counts().to_frame(name='Count').reset_index()"
   ]
  },
  {
   "cell_type": "code",
   "execution_count": 252,
   "metadata": {
    "collapsed": false
   },
   "outputs": [
    {
     "data": {
      "text/html": [
       "<div>\n",
       "<table border=\"1\" class=\"dataframe\">\n",
       "  <thead>\n",
       "    <tr style=\"text-align: right;\">\n",
       "      <th></th>\n",
       "      <th>index</th>\n",
       "      <th>Count</th>\n",
       "    </tr>\n",
       "  </thead>\n",
       "  <tbody>\n",
       "    <tr>\n",
       "      <th>0</th>\n",
       "      <td>8</td>\n",
       "      <td>89</td>\n",
       "    </tr>\n",
       "    <tr>\n",
       "      <th>1</th>\n",
       "      <td>3</td>\n",
       "      <td>84</td>\n",
       "    </tr>\n",
       "    <tr>\n",
       "      <th>2</th>\n",
       "      <td>2</td>\n",
       "      <td>80</td>\n",
       "    </tr>\n",
       "    <tr>\n",
       "      <th>3</th>\n",
       "      <td>28</td>\n",
       "      <td>25</td>\n",
       "    </tr>\n",
       "    <tr>\n",
       "      <th>4</th>\n",
       "      <td>0</td>\n",
       "      <td>19</td>\n",
       "    </tr>\n",
       "    <tr>\n",
       "      <th>5</th>\n",
       "      <td>15</td>\n",
       "      <td>18</td>\n",
       "    </tr>\n",
       "    <tr>\n",
       "      <th>6</th>\n",
       "      <td>1</td>\n",
       "      <td>14</td>\n",
       "    </tr>\n",
       "    <tr>\n",
       "      <th>7</th>\n",
       "      <td>5</td>\n",
       "      <td>13</td>\n",
       "    </tr>\n",
       "    <tr>\n",
       "      <th>8</th>\n",
       "      <td>10</td>\n",
       "      <td>13</td>\n",
       "    </tr>\n",
       "    <tr>\n",
       "      <th>9</th>\n",
       "      <td>29</td>\n",
       "      <td>12</td>\n",
       "    </tr>\n",
       "  </tbody>\n",
       "</table>\n",
       "</div>"
      ],
      "text/plain": [
       "   index  Count\n",
       "0      8     89\n",
       "1      3     84\n",
       "2      2     80\n",
       "3     28     25\n",
       "4      0     19\n",
       "5     15     18\n",
       "6      1     14\n",
       "7      5     13\n",
       "8     10     13\n",
       "9     29     12"
      ]
     },
     "execution_count": 252,
     "metadata": {},
     "output_type": "execute_result"
    }
   ],
   "source": [
    "poi_id_list.head(10)"
   ]
  },
  {
   "cell_type": "code",
   "execution_count": null,
   "metadata": {
    "collapsed": true
   },
   "outputs": [],
   "source": [
    "# The value counts of the POI id's shows us there are three locations in particular that may be of \n",
    "# high interest to the user. "
   ]
  },
  {
   "cell_type": "code",
   "execution_count": 245,
   "metadata": {
    "collapsed": true
   },
   "outputs": [],
   "source": [
    "def showmap(maplat,maplng,zoom=16):\n",
    "\n",
    "    from IPython.display import IFrame\n",
    "    from IPython.core.display import display\n",
    "\n",
    "    # Google Maps URL template for an iframe\n",
    "\n",
    "    maps_url = \"http://maps.google.com/maps?q={0}+{1}&z={2}&output=embed\".format(maplat,maplng,zoom)\n",
    "    print maps_url\n",
    "\n",
    "    display(IFrame(maps_url, '400px', '300px'))"
   ]
  },
  {
   "cell_type": "code",
   "execution_count": 258,
   "metadata": {
    "collapsed": false,
    "scrolled": false
   },
   "outputs": [
    {
     "name": "stdout",
     "output_type": "stream",
     "text": [
      "34.0664876966 -118.314874163\n",
      "http://maps.google.com/maps?q=34.0664876966+-118.314874163&z=16&output=embed\n"
     ]
    },
    {
     "data": {
      "text/html": [
       "\n",
       "        <iframe\n",
       "            width=\"400px\"\n",
       "            height=\"300px\"\n",
       "            src=\"http://maps.google.com/maps?q=34.0664876966+-118.314874163&z=16&output=embed\"\n",
       "            frameborder=\"0\"\n",
       "            allowfullscreen\n",
       "        ></iframe>\n",
       "        "
      ],
      "text/plain": [
       "<IPython.lib.display.IFrame at 0x12bc65350>"
      ]
     },
     "metadata": {},
     "output_type": "display_data"
    },
    {
     "name": "stdout",
     "output_type": "stream",
     "text": [
      "34.0311754976 -118.266346281\n",
      "http://maps.google.com/maps?q=34.0311754976+-118.266346281&z=16&output=embed\n"
     ]
    },
    {
     "data": {
      "text/html": [
       "\n",
       "        <iframe\n",
       "            width=\"400px\"\n",
       "            height=\"300px\"\n",
       "            src=\"http://maps.google.com/maps?q=34.0311754976+-118.266346281&z=16&output=embed\"\n",
       "            frameborder=\"0\"\n",
       "            allowfullscreen\n",
       "        ></iframe>\n",
       "        "
      ],
      "text/plain": [
       "<IPython.lib.display.IFrame at 0x12bc65350>"
      ]
     },
     "metadata": {},
     "output_type": "display_data"
    },
    {
     "name": "stdout",
     "output_type": "stream",
     "text": [
      "34.0601805 -118.281154637\n",
      "http://maps.google.com/maps?q=34.0601805+-118.281154637&z=16&output=embed\n"
     ]
    },
    {
     "data": {
      "text/html": [
       "\n",
       "        <iframe\n",
       "            width=\"400px\"\n",
       "            height=\"300px\"\n",
       "            src=\"http://maps.google.com/maps?q=34.0601805+-118.281154637&z=16&output=embed\"\n",
       "            frameborder=\"0\"\n",
       "            allowfullscreen\n",
       "        ></iframe>\n",
       "        "
      ],
      "text/plain": [
       "<IPython.lib.display.IFrame at 0x12bc65350>"
      ]
     },
     "metadata": {},
     "output_type": "display_data"
    },
    {
     "name": "stdout",
     "output_type": "stream",
     "text": [
      "34.06276218 -118.307295352\n",
      "http://maps.google.com/maps?q=34.06276218+-118.307295352&z=16&output=embed\n"
     ]
    },
    {
     "data": {
      "text/html": [
       "\n",
       "        <iframe\n",
       "            width=\"400px\"\n",
       "            height=\"300px\"\n",
       "            src=\"http://maps.google.com/maps?q=34.06276218+-118.307295352&z=16&output=embed\"\n",
       "            frameborder=\"0\"\n",
       "            allowfullscreen\n",
       "        ></iframe>\n",
       "        "
      ],
      "text/plain": [
       "<IPython.lib.display.IFrame at 0x12bc65350>"
      ]
     },
     "metadata": {},
     "output_type": "display_data"
    },
    {
     "name": "stdout",
     "output_type": "stream",
     "text": [
      "34.0586718105 -118.312872321\n",
      "http://maps.google.com/maps?q=34.0586718105+-118.312872321&z=16&output=embed\n"
     ]
    },
    {
     "data": {
      "text/html": [
       "\n",
       "        <iframe\n",
       "            width=\"400px\"\n",
       "            height=\"300px\"\n",
       "            src=\"http://maps.google.com/maps?q=34.0586718105+-118.312872321&z=16&output=embed\"\n",
       "            frameborder=\"0\"\n",
       "            allowfullscreen\n",
       "        ></iframe>\n",
       "        "
      ],
      "text/plain": [
       "<IPython.lib.display.IFrame at 0x12bc65350>"
      ]
     },
     "metadata": {},
     "output_type": "display_data"
    }
   ],
   "source": [
    "# Sample Geographic Location Visualization\n",
    "\n",
    "for n in poi_id_list[:5]['index']:\n",
    "\n",
    "    mean_lat = gloc_hist_alt[(gloc_hist_alt['poi_id']==n)]['lat'].mean()\n",
    "    mean_lng = gloc_hist_alt[(gloc_hist_alt['poi_id']==n)]['lng'].mean()\n",
    "\n",
    "    print mean_lat,mean_lng\n",
    "    showmap(mean_lat,mean_lng)"
   ]
  },
  {
   "cell_type": "markdown",
   "metadata": {
    "collapsed": true
   },
   "source": [
    "###  ------------ END of LBC Subsection - EDA - Finding POI ---------------"
   ]
  },
  {
   "cell_type": "code",
   "execution_count": null,
   "metadata": {
    "collapsed": true
   },
   "outputs": [],
   "source": []
  },
  {
   "cell_type": "code",
   "execution_count": null,
   "metadata": {
    "collapsed": true
   },
   "outputs": [],
   "source": []
  },
  {
   "cell_type": "code",
   "execution_count": null,
   "metadata": {
    "collapsed": true
   },
   "outputs": [],
   "source": []
  },
  {
   "cell_type": "code",
   "execution_count": null,
   "metadata": {
    "collapsed": true
   },
   "outputs": [],
   "source": []
  },
  {
   "cell_type": "code",
   "execution_count": null,
   "metadata": {
    "collapsed": true
   },
   "outputs": [],
   "source": []
  },
  {
   "cell_type": "code",
   "execution_count": null,
   "metadata": {
    "collapsed": true
   },
   "outputs": [],
   "source": []
  },
  {
   "cell_type": "code",
   "execution_count": null,
   "metadata": {
    "collapsed": true
   },
   "outputs": [],
   "source": []
  },
  {
   "cell_type": "code",
   "execution_count": null,
   "metadata": {
    "collapsed": true
   },
   "outputs": [],
   "source": []
  },
  {
   "cell_type": "code",
   "execution_count": null,
   "metadata": {
    "collapsed": true
   },
   "outputs": [],
   "source": []
  },
  {
   "cell_type": "code",
   "execution_count": null,
   "metadata": {
    "collapsed": true
   },
   "outputs": [],
   "source": []
  },
  {
   "cell_type": "markdown",
   "metadata": {},
   "source": [
    "## Source: Facebook/Instagram"
   ]
  },
  {
   "cell_type": "code",
   "execution_count": null,
   "metadata": {
    "collapsed": false
   },
   "outputs": [],
   "source": [
    "locations = {}\n",
    "\n",
    "messages = []\n",
    "fb_loc = []\n",
    "\n",
    "for post in unsealed['data']:\n",
    "    try:\n",
    "        fb_loc.append([post['name'],post['created_time'],post['place']['location']])\n",
    "    except:\n",
    "        pass\n"
   ]
  },
  {
   "cell_type": "code",
   "execution_count": null,
   "metadata": {
    "collapsed": false
   },
   "outputs": [],
   "source": [
    "fb_loc"
   ]
  },
  {
   "cell_type": "code",
   "execution_count": null,
   "metadata": {
    "collapsed": true
   },
   "outputs": [],
   "source": []
  },
  {
   "cell_type": "code",
   "execution_count": null,
   "metadata": {
    "collapsed": true
   },
   "outputs": [],
   "source": []
  },
  {
   "cell_type": "code",
   "execution_count": null,
   "metadata": {
    "collapsed": true
   },
   "outputs": [],
   "source": []
  },
  {
   "cell_type": "code",
   "execution_count": null,
   "metadata": {
    "collapsed": true
   },
   "outputs": [],
   "source": []
  },
  {
   "cell_type": "markdown",
   "metadata": {},
   "source": [
    "## === Question : How to tie in location data across sources to build an LBC? ==="
   ]
  },
  {
   "cell_type": "markdown",
   "metadata": {},
   "source": [
    "Algorithm angles of attack:\n",
    "1. Correlation between posts with location data vs. all posts\n",
    "    - With what frequency (or \"importance\") does the user tie-in location data to their digital footprint?\n",
    "        - Check-ins, place mentions, instagram posts with tags, maps history frequencies, etc. "
   ]
  },
  {
   "cell_type": "code",
   "execution_count": null,
   "metadata": {
    "collapsed": true
   },
   "outputs": [],
   "source": []
  },
  {
   "cell_type": "code",
   "execution_count": null,
   "metadata": {
    "collapsed": true
   },
   "outputs": [],
   "source": []
  },
  {
   "cell_type": "code",
   "execution_count": null,
   "metadata": {
    "collapsed": true
   },
   "outputs": [],
   "source": []
  },
  {
   "cell_type": "code",
   "execution_count": null,
   "metadata": {
    "collapsed": true
   },
   "outputs": [],
   "source": []
  },
  {
   "cell_type": "markdown",
   "metadata": {},
   "source": [
    "# =============== END LBC ================"
   ]
  },
  {
   "cell_type": "code",
   "execution_count": null,
   "metadata": {
    "collapsed": true
   },
   "outputs": [],
   "source": []
  },
  {
   "cell_type": "code",
   "execution_count": null,
   "metadata": {
    "collapsed": true
   },
   "outputs": [],
   "source": []
  },
  {
   "cell_type": "code",
   "execution_count": null,
   "metadata": {
    "collapsed": false
   },
   "outputs": [],
   "source": [
    "user_features = TfidfVectorizer(stop_words='english',\n",
    "                               strip_accents='ascii')"
   ]
  },
  {
   "cell_type": "code",
   "execution_count": null,
   "metadata": {
    "collapsed": false
   },
   "outputs": [],
   "source": [
    "X_features = user_features.fit_transform(messages)"
   ]
  },
  {
   "cell_type": "code",
   "execution_count": null,
   "metadata": {
    "collapsed": false
   },
   "outputs": [],
   "source": [
    "#user_features.vocabulary_"
   ]
  },
  {
   "cell_type": "code",
   "execution_count": null,
   "metadata": {
    "collapsed": true
   },
   "outputs": [],
   "source": []
  },
  {
   "cell_type": "code",
   "execution_count": null,
   "metadata": {
    "collapsed": true
   },
   "outputs": [],
   "source": []
  },
  {
   "cell_type": "markdown",
   "metadata": {},
   "source": [
    "## === LBC Generation ==="
   ]
  },
  {
   "cell_type": "markdown",
   "metadata": {},
   "source": [
    "This is a rough implementation of the Location Based Challenge module for SG1. \n",
    "\n",
    "Expected final implementation will be a LBC class which will include measures to destroy the instance after use or upon expiration so that data does not reside in memory. "
   ]
  },
  {
   "cell_type": "code",
   "execution_count": null,
   "metadata": {
    "collapsed": true
   },
   "outputs": [],
   "source": [
    "# Password tokenization\n",
    "\n",
    "def tokemon():\n",
    "    \n",
    "    \n",
    "    \n",
    "    return token"
   ]
  },
  {
   "cell_type": "code",
   "execution_count": null,
   "metadata": {
    "collapsed": true
   },
   "outputs": [],
   "source": [
    "# Version 0.1 - Basic LBC generation based on assumed data from above. \n",
    "\n",
    "# No parameters\n",
    "# Data is assumed to inherently exist from processing/model applications above.\n",
    "\n",
    "# Function will return LBC with hint if available along with randomized token for answer tokenization. \n",
    "\n",
    "# Secondary function will take LBC challenge answer and token and repond with authentication response. \n",
    "\n",
    "\n",
    "def genlbc():\n",
    "    \n",
    "    challenge = [\"This will be the query.\", \"This would be a hint if available\"]\n",
    "    token = \n",
    "    \n",
    "    return challenge,token"
   ]
  },
  {
   "cell_type": "code",
   "execution_count": null,
   "metadata": {
    "collapsed": true
   },
   "outputs": [],
   "source": [
    "def passlbc(answer,token):\n",
    "    pass\n",
    "    # return False\n",
    "    \n",
    "    # return True"
   ]
  },
  {
   "cell_type": "code",
   "execution_count": null,
   "metadata": {
    "collapsed": true
   },
   "outputs": [],
   "source": []
  },
  {
   "cell_type": "code",
   "execution_count": null,
   "metadata": {
    "collapsed": true
   },
   "outputs": [],
   "source": []
  },
  {
   "cell_type": "code",
   "execution_count": null,
   "metadata": {
    "collapsed": true
   },
   "outputs": [],
   "source": []
  },
  {
   "cell_type": "markdown",
   "metadata": {},
   "source": [
    "## === LBC Tests ==="
   ]
  },
  {
   "cell_type": "code",
   "execution_count": null,
   "metadata": {
    "collapsed": true
   },
   "outputs": [],
   "source": []
  }
 ],
 "metadata": {
  "anaconda-cloud": {},
  "kernelspec": {
   "display_name": "Python [Root]",
   "language": "python",
   "name": "Python [Root]"
  },
  "language_info": {
   "codemirror_mode": {
    "name": "ipython",
    "version": 2
   },
   "file_extension": ".py",
   "mimetype": "text/x-python",
   "name": "python",
   "nbconvert_exporter": "python",
   "pygments_lexer": "ipython2",
   "version": "2.7.12"
  }
 },
 "nbformat": 4,
 "nbformat_minor": 1
}
