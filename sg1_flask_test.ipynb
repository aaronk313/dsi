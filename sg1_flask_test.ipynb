{
 "cells": [
  {
   "cell_type": "code",
   "execution_count": 1,
   "metadata": {
    "collapsed": true
   },
   "outputs": [],
   "source": [
    "import pandas as pd\n",
    "import numpy as np\n",
    "from sklearn.preprocessing import LabelEncoder\n",
    "from sklearn.feature_extraction.text import TfidfVectorizer\n",
    "from sklearn.feature_extraction.text import CountVectorizer\n",
    "from nltk.tag import pos_tag\n",
    "from nltk.tokenize import WordPunctTokenizer\n",
    "from sklearn.linear_model import LogisticRegression\n",
    "from sklearn.model_selection import train_test_split,cross_val_score\n",
    "from collections import Counter\n",
    "import json\n",
    "\n",
    "from sklearn.preprocessing import StandardScaler\n",
    "from sklearn.manifold import TSNE\n",
    "\n",
    "\n",
    "from sklearn.cluster import KMeans\n",
    "from sklearn.metrics import silhouette_score\n",
    "from sklearn import cluster, preprocessing, metrics\n",
    "\n",
    "from encryptedpickle import encryptedpickle\n",
    "import pickle\n",
    "from facepy import GraphAPI\n",
    "#import credentials\n",
    "from geotext import GeoText\n",
    "\n",
    "from datetime import datetime\n",
    "import calendar\n",
    "import string\n",
    "import time\n",
    "import hashlib\n",
    "\n",
    "import matplotlib.pyplot as plt\n",
    "%matplotlib inline\n",
    "\n",
    "from IPython.display import IFrame\n",
    "from IPython.core.display import display\n"
   ]
  },
  {
   "cell_type": "code",
   "execution_count": 23,
   "metadata": {
    "collapsed": true
   },
   "outputs": [],
   "source": [
    "class geoloc(object):\n",
    "\n",
    "    def __init__(self,geolocfile):\n",
    "        try:\n",
    "            self.g_loc_raw = pd.read_json(geolocfile)\n",
    "\n",
    "        except IOError:\n",
    "            print \"File not found or could not be read.\"\n",
    "\n",
    "        gmaps_columns = ['timestamp','lat','lng','acc','vel','heading','altitude','v_acc']\n",
    "        gmaps_coord_disp = 10.**7\n",
    "\n",
    "        loc_hist = []\n",
    "\n",
    "        for datapoint in self.g_loc_raw['locations']:\n",
    "\n",
    "            try:\n",
    "                timestamp = datetime.fromtimestamp((int(datapoint['timestampMs'])/1000)).strftime('%Y-%m-%d %H:%M:%S')\n",
    "            except:\n",
    "                timestamp = ''\n",
    "            try:\n",
    "                lat = datapoint['latitudeE7']/(gmaps_coord_disp)\n",
    "            except:\n",
    "                lat = '0'\n",
    "            try:\n",
    "                lng = datapoint['longitudeE7']/(gmaps_coord_disp)\n",
    "            except:\n",
    "                lng = '0'\n",
    "            try:\n",
    "                alt = datapoint['altitude']\n",
    "            except:\n",
    "                alt = '0'\n",
    "            try:\n",
    "                v_acc = datapoint['verticalAccuracy']\n",
    "            except:\n",
    "                v_acc = '0'\n",
    "            try:\n",
    "                vel = datapoint['velocity']\n",
    "            except:\n",
    "                vel = '0'\n",
    "            try:\n",
    "                heading = datapoint['heading']\n",
    "            except:\n",
    "                heading = '0'\n",
    "            try:\n",
    "                acc = datapoint['accuracy']\n",
    "            except:\n",
    "                acc = '0'\n",
    "\n",
    "            loc_hist.append([timestamp, lat, lng, acc, vel, heading, alt, v_acc])\n",
    "            \n",
    "        self.gloc_hist = pd.DataFrame(loc_hist, columns=gmaps_columns)\n",
    "\n",
    "    def cluster_proc(self):\n",
    "        geoc = np.array(self.gloc_hist[['lat','lng']])\n",
    "\n",
    "        kmlist = []\n",
    "\n",
    "        for n in range(2,100):\n",
    "            lkm = KMeans(n_clusters=n)\n",
    "            ltkm = lkm.fit(geoc)\n",
    "            ltkm_score = metrics.silhouette_score(geoc, ltkm.labels_, metric='euclidean')\n",
    "            kmlist.append([n,ltkm_score])\n",
    "\n",
    "        klist = np.array(kmlist)\n",
    "\n",
    "        for n in klist:\n",
    "            if n[1]==np.amax(klist[3:100,1]):\n",
    "                n_max =n[0]\n",
    "                sc_max = np.amax(klist[3:100,1])\n",
    "\n",
    "        lkm = KMeans(n_clusters=int(n_max))\n",
    "        ltkm = lkm.fit(geoc)\n",
    "\n",
    "        self.gloc_hist = self.gloc_hist.drop(['vel'], axis=1).drop(['altitude'], axis=1)\n",
    "        self.gloc_hist['poi_id'] = ltkm.labels_\n",
    "        \n",
    "        self.gloc_hist['lat4'] = [round(glat,4) for glat in self.gloc_hist['lat']]\n",
    "        self.gloc_hist['lng4'] = [round(glng,4) for glng in self.gloc_hist['lng']]\n",
    "        self.gloc_hist['lat5'] = [round(glat,5) for glat in self.gloc_hist['lat']]\n",
    "        self.gloc_hist['lng5'] = [round(glng,5) for glng in self.gloc_hist['lng']]\n",
    "\n",
    "        self.poi_id_list = self.gloc_hist['poi_id'].value_counts().to_frame(name='Count').reset_index()\n",
    "        self.poi_sig = self.poi_id_list['Count'].describe()\n",
    "\n",
    "        self.min_sig = self.poi_sig.ix['mean']+self.poi_sig.ix['std']\n",
    "\n",
    "        if len(self.poi_id_list[(self.poi_id_list['Count']>self.min_sig)]['index'].values) < 2:\n",
    "            self.min_sig = self.poi_sig.ix['mean']+self.poi_sig.ix['std']\n",
    "        else:\n",
    "            self.min_sig = self.poi_sig.ix['mean']+(self.poi_sig.ix['std']*2)\n",
    "\n",
    "        self.poi_points = self.poi_id_list[(self.poi_id_list['Count']>self.min_sig)]['index'].values\n",
    "\n",
    "        self.gloc_hist['timestamp'] = pd.to_datetime(self.gloc_hist['timestamp'])\n",
    "        self.gloc_hist['dotw'] = [gldt.dayofweek for gldt in self.gloc_hist['timestamp']]\n",
    "        self.gloc_hist['hotd'] = [gldt.hour for gldt in self.gloc_hist['timestamp']]\n",
    "\n",
    "        self.poi_dotw_df_list = []\n",
    "\n",
    "        for n_poi in range(0,len(self.poi_points)):\n",
    "            self.poi_dotw_df_list.append(self.gloc_hist[(self.gloc_hist['poi_id']==self.poi_points[n_poi])]['dotw'].describe().values)\n",
    "\n",
    "        poi_freq_cols = ['count','mean','std','min','25p','50p','75p','max']\n",
    "\n",
    "        self.poi_freq_df = pd.DataFrame(self.poi_dotw_df_list,columns=poi_freq_cols, index=[self.poi_points])\n",
    "        self.selected_poi_for_freq_query = self.poi_freq_df['std'].idxmin()\n",
    "        self.most_freq_dotw_for_pot = self.gloc_hist[(self.gloc_hist['poi_id']==self.selected_poi_for_freq_query)]['dotw'].value_counts().index[0]\n",
    "\n",
    "        self.valid_answer = calendar.day_name[self.most_freq_dotw_for_pot].lower()\n",
    "\n",
    "    def mean_lat(self):\n",
    "        return self.gloc_hist[(self.gloc_hist['poi_id']==self.selected_poi_for_freq_query)]['lat'].mean()\n",
    "\n",
    "    def mean_lng(self):\n",
    "        return self.gloc_hist[(self.gloc_hist['poi_id']==self.selected_poi_for_freq_query)]['lng'].mean()\n",
    "\n",
    "    def get_glhist(self):\n",
    "        return self.gloc_hist\n",
    "\n",
    "    def showmap(self,maplat,maplng,zoom=16):\n",
    "        maps_url = \"http://maps.google.com/maps?q={0}+{1}&z={2}&output=embed&iwloc=near\".format(maplat,maplng,zoom)\n",
    "        display(IFrame(maps_url, '400px', '300px'))"
   ]
  },
  {
   "cell_type": "code",
   "execution_count": 24,
   "metadata": {
    "collapsed": false
   },
   "outputs": [],
   "source": [
    "testgeo = geoloc('LocationHistory-20161107.json')"
   ]
  },
  {
   "cell_type": "code",
   "execution_count": 25,
   "metadata": {
    "collapsed": false
   },
   "outputs": [],
   "source": [
    "#testgeo.get_glhist()"
   ]
  },
  {
   "cell_type": "code",
   "execution_count": 26,
   "metadata": {
    "collapsed": false
   },
   "outputs": [],
   "source": [
    "testgeo.cluster_proc()"
   ]
  },
  {
   "cell_type": "code",
   "execution_count": 27,
   "metadata": {
    "collapsed": false
   },
   "outputs": [
    {
     "data": {
      "text/plain": [
       "34.06018050000001"
      ]
     },
     "execution_count": 27,
     "metadata": {},
     "output_type": "execute_result"
    }
   ],
   "source": [
    "testgeo.mean_lat()"
   ]
  },
  {
   "cell_type": "code",
   "execution_count": 28,
   "metadata": {
    "collapsed": false
   },
   "outputs": [
    {
     "data": {
      "text/plain": [
       "-118.28115463749998"
      ]
     },
     "execution_count": 28,
     "metadata": {},
     "output_type": "execute_result"
    }
   ],
   "source": [
    "testgeo.mean_lng()"
   ]
  },
  {
   "cell_type": "code",
   "execution_count": 29,
   "metadata": {
    "collapsed": false
   },
   "outputs": [
    {
     "name": "stdout",
     "output_type": "stream",
     "text": [
      "http://maps.google.com/maps?q=34.0601805+-118.281154637&z=16&output=embed&iwloc=near\n"
     ]
    },
    {
     "data": {
      "text/html": [
       "\n",
       "        <iframe\n",
       "            width=\"400px\"\n",
       "            height=\"300px\"\n",
       "            src=\"http://maps.google.com/maps?q=34.0601805+-118.281154637&z=16&output=embed&iwloc=near\"\n",
       "            frameborder=\"0\"\n",
       "            allowfullscreen\n",
       "        ></iframe>\n",
       "        "
      ],
      "text/plain": [
       "<IPython.lib.display.IFrame at 0x116f00d50>"
      ]
     },
     "metadata": {},
     "output_type": "display_data"
    }
   ],
   "source": [
    "testgeo.showmap(testgeo.mean_lat(),testgeo.mean_lng())"
   ]
  },
  {
   "cell_type": "code",
   "execution_count": 30,
   "metadata": {
    "collapsed": false
   },
   "outputs": [],
   "source": [
    "class lbc(object):\n",
    "\n",
    "    testdevid = '1425272220649281'\n",
    "\n",
    "\n",
    "    def __init__(self,filename):\n",
    "        self.token = 'a'\n",
    "        self.geoprocdata = geoloc(filename)\n",
    "        self.geoprocdata.cluster_proc()\n",
    "\n",
    "    def tokemon(self,devid = testdevid):\n",
    "        self.to_encode = devid + str(int(round(time.time())))\n",
    "        self.encoded = hashlib.sha224(self.to_encode).hexdigest()\n",
    "        self.token = self.encoded\n",
    "        return self.token\n",
    "\n",
    "#     def verify_token(self):\n",
    "#         return self.token\n",
    "\n",
    "    def genlbc(self):\n",
    "\n",
    "        hint = \"none\"\n",
    "        question = \"What day do you visit this place most often?\"\n",
    "\n",
    "        self.challenge = [question, hint]\n",
    "        self.gen_token = self.tokemon()\n",
    "        \n",
    "        return self.challenge, self.gen_token\n",
    "\n",
    "    def passlbc(self,answer,passed_token):\n",
    "\n",
    "        # Validate token first\n",
    "\n",
    "        if passed_token != self.token:\n",
    "            return 0\n",
    "        else:\n",
    "            if answer==self.geoprocdata.valid_answer:\n",
    "                return 1\n",
    "            if answer!=self.geoprocdata.valid_answer:\n",
    "                return -1\n",
    "\n",
    "    def lbc_auth(self,challenge_response,token):\n",
    "        \n",
    "        self.tries=3\n",
    "\n",
    "        if self.tries>0:\n",
    "            self.tries -= 1\n",
    "            response = chal_answer.lower().translate(None, string.punctuation)\n",
    "            attempt = self.passlbc(response,token)\n",
    "            if attempt==1:\n",
    "                print \"Login OK - You have been identified as an authorized user.\"\n",
    "                break\n",
    "            elif attempt==-1:\n",
    "                print \"Authenticated failed. Please try again.\"\n",
    "            elif attempt==0:\n",
    "                print \"Insecure authentication attempt detected. System may be compromised.\"\n",
    "                break\n",
    "        else:\n",
    "            print \"Authentication Failed\"\n"
   ]
  },
  {
   "cell_type": "code",
   "execution_count": 31,
   "metadata": {
    "collapsed": false
   },
   "outputs": [],
   "source": [
    "newauth = lbc('LocationHistory-20161107.json')"
   ]
  },
  {
   "cell_type": "code",
   "execution_count": 108,
   "metadata": {
    "collapsed": false
   },
   "outputs": [
    {
     "data": {
      "text/plain": [
       "'f36700d2d67987786754e0ae06a09fed579cafe05671833cc8713029'"
      ]
     },
     "execution_count": 108,
     "metadata": {},
     "output_type": "execute_result"
    }
   ],
   "source": [
    "newauth.tokemon()"
   ]
  },
  {
   "cell_type": "code",
   "execution_count": 32,
   "metadata": {
    "collapsed": false
   },
   "outputs": [
    {
     "data": {
      "text/plain": [
       "(['What day do you visit this place most often?', 'none'],\n",
       " '26862a38cf4360ba91f3508285d70b7fd0989a77ee9cbe39fc214563')"
      ]
     },
     "execution_count": 32,
     "metadata": {},
     "output_type": "execute_result"
    }
   ],
   "source": [
    "newauth.genlbc()"
   ]
  },
  {
   "cell_type": "code",
   "execution_count": 33,
   "metadata": {
    "collapsed": false
   },
   "outputs": [
    {
     "data": {
      "text/plain": [
       "'26862a38cf4360ba91f3508285d70b7fd0989a77ee9cbe39fc214563'"
      ]
     },
     "execution_count": 33,
     "metadata": {},
     "output_type": "execute_result"
    }
   ],
   "source": [
    "newauth.verify_token()"
   ]
  },
  {
   "cell_type": "code",
   "execution_count": 35,
   "metadata": {
    "collapsed": false
   },
   "outputs": [
    {
     "data": {
      "text/plain": [
       "'sunday'"
      ]
     },
     "execution_count": 35,
     "metadata": {},
     "output_type": "execute_result"
    }
   ],
   "source": [
    "newauth.validate_answer()"
   ]
  },
  {
   "cell_type": "code",
   "execution_count": 36,
   "metadata": {
    "collapsed": false
   },
   "outputs": [
    {
     "name": "stdout",
     "output_type": "stream",
     "text": [
      "http://maps.google.com/maps?q=34.0601805+-118.281154637&z=16&output=embed&iwloc=near\n"
     ]
    },
    {
     "data": {
      "text/html": [
       "\n",
       "        <iframe\n",
       "            width=\"400px\"\n",
       "            height=\"300px\"\n",
       "            src=\"http://maps.google.com/maps?q=34.0601805+-118.281154637&z=16&output=embed&iwloc=near\"\n",
       "            frameborder=\"0\"\n",
       "            allowfullscreen\n",
       "        ></iframe>\n",
       "        "
      ],
      "text/plain": [
       "<IPython.lib.display.IFrame at 0x11b334a90>"
      ]
     },
     "metadata": {},
     "output_type": "display_data"
    },
    {
     "name": "stdout",
     "output_type": "stream",
     "text": [
      "What day do you visit this place most often?Sunday\n",
      "Login OK - You have been identified as an authorized user.\n"
     ]
    }
   ],
   "source": [
    "newauth.lbc_auth('geoloc')"
   ]
  },
  {
   "cell_type": "code",
   "execution_count": null,
   "metadata": {
    "collapsed": true
   },
   "outputs": [],
   "source": []
  }
 ],
 "metadata": {
  "anaconda-cloud": {},
  "kernelspec": {
   "display_name": "Python [conda root]",
   "language": "python",
   "name": "conda-root-py"
  },
  "language_info": {
   "codemirror_mode": {
    "name": "ipython",
    "version": 2
   },
   "file_extension": ".py",
   "mimetype": "text/x-python",
   "name": "python",
   "nbconvert_exporter": "python",
   "pygments_lexer": "ipython2",
   "version": "2.7.12"
  }
 },
 "nbformat": 4,
 "nbformat_minor": 1
}
