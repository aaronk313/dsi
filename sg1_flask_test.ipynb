{
 "cells": [
  {
   "cell_type": "code",
   "execution_count": 1,
   "metadata": {
    "collapsed": true
   },
   "outputs": [],
   "source": [
    "import pandas as pd\n",
    "import numpy as np\n",
    "import json\n",
    "import calendar\n",
    "import matplotlib.pyplot as plt\n",
    "\n",
    "from sklearn.preprocessing import LabelEncoder, StandardScaler\n",
    "from sklearn.model_selection import train_test_split,cross_val_score\n",
    "from sklearn import preprocessing\n",
    "from sklearn.cluster import KMeans\n",
    "from sklearn.metrics import silhouette_score\n",
    "from sklearn import cluster, preprocessing, metrics\n",
    "from sklearn.manifold import TSNE\n",
    "from collections import Counter\n",
    "\n",
    "from datetime import datetime\n",
    "import calendar\n",
    "import string\n",
    "import time\n",
    "import hashlib\n",
    "\n",
    "from IPython.display import IFrame\n",
    "from IPython.core.display import display\n"
   ]
  },
  {
   "cell_type": "code",
   "execution_count": 58,
   "metadata": {
    "collapsed": true
   },
   "outputs": [],
   "source": [
    "class geoloc(object):\n",
    "\n",
    "    def __init__(self,geolocfile):\n",
    "        try:\n",
    "            self.g_loc_raw = pd.read_json(geolocfile)\n",
    "\n",
    "        except IOError:\n",
    "            print \"File not found or could not be read.\"\n",
    "\n",
    "        gmaps_columns = ['timestamp','lat','lng','acc','vel','heading','altitude','v_acc']\n",
    "        gmaps_coord_disp = 10.**7\n",
    "\n",
    "        loc_hist = []\n",
    "\n",
    "        for datapoint in self.g_loc_raw['locations']:\n",
    "\n",
    "            try:\n",
    "                timestamp = datetime.fromtimestamp((int(datapoint['timestampMs'])/1000)).strftime('%Y-%m-%d %H:%M:%S')\n",
    "            except:\n",
    "                timestamp = ''\n",
    "            try:\n",
    "                lat = datapoint['latitudeE7']/(gmaps_coord_disp)\n",
    "            except:\n",
    "                lat = '0'\n",
    "            try:\n",
    "                lng = datapoint['longitudeE7']/(gmaps_coord_disp)\n",
    "            except:\n",
    "                lng = '0'\n",
    "            try:\n",
    "                alt = datapoint['altitude']\n",
    "            except:\n",
    "                alt = '0'\n",
    "            try:\n",
    "                v_acc = datapoint['verticalAccuracy']\n",
    "            except:\n",
    "                v_acc = '0'\n",
    "            try:\n",
    "                vel = datapoint['velocity']\n",
    "            except:\n",
    "                vel = '0'\n",
    "            try:\n",
    "                heading = datapoint['heading']\n",
    "            except:\n",
    "                heading = '0'\n",
    "            try:\n",
    "                acc = datapoint['accuracy']\n",
    "            except:\n",
    "                acc = '0'\n",
    "\n",
    "            loc_hist.append([timestamp, lat, lng, acc, vel, heading, alt, v_acc])\n",
    "            \n",
    "        self.gloc_hist = pd.DataFrame(loc_hist, columns=gmaps_columns)\n",
    "\n",
    "    def cluster_proc(self):\n",
    "        geoc = np.array(self.gloc_hist[['lat','lng']])\n",
    "\n",
    "        kmlist = []\n",
    "\n",
    "        for n in range(2,100):\n",
    "            lkm = KMeans(n_clusters=n)\n",
    "            ltkm = lkm.fit(geoc)\n",
    "            ltkm_score = metrics.silhouette_score(geoc, ltkm.labels_, metric='euclidean')\n",
    "            kmlist.append([n,ltkm_score])\n",
    "\n",
    "        klist = np.array(kmlist)\n",
    "\n",
    "        \n",
    "        for n in klist:\n",
    "            if n[1]==np.amax(klist[(klist[:,1]<0.75),1]):\n",
    "                n_max =n[0]\n",
    "                sc_max = np.amax(klist[(klist[:,1]<0.75),1])\n",
    "        \n",
    "#         for n in klist:\n",
    "#             if n[1]==np.amax(klist[3:100,1]):\n",
    "#                 n_max =n[0]\n",
    "#                 sc_max = np.amax(klist[3:100,1])\n",
    "\n",
    "        lkm = KMeans(n_clusters=int(n_max))\n",
    "        ltkm = lkm.fit(geoc)\n",
    "        \n",
    "        self.gloc_hist = self.gloc_hist.drop(['vel'], axis=1).drop(['altitude'], axis=1)\n",
    "        self.gloc_hist['poi_id'] = ltkm.labels_\n",
    "        \n",
    "        self.gloc_hist['lat4'] = [round(glat,4) for glat in self.gloc_hist['lat']]\n",
    "        self.gloc_hist['lng4'] = [round(glng,4) for glng in self.gloc_hist['lng']]\n",
    "        self.gloc_hist['lat5'] = [round(glat,5) for glat in self.gloc_hist['lat']]\n",
    "        self.gloc_hist['lng5'] = [round(glng,5) for glng in self.gloc_hist['lng']]\n",
    "\n",
    "        self.poi_id_list = self.gloc_hist['poi_id'].value_counts().to_frame(name='Count').reset_index()\n",
    "        self.poi_sig = self.poi_id_list['Count'].describe()\n",
    "\n",
    "        self.min_sig = self.poi_sig.ix['mean']+self.poi_sig.ix['std']\n",
    "\n",
    "        if len(self.poi_id_list[(self.poi_id_list['Count']>self.min_sig)]['index'].values) < 2:\n",
    "            self.min_sig = self.poi_sig.ix['mean']+self.poi_sig.ix['std']\n",
    "        else:\n",
    "            self.min_sig = self.poi_sig.ix['mean']+(self.poi_sig.ix['std']*2)\n",
    "\n",
    "        self.poi_points = self.poi_id_list[(self.poi_id_list['Count']>self.min_sig)]['index'].values\n",
    "\n",
    "        self.gloc_hist['timestamp'] = pd.to_datetime(self.gloc_hist['timestamp'])\n",
    "        self.gloc_hist['dotw'] = [gldt.dayofweek for gldt in self.gloc_hist['timestamp']]\n",
    "        self.gloc_hist['hotd'] = [gldt.hour for gldt in self.gloc_hist['timestamp']]\n",
    "\n",
    "        self.poi_dotw_df_list = []\n",
    "\n",
    "        for n_poi in range(0,len(self.poi_points)):\n",
    "            self.poi_dotw_df_list.append(self.gloc_hist[(self.gloc_hist['poi_id']==self.poi_points[n_poi])]['dotw'].describe().values)\n",
    "\n",
    "        poi_freq_cols = ['count','mean','std','min','25p','50p','75p','max']\n",
    "        poi_freq_df = pd.DataFrame(self.poi_dotw_df_list,columns=poi_freq_cols, index=[self.poi_points])\n",
    "        \n",
    "        #----------\n",
    "        dayfreq_list = []\n",
    "        cols = ['weekday_visits','weekend_visits','weekday_only','weekend_only']\n",
    "\n",
    "        for poi_loc in self.poi_points:\n",
    "\n",
    "            on_weekends = []\n",
    "            on_weekdays = []\n",
    "            visit_weekends = []\n",
    "            visit_weekdays = []\n",
    "            weekdays_only = []\n",
    "            weekends_only = []\n",
    "            weekdays = (0,1,2,3,4)\n",
    "            weekends = (5,6)\n",
    "\n",
    "            for dotw in self.gloc_hist[(self.gloc_hist['poi_id']==poi_loc)]['dotw'].value_counts().index:\n",
    "                if dotw in weekends:\n",
    "                    on_weekends.append(dotw)\n",
    "                if dotw in weekdays:\n",
    "                    on_weekdays.append(dotw)\n",
    "\n",
    "            visit_weekends.append(len(on_weekends)==0)\n",
    "            visit_weekdays.append(len(on_weekdays)==0)\n",
    "            weekdays_only.append((len(on_weekends)==0) & (len(on_weekdays)>0))\n",
    "            weekends_only.append((len(on_weekdays)==0) & (len(on_weekends)>0))\n",
    "\n",
    "            dayfreq_list.append([on_weekdays,on_weekends,weekdays_only,weekends_only])\n",
    "\n",
    "        self.poi_dayfreq_df = pd.DataFrame(dayfreq_list, columns=cols,index=[self.poi_points])       \n",
    "        self.poi_dayfreq_df['weekday_only'] = [item[0] for item in self.poi_dayfreq_df['weekday_only']]\n",
    "        self.poi_dayfreq_df['weekend_only'] = [item[0] for item in self.poi_dayfreq_df['weekend_only']]\n",
    "        self.poi_main_df = pd.concat([poi_freq_df, self.poi_dayfreq_df], axis=1)\n",
    "        \n",
    "        self.selected_poi_for_freq_query = poi_freq_df['std'].idxmin()\n",
    "\n",
    "        self.most_freq_dotw_for_pot = self.gloc_hist[(self.gloc_hist['poi_id']==self.selected_poi_for_freq_query)]['dotw'].value_counts().index[0]\n",
    "\n",
    "        \n",
    "        #--------------\n",
    "        \n",
    "        poi_freq_df = pd.DataFrame(self.poi_dotw_df_list,columns=poi_freq_cols, index=[self.poi_points])\n",
    "        self.selected_poi_for_freq_query = poi_freq_df['std'].idxmin()\n",
    "        self.most_freq_dotw_for_pot = self.gloc_hist[(self.gloc_hist['poi_id']==self.selected_poi_for_freq_query)]['dotw'].value_counts().index[0]\n",
    "\n",
    "        self.valid_answer = []\n",
    "\n",
    "    def mean_lat(self):\n",
    "        return self.gloc_hist[(self.gloc_hist['poi_id']==self.selected_poi_for_freq_query)]['lat'].mean()\n",
    "\n",
    "    def mean_lng(self):\n",
    "        return self.gloc_hist[(self.gloc_hist['poi_id']==self.selected_poi_for_freq_query)]['lng'].mean()\n",
    "\n",
    "    def get_glhist(self):\n",
    "        return self.gloc_hist\n",
    "\n",
    "    def showmap(self,maplat,maplng,zoom=16):\n",
    "        maps_url = \"http://maps.google.com/maps?q={0}+{1}&z={2}&output=embed&iwloc=near\".format(maplat,maplng,zoom)\n",
    "        display(IFrame(maps_url, '400px', '300px'))"
   ]
  },
  {
   "cell_type": "code",
   "execution_count": 39,
   "metadata": {
    "collapsed": false
   },
   "outputs": [],
   "source": [
    "testgeo = geoloc('LocationHistory-20161107.json')"
   ]
  },
  {
   "cell_type": "code",
   "execution_count": 40,
   "metadata": {
    "collapsed": false
   },
   "outputs": [],
   "source": [
    "#testgeo.get_glhist()"
   ]
  },
  {
   "cell_type": "code",
   "execution_count": 41,
   "metadata": {
    "collapsed": false
   },
   "outputs": [
    {
     "name": "stdout",
     "output_type": "stream",
     "text": [
      "             timestamp        lat         lng  acc vel heading altitude v_acc\n",
      "0  2016-11-07 18:07:21  34.066386 -118.314777    5   0       0       63    16\n",
      "1  2016-11-07 18:07:21  34.066391 -118.314760   34   0       0        0     0\n",
      "2  2016-11-07 17:23:39  34.036402 -118.308978   10   2     238       58    24\n",
      "3  2016-11-07 14:43:53  34.031227 -118.265898   53   0       0        0     0\n",
      "4  2016-11-07 14:06:17  34.031402 -118.265722   77   0       0       63    10\n"
     ]
    }
   ],
   "source": [
    "testgeo.cluster_proc()"
   ]
  },
  {
   "cell_type": "code",
   "execution_count": 42,
   "metadata": {
    "collapsed": false
   },
   "outputs": [
    {
     "data": {
      "text/plain": [
       "34.06018050000001"
      ]
     },
     "execution_count": 42,
     "metadata": {},
     "output_type": "execute_result"
    }
   ],
   "source": [
    "testgeo.mean_lat()"
   ]
  },
  {
   "cell_type": "code",
   "execution_count": 43,
   "metadata": {
    "collapsed": false
   },
   "outputs": [
    {
     "data": {
      "text/plain": [
       "-118.28115463749998"
      ]
     },
     "execution_count": 43,
     "metadata": {},
     "output_type": "execute_result"
    }
   ],
   "source": [
    "testgeo.mean_lng()"
   ]
  },
  {
   "cell_type": "code",
   "execution_count": 44,
   "metadata": {
    "collapsed": false
   },
   "outputs": [
    {
     "data": {
      "text/html": [
       "\n",
       "        <iframe\n",
       "            width=\"400px\"\n",
       "            height=\"300px\"\n",
       "            src=\"http://maps.google.com/maps?q=34.0601805+-118.281154637&z=16&output=embed&iwloc=near\"\n",
       "            frameborder=\"0\"\n",
       "            allowfullscreen\n",
       "        ></iframe>\n",
       "        "
      ],
      "text/plain": [
       "<IPython.lib.display.IFrame at 0x1060a5090>"
      ]
     },
     "metadata": {},
     "output_type": "display_data"
    }
   ],
   "source": [
    "testgeo.showmap(testgeo.mean_lat(),testgeo.mean_lng())"
   ]
  },
  {
   "cell_type": "code",
   "execution_count": 69,
   "metadata": {
    "collapsed": false
   },
   "outputs": [],
   "source": [
    "class lbc(object):\n",
    "\n",
    "    testdevid = '1425272220649281'\n",
    "\n",
    "\n",
    "    def __init__(self,filename):\n",
    "        self.token = 'a'\n",
    "        self.geoprocdata = geoloc(filename)\n",
    "        self.geoprocdata.cluster_proc()\n",
    "\n",
    "    def tokemon(self,devid = testdevid):\n",
    "        self.to_encode = devid + str(int(round(time.time())))\n",
    "        self.encoded = hashlib.sha224(self.to_encode).hexdigest()\n",
    "        self.token = self.encoded\n",
    "        return self.token\n",
    "\n",
    "#     def verify_token(self):\n",
    "#         return self.token\n",
    "\n",
    "    def genlbc(self):\n",
    "\n",
    "        hint = \"none\"\n",
    "        question = \"What day(s) do you visit this place/area most often? \"\n",
    "        if self.geoprocdata.poi_main_df['weekday_only'].ix[self.geoprocdata.selected_poi_for_freq_query]==True:\n",
    "            self.geoprocdata.valid_answer.append('weekdays')\n",
    "        elif self.geoprocdata.poi_main_df['weekend_only'].ix[self.geoprocdata.selected_poi_for_freq_query]==True:\n",
    "            self.geoprocdata.valid_answer.append('weekends')\n",
    "        self.geoprocdata.valid_answer.append(calendar.day_name[self.geoprocdata.most_freq_dotw_for_pot].lower())\n",
    "\n",
    "        self.challenge = [question, hint]\n",
    "        self.gen_token = self.tokemon()\n",
    "        \n",
    "        return self.challenge, self.gen_token\n",
    "\n",
    "    def passlbc(self,answer,passed_token):\n",
    "\n",
    "        # Validate token first\n",
    "\n",
    "        if passed_token != self.token:\n",
    "            return 0\n",
    "        else:\n",
    "            if answer in self.geoprocdata.valid_answer:\n",
    "                return 1\n",
    "            if answer not in self.geoprocdata.valid_answer:\n",
    "                return -1\n",
    "\n",
    "    def lbc_auth(self,challenge_response,token):\n",
    "        \n",
    "        self.tries=3\n",
    "\n",
    "        if self.tries>0:\n",
    "            self.tries -= 1\n",
    "            response = chal_answer.lower().translate(None, string.punctuation)\n",
    "            attempt = self.passlbc(response,token)\n",
    "            if attempt==1:\n",
    "                print \"Login OK - You have been identified as an authorized user.\"\n",
    "                self.tries=0\n",
    "            elif attempt==-1:\n",
    "                print \"Authenticated failed. Please try again.\"\n",
    "            elif attempt==0:\n",
    "                print \"Insecure authentication attempt detected. System may be compromised.\"\n",
    "                self.tries=0\n",
    "        else:\n",
    "            print \"Authentication Failed\"\n",
    "            \n",
    "            \n",
    "    def validate_answer(self):\n",
    "        return self.geoprocdata.valid_answer\n"
   ]
  },
  {
   "cell_type": "code",
   "execution_count": 70,
   "metadata": {
    "collapsed": false
   },
   "outputs": [],
   "source": [
    "newauth = lbc('LocationHistory-20161107.json')"
   ]
  },
  {
   "cell_type": "code",
   "execution_count": 71,
   "metadata": {
    "collapsed": false
   },
   "outputs": [
    {
     "data": {
      "text/plain": [
       "'1a5a8ffa31c47e63288439e56a06916247311ec8018744470c337ff1'"
      ]
     },
     "execution_count": 71,
     "metadata": {},
     "output_type": "execute_result"
    }
   ],
   "source": [
    "newauth.tokemon()"
   ]
  },
  {
   "cell_type": "code",
   "execution_count": 72,
   "metadata": {
    "collapsed": false
   },
   "outputs": [
    {
     "data": {
      "text/plain": [
       "(['What day(s) do you visit this place/area most often? ', 'none'],\n",
       " '1a5a8ffa31c47e63288439e56a06916247311ec8018744470c337ff1')"
      ]
     },
     "execution_count": 72,
     "metadata": {},
     "output_type": "execute_result"
    }
   ],
   "source": [
    "newauth.genlbc()"
   ]
  },
  {
   "cell_type": "code",
   "execution_count": 73,
   "metadata": {
    "collapsed": false
   },
   "outputs": [
    {
     "data": {
      "text/plain": [
       "['sunday']"
      ]
     },
     "execution_count": 73,
     "metadata": {},
     "output_type": "execute_result"
    }
   ],
   "source": [
    "newauth.validate_answer()"
   ]
  },
  {
   "cell_type": "code",
   "execution_count": 74,
   "metadata": {
    "collapsed": false
   },
   "outputs": [
    {
     "ename": "TypeError",
     "evalue": "lbc_auth() takes exactly 3 arguments (2 given)",
     "output_type": "error",
     "traceback": [
      "\u001b[0;31m---------------------------------------------------------------------------\u001b[0m",
      "\u001b[0;31mTypeError\u001b[0m                                 Traceback (most recent call last)",
      "\u001b[0;32m<ipython-input-74-f98ce6e43b6b>\u001b[0m in \u001b[0;36m<module>\u001b[0;34m()\u001b[0m\n\u001b[0;32m----> 1\u001b[0;31m \u001b[0mnewauth\u001b[0m\u001b[0;34m.\u001b[0m\u001b[0mlbc_auth\u001b[0m\u001b[0;34m(\u001b[0m\u001b[0;34m'geoloc'\u001b[0m\u001b[0;34m)\u001b[0m\u001b[0;34m\u001b[0m\u001b[0m\n\u001b[0m",
      "\u001b[0;31mTypeError\u001b[0m: lbc_auth() takes exactly 3 arguments (2 given)"
     ]
    }
   ],
   "source": [
    "newauth.lbc_auth('geoloc')"
   ]
  },
  {
   "cell_type": "code",
   "execution_count": 84,
   "metadata": {
    "collapsed": true
   },
   "outputs": [],
   "source": [
    "class geoloc(object):\n",
    "\n",
    "    def __init__(self,geolocfile):\n",
    "        try:\n",
    "            self.g_loc_raw = pd.read_json(geolocfile)\n",
    "\n",
    "        except IOError:\n",
    "            print \"File not found or could not be read.\"\n",
    "\n",
    "        gmaps_columns = ['timestamp','lat','lng','acc','vel','heading','altitude','v_acc']\n",
    "        gmaps_coord_disp = 10.**7\n",
    "\n",
    "        loc_hist = []\n",
    "\n",
    "        for datapoint in self.g_loc_raw['locations']:\n",
    "\n",
    "            try:\n",
    "                timestamp = datetime.fromtimestamp((int(datapoint['timestampMs'])/1000)).strftime('%Y-%m-%d %H:%M:%S')\n",
    "            except:\n",
    "                timestamp = ''\n",
    "            try:\n",
    "                lat = datapoint['latitudeE7']/(gmaps_coord_disp)\n",
    "            except:\n",
    "                lat = '0'\n",
    "            try:\n",
    "                lng = datapoint['longitudeE7']/(gmaps_coord_disp)\n",
    "            except:\n",
    "                lng = '0'\n",
    "            try:\n",
    "                alt = datapoint['altitude']\n",
    "            except:\n",
    "                alt = '0'\n",
    "            try:\n",
    "                v_acc = datapoint['verticalAccuracy']\n",
    "            except:\n",
    "                v_acc = '0'\n",
    "            try:\n",
    "                vel = datapoint['velocity']\n",
    "            except:\n",
    "                vel = '0'\n",
    "            try:\n",
    "                heading = datapoint['heading']\n",
    "            except:\n",
    "                heading = '0'\n",
    "            try:\n",
    "                acc = datapoint['accuracy']\n",
    "            except:\n",
    "                acc = '0'\n",
    "\n",
    "            loc_hist.append([timestamp, lat, lng, acc, vel, heading, alt, v_acc])\n",
    "\n",
    "        self.gloc_hist = pd.DataFrame(loc_hist, columns=gmaps_columns)\n",
    "\n",
    "    def cluster_proc(self):\n",
    "        geoc = np.array(self.gloc_hist[['lat','lng']])\n",
    "\n",
    "        kmlist = []\n",
    "\n",
    "        for n in range(2,100):\n",
    "            lkm = KMeans(n_clusters=n)\n",
    "            ltkm = lkm.fit(geoc)\n",
    "            ltkm_score = metrics.silhouette_score(geoc, ltkm.labels_, metric='euclidean')\n",
    "            kmlist.append([n,ltkm_score])\n",
    "\n",
    "        klist = np.array(kmlist)\n",
    "\n",
    "\n",
    "        for n in klist:\n",
    "            if n[1]==np.amax(klist[(klist[:,1]<0.75),1]):\n",
    "                n_max =n[0]\n",
    "                sc_max = np.amax(klist[(klist[:,1]<0.75),1])\n",
    "\n",
    "#         for n in klist:\n",
    "#             if n[1]==np.amax(klist[3:100,1]):\n",
    "#                 n_max =n[0]\n",
    "#                 sc_max = np.amax(klist[3:100,1])\n",
    "\n",
    "        lkm = KMeans(n_clusters=int(n_max))\n",
    "        ltkm = lkm.fit(geoc)\n",
    "\n",
    "        self.gloc_hist = self.gloc_hist.drop(['vel'], axis=1).drop(['altitude'], axis=1)\n",
    "        self.gloc_hist['poi_id'] = ltkm.labels_\n",
    "\n",
    "        self.gloc_hist['lat4'] = [round(glat,4) for glat in self.gloc_hist['lat']]\n",
    "        self.gloc_hist['lng4'] = [round(glng,4) for glng in self.gloc_hist['lng']]\n",
    "        self.gloc_hist['lat5'] = [round(glat,5) for glat in self.gloc_hist['lat']]\n",
    "        self.gloc_hist['lng5'] = [round(glng,5) for glng in self.gloc_hist['lng']]\n",
    "\n",
    "        self.poi_id_list = self.gloc_hist['poi_id'].value_counts().to_frame(name='Count').reset_index()\n",
    "        self.poi_sig = self.poi_id_list['Count'].describe()\n",
    "\n",
    "        self.min_sig = self.poi_sig.ix['mean']+self.poi_sig.ix['std']\n",
    "\n",
    "        if len(self.poi_id_list[(self.poi_id_list['Count']>self.min_sig)]['index'].values) < 2:\n",
    "            self.min_sig = self.poi_sig.ix['mean']+self.poi_sig.ix['std']\n",
    "        else:\n",
    "            self.min_sig = self.poi_sig.ix['mean']+(self.poi_sig.ix['std']*2)\n",
    "\n",
    "        self.poi_points = self.poi_id_list[(self.poi_id_list['Count']>self.min_sig)]['index'].values\n",
    "\n",
    "        self.gloc_hist['timestamp'] = pd.to_datetime(self.gloc_hist['timestamp'])\n",
    "        self.gloc_hist['dotw'] = [gldt.dayofweek for gldt in self.gloc_hist['timestamp']]\n",
    "        self.gloc_hist['hotd'] = [gldt.hour for gldt in self.gloc_hist['timestamp']]\n",
    "\n",
    "        self.poi_dotw_df_list = []\n",
    "\n",
    "        for n_poi in range(0,len(self.poi_points)):\n",
    "            self.poi_dotw_df_list.append(self.gloc_hist[(self.gloc_hist['poi_id']==self.poi_points[n_poi])]['dotw'].describe().values)\n",
    "\n",
    "        poi_freq_cols = ['count','mean','std','min','25p','50p','75p','max']\n",
    "        poi_freq_df = pd.DataFrame(self.poi_dotw_df_list,columns=poi_freq_cols, index=[self.poi_points])\n",
    "\n",
    "        #----------\n",
    "        dayfreq_list = []\n",
    "        cols = ['weekday_visits','weekend_visits','weekday_only','weekend_only']\n",
    "\n",
    "        for poi_loc in self.poi_points:\n",
    "\n",
    "            on_weekends = []\n",
    "            on_weekdays = []\n",
    "            visit_weekends = []\n",
    "            visit_weekdays = []\n",
    "            weekdays_only = []\n",
    "            weekends_only = []\n",
    "            weekdays = (0,1,2,3,4)\n",
    "            weekends = (5,6)\n",
    "\n",
    "            for dotw in self.gloc_hist[(self.gloc_hist['poi_id']==poi_loc)]['dotw'].value_counts().index:\n",
    "                if dotw in weekends:\n",
    "                    on_weekends.append(dotw)\n",
    "                if dotw in weekdays:\n",
    "                    on_weekdays.append(dotw)\n",
    "\n",
    "            visit_weekends.append(len(on_weekends)==0)\n",
    "            visit_weekdays.append(len(on_weekdays)==0)\n",
    "            weekdays_only.append((len(on_weekends)==0) & (len(on_weekdays)>0))\n",
    "            weekends_only.append((len(on_weekdays)==0) & (len(on_weekends)>0))\n",
    "\n",
    "            dayfreq_list.append([on_weekdays,on_weekends,weekdays_only,weekends_only])\n",
    "\n",
    "        self.poi_dayfreq_df = pd.DataFrame(dayfreq_list, columns=cols,index=[self.poi_points])\n",
    "        self.poi_dayfreq_df['weekday_only'] = [item[0] for item in self.poi_dayfreq_df['weekday_only']]\n",
    "        self.poi_dayfreq_df['weekend_only'] = [item[0] for item in self.poi_dayfreq_df['weekend_only']]\n",
    "        self.poi_main_df = pd.concat([poi_freq_df, self.poi_dayfreq_df], axis=1)\n",
    "\n",
    "        self.selected_poi_for_freq_query = poi_freq_df['std'].idxmin()\n",
    "\n",
    "        self.most_freq_dotw_for_pot = self.gloc_hist[(self.gloc_hist['poi_id']==self.selected_poi_for_freq_query)]['dotw'].value_counts().index[0]\n",
    "\n",
    "\n",
    "        #--------------\n",
    "\n",
    "        poi_freq_df = pd.DataFrame(self.poi_dotw_df_list,columns=poi_freq_cols, index=[self.poi_points])\n",
    "        self.selected_poi_for_freq_query = poi_freq_df['std'].idxmin()\n",
    "        self.most_freq_dotw_for_pot = self.gloc_hist[(self.gloc_hist['poi_id']==self.selected_poi_for_freq_query)]['dotw'].value_counts().index[0]\n",
    "\n",
    "        self.valid_answer = []\n",
    "\n",
    "    def mean_lat(self):\n",
    "        return self.gloc_hist[(self.gloc_hist['poi_id']==self.selected_poi_for_freq_query)]['lat'].mean()\n",
    "\n",
    "    def mean_lng(self):\n",
    "        return self.gloc_hist[(self.gloc_hist['poi_id']==self.selected_poi_for_freq_query)]['lng'].mean()\n",
    "\n",
    "    def get_glhist(self):\n",
    "        return self.gloc_hist\n",
    "\n",
    "    def showmap(self,maplat,maplng,zoom=16):\n",
    "        maps_url = \"http://maps.google.com/maps?q={0}+{1}&z={2}&output=embed&iwloc=near\".format(maplat,maplng,zoom)\n",
    "        display(IFrame(maps_url, '400px', '300px'))\n",
    "\n",
    "    def getmapurl(self,maplat,maplng,zoom=16):\n",
    "        maps_url = \"http://maps.google.com/maps?q={0}+{1}&z={2}&output=embed&iwloc=near\".format(maplat,maplng,zoom)\n",
    "        return maps_url\n",
    "\n",
    "class lbc(object):\n",
    "\n",
    "    testdevid = '1425272220649281'\n",
    "\n",
    "    def __init__(self,filename):\n",
    "        self.token = 'a'\n",
    "        self.geoprocdata = geoloc(filename)\n",
    "        self.geoprocdata.cluster_proc()\n",
    "\n",
    "    def tokemon(self,devid = testdevid):\n",
    "        self.to_encode = devid + str(int(round(time.time())))\n",
    "        self.encoded = hashlib.sha224(self.to_encode).hexdigest()\n",
    "        self.token = self.encoded\n",
    "        return self.token\n",
    "\n",
    "#     def verify_token(self):\n",
    "#         return self.token\n",
    "\n",
    "    def genlbc(self):\n",
    "\n",
    "        hint = \"none\"\n",
    "        question = \"What day(s) do you visit this place/area most often? \"\n",
    "        if self.geoprocdata.poi_main_df['weekday_only'].ix[self.geoprocdata.selected_poi_for_freq_query]==True:\n",
    "            self.geoprocdata.valid_answer.append('weekdays')\n",
    "        elif self.geoprocdata.poi_main_df['weekend_only'].ix[self.geoprocdata.selected_poi_for_freq_query]==True:\n",
    "            self.geoprocdata.valid_answer.append('weekends')\n",
    "        self.geoprocdata.valid_answer.append(calendar.day_name[self.geoprocdata.most_freq_dotw_for_pot].lower())\n",
    "\n",
    "        self.challenge = [question, hint]\n",
    "        self.gen_token = self.tokemon()\n",
    "\n",
    "        return self.challenge, self.gen_token\n",
    "\n",
    "    def passlbc(self,answer,passed_token):\n",
    "\n",
    "        # Validate token first\n",
    "\n",
    "        if passed_token != self.token:\n",
    "            return 0\n",
    "        else:\n",
    "            if answer in self.geoprocdata.valid_answer:\n",
    "                return 1\n",
    "            if answer not in self.geoprocdata.valid_answer:\n",
    "                return -1\n",
    "\n",
    "    def lbc_auth(self,challenge_response,token):\n",
    "\n",
    "        self.tries=3\n",
    "\n",
    "        if self.tries>0:\n",
    "            self.tries -= 1\n",
    "            response = chal_answer.lower().translate(None, string.punctuation)\n",
    "            attempt = self.passlbc(response,token)\n",
    "            if attempt==1:\n",
    "                print \"Login OK - You have been identified as an authorized user.\"\n",
    "                self.tries=0\n",
    "            elif attempt==-1:\n",
    "                print \"Authenticated failed. Please try again.\"\n",
    "            elif attempt==0:\n",
    "                print \"Insecure authentication attempt detected. System may be compromised.\"\n",
    "                self.tries=0\n",
    "        else:\n",
    "            print \"Authentication Failed\"\n",
    "\n",
    "    def get_map_url(self):\n",
    "        lat = self.geoprocdata.mean_lat()\n",
    "        lng = self.geoprocdata.mean_lng()\n",
    "        return self.geoprocdata.getmapurl(self.geoprocdata.mean_lat(). self.geoprocdata.mean_lng())"
   ]
  },
  {
   "cell_type": "code",
   "execution_count": 85,
   "metadata": {
    "collapsed": false
   },
   "outputs": [],
   "source": [
    "test = lbc('LocationHistory-20161107.json')"
   ]
  },
  {
   "cell_type": "code",
   "execution_count": 86,
   "metadata": {
    "collapsed": false
   },
   "outputs": [
    {
     "name": "stdout",
     "output_type": "stream",
     "text": [
      "34.0603177295 -118.281065336\n"
     ]
    }
   ],
   "source": [
    "test.get_map_url()"
   ]
  },
  {
   "cell_type": "code",
   "execution_count": 87,
   "metadata": {
    "collapsed": false
   },
   "outputs": [
    {
     "data": {
      "text/plain": [
       "34.06031772948718"
      ]
     },
     "execution_count": 87,
     "metadata": {},
     "output_type": "execute_result"
    }
   ],
   "source": [
    "test.geoprocdata.mean_lat()"
   ]
  },
  {
   "cell_type": "code",
   "execution_count": null,
   "metadata": {
    "collapsed": true
   },
   "outputs": [],
   "source": []
  }
 ],
 "metadata": {
  "anaconda-cloud": {},
  "kernelspec": {
   "display_name": "Python [Root]",
   "language": "python",
   "name": "Python [Root]"
  },
  "language_info": {
   "codemirror_mode": {
    "name": "ipython",
    "version": 2
   },
   "file_extension": ".py",
   "mimetype": "text/x-python",
   "name": "python",
   "nbconvert_exporter": "python",
   "pygments_lexer": "ipython2",
   "version": "2.7.12"
  }
 },
 "nbformat": 4,
 "nbformat_minor": 1
}
