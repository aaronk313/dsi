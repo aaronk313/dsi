{
 "cells": [
  {
   "cell_type": "code",
   "execution_count": 1,
   "metadata": {
    "collapsed": false
   },
   "outputs": [],
   "source": [
    "import pandas as pd\n",
    "import numpy as np\n",
    "import json\n",
    "import calendar\n",
    "import matplotlib.pyplot as plt\n",
    "\n",
    "from sklearn.preprocessing import LabelEncoder, StandardScaler\n",
    "from sklearn.model_selection import train_test_split,cross_val_score\n",
    "from sklearn import preprocessing\n",
    "from sklearn.cluster import KMeans\n",
    "from sklearn.metrics import silhouette_score\n",
    "from sklearn import cluster, preprocessing, metrics\n",
    "from sklearn.manifold import TSNE\n",
    "from collections import Counter\n",
    "\n",
    "from datetime import datetime, timedelta\n",
    "%matplotlib inline"
   ]
  },
  {
   "cell_type": "markdown",
   "metadata": {},
   "source": [
    "# ==== LOCATION BASED CHALLENGE (LBC) ===="
   ]
  },
  {
   "cell_type": "markdown",
   "metadata": {},
   "source": [
    "The concept of this approach is to take user location data (if available) and try to build a challenge option based on the location data available.\n",
    "\n",
    "Google maps user location history is enabled by default and running in the background, so it's reasonable to assume this data is readily available.\n",
    "\n",
    "Some things to consider when deciding to include an LBC are:\n",
    "- Date of last location : for now, the null hypothesis/assumption about the user's ability to retain their own location information is that they will be able to recall where they were with reasonable accuracy for up to three days worth of history. This assumption will need to be tested and will need to be updated accordingly in effort to improve the location recollection success rate over time.\n",
    "- If the data is a pair of geographic coordinates but no specific business/name reference, is there user history with reference to any businesses or other frequent markers that can be tied to the user? \n",
    "    - eg: have a pair of coordinates for the corner of Washington and Hill. There is a subway, chinese restaurant, mcdonalds, courthouse, and maker city LA/General Assembly. Is there user history to suggest which one (or more) of these were visited by the user? "
   ]
  },
  {
   "cell_type": "markdown",
   "metadata": {},
   "source": [
    "## Source : Google Maps Data"
   ]
  },
  {
   "cell_type": "code",
   "execution_count": 2,
   "metadata": {
    "collapsed": false
   },
   "outputs": [],
   "source": [
    "# Added new data available from 11/07\n",
    "\n",
    "g_loc_hist2_raw = pd.read_json('LocationHistory-20161107.json')\n",
    "\n",
    "# Alternative for updated location data imported on 11/21\n",
    "#g_loc_hist2_raw = pd.read_json('LocationHistory-20161121.json')\n"
   ]
  },
  {
   "cell_type": "code",
   "execution_count": 3,
   "metadata": {
    "collapsed": true
   },
   "outputs": [],
   "source": [
    "gmaps_columns = ['timestamp','lat','lng','acc','vel','heading','altitude','v_acc']"
   ]
  },
  {
   "cell_type": "code",
   "execution_count": 4,
   "metadata": {
    "collapsed": true
   },
   "outputs": [],
   "source": [
    "# Google maps location does not include the decimal point. \n",
    "# The code below is to set the offset programmatically in \n",
    "# case there is a need to do so in the future. \n",
    "\n",
    "gmaps_coord_disp = 10.**7"
   ]
  },
  {
   "cell_type": "code",
   "execution_count": 5,
   "metadata": {
    "collapsed": false
   },
   "outputs": [],
   "source": [
    "def pandify_gloc_data(data, columns, geodisp = 10.**7):\n",
    "    loc_hist = []\n",
    "        \n",
    "    for datapoint in data:\n",
    "        try:\n",
    "            timestamp = datetime.fromtimestamp((int(datapoint['timestampMs'])/1000)).strftime('%Y-%m-%d %H:%M:%S')\n",
    "        except:\n",
    "            timestamp = ''\n",
    "        try:\n",
    "            lat = datapoint['latitudeE7']/(geodisp)\n",
    "        except:\n",
    "            lat = '0'\n",
    "        try:\n",
    "            lng = datapoint['longitudeE7']/(geodisp)\n",
    "        except:\n",
    "            lng = '0'\n",
    "        try:\n",
    "            alt = datapoint['altitude']\n",
    "        except:\n",
    "            alt = '0'\n",
    "        try:\n",
    "            v_acc = datapoint['verticalAccuracy']\n",
    "        except:\n",
    "            v_acc = '0'\n",
    "        try:\n",
    "            vel = datapoint['velocity']\n",
    "        except:\n",
    "            vel = '0'\n",
    "        try:\n",
    "            heading = datapoint['heading']\n",
    "        except:\n",
    "            heading = '0'\n",
    "        try:\n",
    "            acc = datapoint['accuracy']\n",
    "        except:\n",
    "            acc = '0'\n",
    "\n",
    "        loc_hist.append([timestamp, lat, lng, acc, vel, heading, alt, v_acc])\n",
    "    \n",
    "    return pd.DataFrame(loc_hist, columns=columns)"
   ]
  },
  {
   "cell_type": "markdown",
   "metadata": {},
   "source": [
    "###  ------------ LBC Subsection - EDA - Dimension Validation ---------------\n",
    "\n",
    "It may be conceptually logical that user location history is a predictable pattern, we need to verify that there is enough of a pattern upon which we can base one this dimension of user behavior. One such method is to inspect the data by plotting the geolocation points over a series of actual-data plots as well as scaled/clustered plots. If the visualizations show that there is no reasonable clustering of data points or that the user's location history is too \"sparse\" (that is, the user's location is too erratic to determine a location pattern), then it would be reasonable to conclude that user location is not a viable dimension of user behavior modeling."
   ]
  },
  {
   "cell_type": "code",
   "execution_count": 6,
   "metadata": {
    "collapsed": false
   },
   "outputs": [],
   "source": [
    "gloc_hist_alt = pandify_gloc_data(g_loc_hist2_raw['locations'],gmaps_columns,gmaps_coord_disp)"
   ]
  },
  {
   "cell_type": "code",
   "execution_count": 7,
   "metadata": {
    "collapsed": false
   },
   "outputs": [
    {
     "data": {
      "text/html": [
       "<div>\n",
       "<table border=\"1\" class=\"dataframe\">\n",
       "  <thead>\n",
       "    <tr style=\"text-align: right;\">\n",
       "      <th></th>\n",
       "      <th>timestamp</th>\n",
       "      <th>lat</th>\n",
       "      <th>lng</th>\n",
       "      <th>acc</th>\n",
       "      <th>vel</th>\n",
       "      <th>heading</th>\n",
       "      <th>altitude</th>\n",
       "      <th>v_acc</th>\n",
       "    </tr>\n",
       "  </thead>\n",
       "  <tbody>\n",
       "    <tr>\n",
       "      <th>0</th>\n",
       "      <td>2016-11-07 18:07:21</td>\n",
       "      <td>34.066386</td>\n",
       "      <td>-118.314777</td>\n",
       "      <td>5</td>\n",
       "      <td>0</td>\n",
       "      <td>0</td>\n",
       "      <td>63</td>\n",
       "      <td>16</td>\n",
       "    </tr>\n",
       "    <tr>\n",
       "      <th>1</th>\n",
       "      <td>2016-11-07 18:07:21</td>\n",
       "      <td>34.066391</td>\n",
       "      <td>-118.314760</td>\n",
       "      <td>34</td>\n",
       "      <td>0</td>\n",
       "      <td>0</td>\n",
       "      <td>0</td>\n",
       "      <td>0</td>\n",
       "    </tr>\n",
       "    <tr>\n",
       "      <th>2</th>\n",
       "      <td>2016-11-07 17:23:39</td>\n",
       "      <td>34.036402</td>\n",
       "      <td>-118.308978</td>\n",
       "      <td>10</td>\n",
       "      <td>2</td>\n",
       "      <td>238</td>\n",
       "      <td>58</td>\n",
       "      <td>24</td>\n",
       "    </tr>\n",
       "    <tr>\n",
       "      <th>3</th>\n",
       "      <td>2016-11-07 14:43:53</td>\n",
       "      <td>34.031227</td>\n",
       "      <td>-118.265898</td>\n",
       "      <td>53</td>\n",
       "      <td>0</td>\n",
       "      <td>0</td>\n",
       "      <td>0</td>\n",
       "      <td>0</td>\n",
       "    </tr>\n",
       "  </tbody>\n",
       "</table>\n",
       "</div>"
      ],
      "text/plain": [
       "             timestamp        lat         lng  acc vel heading altitude v_acc\n",
       "0  2016-11-07 18:07:21  34.066386 -118.314777    5   0       0       63    16\n",
       "1  2016-11-07 18:07:21  34.066391 -118.314760   34   0       0        0     0\n",
       "2  2016-11-07 17:23:39  34.036402 -118.308978   10   2     238       58    24\n",
       "3  2016-11-07 14:43:53  34.031227 -118.265898   53   0       0        0     0"
      ]
     },
     "execution_count": 7,
     "metadata": {},
     "output_type": "execute_result"
    }
   ],
   "source": [
    "gloc_hist_alt.head(4)"
   ]
  },
  {
   "cell_type": "code",
   "execution_count": 8,
   "metadata": {
    "collapsed": false
   },
   "outputs": [],
   "source": [
    "try:\n",
    "    gloc_hist_alt = gloc_hist_alt[(gloc_hist_alt['timestamp'] > datetime.now() - timedelta(days=14))]\n",
    "except:\n",
    "    pass "
   ]
  },
  {
   "cell_type": "code",
   "execution_count": 9,
   "metadata": {
    "collapsed": false
   },
   "outputs": [
    {
     "data": {
      "text/plain": [
       "<matplotlib.text.Text at 0x11aebe310>"
      ]
     },
     "execution_count": 9,
     "metadata": {},
     "output_type": "execute_result"
    },
    {
     "data": {
      "image/png": "[encoded data removed]",
      "text/plain": [
       "<matplotlib.figure.Figure at 0x11adbd390>"
      ]
     },
     "metadata": {},
     "output_type": "display_data"
    }
   ],
   "source": [
    "# Rough scatter plot\n",
    "\n",
    "plt.figure(figsize=(10,8))\n",
    "plt.scatter(gloc_hist_alt['lat'],gloc_hist_alt['lng'])\n",
    "plt.xlabel(\"Latitude\")\n",
    "plt.ylabel(\"Longitude\")\n",
    "plt.title(\"Location History - Lat/Long\")"
   ]
  },
  {
   "cell_type": "code",
   "execution_count": 10,
   "metadata": {
    "collapsed": false
   },
   "outputs": [
    {
     "data": {
      "text/plain": [
       "<matplotlib.collections.PathCollection at 0x11adbd150>"
      ]
     },
     "execution_count": 10,
     "metadata": {},
     "output_type": "execute_result"
    },
    {
     "data": {
      "image/png": "[encoded data removed]",
      "text/plain": [
       "<matplotlib.figure.Figure at 0x11ad09390>"
      ]
     },
     "metadata": {},
     "output_type": "display_data"
    }
   ],
   "source": [
    "# Re-scaled scatter plot\n",
    "\n",
    "plt.scatter(preprocessing.scale(np.array(gloc_hist_alt['lat'])), \\\n",
    "            preprocessing.scale(np.array(gloc_hist_alt['lng'])))"
   ]
  },
  {
   "cell_type": "code",
   "execution_count": 11,
   "metadata": {
    "collapsed": false
   },
   "outputs": [],
   "source": [
    "geoc = np.array(gloc_hist_alt[['lat','lng']])"
   ]
  },
  {
   "cell_type": "code",
   "execution_count": 12,
   "metadata": {
    "collapsed": false
   },
   "outputs": [],
   "source": [
    "kmlist = []\n",
    "\n",
    "for n in range(2,100):\n",
    "    lkm = KMeans(n_clusters=n)\n",
    "    ltkm = lkm.fit(geoc)\n",
    "    ltkm_score = metrics.silhouette_score(geoc, ltkm.labels_, metric='euclidean')\n",
    "    kmlist.append([n,ltkm_score])"
   ]
  },
  {
   "cell_type": "code",
   "execution_count": 13,
   "metadata": {
    "collapsed": false
   },
   "outputs": [],
   "source": [
    "klist = np.array(kmlist)"
   ]
  },
  {
   "cell_type": "code",
   "execution_count": 14,
   "metadata": {
    "collapsed": false
   },
   "outputs": [
    {
     "data": {
      "text/plain": [
       "0.70394969468760094"
      ]
     },
     "execution_count": 14,
     "metadata": {},
     "output_type": "execute_result"
    }
   ],
   "source": [
    "np.amax(klist[(klist[:,1]<0.75),1])"
   ]
  },
  {
   "cell_type": "code",
   "execution_count": 15,
   "metadata": {
    "collapsed": false
   },
   "outputs": [
    {
     "name": "stdout",
     "output_type": "stream",
     "text": [
      "n-cluster matching max sil score : 49.0\n"
     ]
    }
   ],
   "source": [
    "for n in klist:\n",
    "    if n[1]==np.amax(klist[(klist[:,1]<0.75),1]):\n",
    "        n_max =n[0]\n",
    "        sc_max = np.amax(klist[(klist[:,1]<0.75),1])\n",
    "        print \"n-cluster matching max sil score : %s\"%n[0]"
   ]
  },
  {
   "cell_type": "code",
   "execution_count": 16,
   "metadata": {
    "collapsed": false
   },
   "outputs": [
    {
     "data": {
      "text/plain": [
       "(0.5, 0.75)"
      ]
     },
     "execution_count": 16,
     "metadata": {},
     "output_type": "execute_result"
    },
    {
     "data": {
      "image/png": "[encoded data removed]",
      "text/plain": [
       "<matplotlib.figure.Figure at 0x11b29bdd0>"
      ]
     },
     "metadata": {},
     "output_type": "display_data"
    }
   ],
   "source": [
    "plt.figure(figsize=(12,10))\n",
    "plt.plot(klist[1:,0],klist[1:,1])\n",
    "plt.axhline(y=sc_max,c=\"red\",linewidth=0.5,zorder=0)\n",
    "plt.annotate('Max Silhouette Score (n=%s, score=%s)'%(n_max,sc_max), xy=(n_max, sc_max), xytext=(15, 0.58))\n",
    "plt.title(\"N-Cluster vs. Silhouette Score\")\n",
    "plt.xlabel(\"Clusters (n)\")\n",
    "plt.ylabel(\"Silhouette Score\")\n",
    "plt.ylim(.5, .75)"
   ]
  },
  {
   "cell_type": "code",
   "execution_count": 17,
   "metadata": {
    "collapsed": true
   },
   "outputs": [],
   "source": [
    "lkm = KMeans(n_clusters=int(n_max))"
   ]
  },
  {
   "cell_type": "code",
   "execution_count": 18,
   "metadata": {
    "collapsed": false
   },
   "outputs": [],
   "source": [
    "ltkm = lkm.fit(geoc)"
   ]
  },
  {
   "cell_type": "code",
   "execution_count": 19,
   "metadata": {
    "collapsed": false,
    "scrolled": false
   },
   "outputs": [
    {
     "data": {
      "text/plain": [
       "<matplotlib.text.Text at 0x11b4c8c90>"
      ]
     },
     "execution_count": 19,
     "metadata": {},
     "output_type": "execute_result"
    },
    {
     "data": {
      "image/png": "[encoded data removed]",
      "text/plain": [
       "<matplotlib.figure.Figure at 0x11ae9c350>"
      ]
     },
     "metadata": {},
     "output_type": "display_data"
    }
   ],
   "source": [
    "plt.figure(figsize=(12,10))\n",
    "plt.scatter(geoc[:,0], geoc[:,1], c=ltkm.labels_, cmap=plt.cm.prism) \n",
    "plt.title(\"K-Means Clustering Results with K=%s\"%n_max)\n",
    "#plt.scatter(ltkm.cluster_centers_[:,0], ltkm.cluster_centers_[:,1], marker='+', s=100, c='k', linewidth=2)\n",
    "plt.xlabel(\"Latitude\")\n",
    "plt.ylabel(\"Longitude\")\n"
   ]
  },
  {
   "cell_type": "code",
   "execution_count": 20,
   "metadata": {
    "collapsed": false
   },
   "outputs": [],
   "source": [
    "my_tsne = TSNE(n_components=2)\n",
    "geoc_stand = StandardScaler().fit_transform(geoc)\n",
    "loc_tsne = my_tsne.fit_transform(geoc_stand)\n",
    "loc_tsne_df = pd.DataFrame({'X1':loc_tsne[:,0], 'X2':loc_tsne[:,1],'y':ltkm.labels_})"
   ]
  },
  {
   "cell_type": "code",
   "execution_count": 21,
   "metadata": {
    "collapsed": false
   },
   "outputs": [
    {
     "data": {
      "text/plain": [
       "<seaborn.axisgrid.FacetGrid at 0x11b2a5590>"
      ]
     },
     "execution_count": 21,
     "metadata": {},
     "output_type": "execute_result"
    },
    {
     "data": {
      "image/png": "[encoded data removed]",
      "text/plain": [
       "<matplotlib.figure.Figure at 0x11c885d10>"
      ]
     },
     "metadata": {},
     "output_type": "display_data"
    }
   ],
   "source": [
    "import seaborn as sns\n",
    "\n",
    "sns.lmplot('X1','X2',data=loc_tsne_df, fit_reg=False,hue='y', size=10)"
   ]
  },
  {
   "cell_type": "code",
   "execution_count": 22,
   "metadata": {
    "collapsed": false
   },
   "outputs": [
    {
     "name": "stdout",
     "output_type": "stream",
     "text": [
      "Dataset Start: ['2016-10-28 08:33:21']\n",
      "Dataset Finish: ['2016-11-07 18:07:21']\n"
     ]
    }
   ],
   "source": [
    "print \"Dataset Start: %s\"%gloc_hist_alt.tail(1)['timestamp'].values\n",
    "print \"Dataset Finish: %s\"%gloc_hist_alt.head(1)['timestamp'].values"
   ]
  },
  {
   "cell_type": "markdown",
   "metadata": {},
   "source": [
    "### Section Conclusion\n",
    "\n",
    "Though it may seem like a relatively high optimal 'n' given the number of data points, it is not outside the realm of reason that a user may have been located that many number of places over the timeframe of the data (11 days). \n",
    "\n",
    "Given that the points represent actual locations, the interpretation of the scatterplot is that during the observation period, the user traveled mainly between two points, but spent a lot of time in places inbetween the two points. The TSNE plot reveals that of the locations, there may be specific points of interest within the overall location data. \n",
    "\n",
    "This is ideal as we can work towards identifying those points of interest (POI) that the user may have a higher chance of recalling correctly. An \"insignificant datapoint\" (ie: data collected while the user was either in transit or sitting in traffic) which although could be considered a predictor of user behavior (ie: during evening commute, there amy be a point in the travel path in which there may be excessive traffic), may not be a particular point of interest for generating an LBC. User may not be able to easily recall the answer to \"Where are you usually located at around XX:XX AM/PM?\" if that location is a particular intersection. If a location is known/trained such as \"home\" or the name of the company where they work, the user may be more likely to recall the correct answer.\n",
    "\n",
    "###  ------------ END of LBC Subsection - EDA - Dimension Validation ---------------"
   ]
  },
  {
   "cell_type": "markdown",
   "metadata": {},
   "source": [
    "###  ------------ LBC Subsection - EDA - Finding POI ---------------"
   ]
  },
  {
   "cell_type": "code",
   "execution_count": 68,
   "metadata": {
    "collapsed": true
   },
   "outputs": [],
   "source": [
    "# For the purposes of placing the user at a specific time, we will not need the velocity and heading. \n",
    "# For now, we will keep accuracy and vertical accuracy figures."
   ]
  },
  {
   "cell_type": "code",
   "execution_count": 23,
   "metadata": {
    "collapsed": false
   },
   "outputs": [],
   "source": [
    "gloc_hist_alt = gloc_hist_alt.drop(['vel'], axis=1).drop(['altitude'], axis=1)"
   ]
  },
  {
   "cell_type": "code",
   "execution_count": 24,
   "metadata": {
    "collapsed": false,
    "scrolled": true
   },
   "outputs": [
    {
     "data": {
      "text/html": [
       "<div>\n",
       "<table border=\"1\" class=\"dataframe\">\n",
       "  <thead>\n",
       "    <tr style=\"text-align: right;\">\n",
       "      <th></th>\n",
       "      <th>timestamp</th>\n",
       "      <th>lat</th>\n",
       "      <th>lng</th>\n",
       "      <th>acc</th>\n",
       "      <th>heading</th>\n",
       "      <th>v_acc</th>\n",
       "    </tr>\n",
       "  </thead>\n",
       "  <tbody>\n",
       "    <tr>\n",
       "      <th>0</th>\n",
       "      <td>2016-11-07 18:07:21</td>\n",
       "      <td>34.066386</td>\n",
       "      <td>-118.314777</td>\n",
       "      <td>5</td>\n",
       "      <td>0</td>\n",
       "      <td>16</td>\n",
       "    </tr>\n",
       "    <tr>\n",
       "      <th>1</th>\n",
       "      <td>2016-11-07 18:07:21</td>\n",
       "      <td>34.066391</td>\n",
       "      <td>-118.314760</td>\n",
       "      <td>34</td>\n",
       "      <td>0</td>\n",
       "      <td>0</td>\n",
       "    </tr>\n",
       "    <tr>\n",
       "      <th>2</th>\n",
       "      <td>2016-11-07 17:23:39</td>\n",
       "      <td>34.036402</td>\n",
       "      <td>-118.308978</td>\n",
       "      <td>10</td>\n",
       "      <td>238</td>\n",
       "      <td>24</td>\n",
       "    </tr>\n",
       "    <tr>\n",
       "      <th>3</th>\n",
       "      <td>2016-11-07 14:43:53</td>\n",
       "      <td>34.031227</td>\n",
       "      <td>-118.265898</td>\n",
       "      <td>53</td>\n",
       "      <td>0</td>\n",
       "      <td>0</td>\n",
       "    </tr>\n",
       "    <tr>\n",
       "      <th>4</th>\n",
       "      <td>2016-11-07 14:06:17</td>\n",
       "      <td>34.031402</td>\n",
       "      <td>-118.265722</td>\n",
       "      <td>77</td>\n",
       "      <td>0</td>\n",
       "      <td>10</td>\n",
       "    </tr>\n",
       "    <tr>\n",
       "      <th>5</th>\n",
       "      <td>2016-11-07 13:40:24</td>\n",
       "      <td>34.031327</td>\n",
       "      <td>-118.266530</td>\n",
       "      <td>10</td>\n",
       "      <td>305</td>\n",
       "      <td>6</td>\n",
       "    </tr>\n",
       "    <tr>\n",
       "      <th>6</th>\n",
       "      <td>2016-11-07 08:57:21</td>\n",
       "      <td>34.031385</td>\n",
       "      <td>-118.266618</td>\n",
       "      <td>62</td>\n",
       "      <td>0</td>\n",
       "      <td>0</td>\n",
       "    </tr>\n",
       "    <tr>\n",
       "      <th>7</th>\n",
       "      <td>2016-11-07 08:57:02</td>\n",
       "      <td>34.032807</td>\n",
       "      <td>-118.261937</td>\n",
       "      <td>2000</td>\n",
       "      <td>0</td>\n",
       "      <td>20</td>\n",
       "    </tr>\n",
       "    <tr>\n",
       "      <th>8</th>\n",
       "      <td>2016-11-07 08:06:54</td>\n",
       "      <td>34.052506</td>\n",
       "      <td>-118.298265</td>\n",
       "      <td>10</td>\n",
       "      <td>0</td>\n",
       "      <td>16</td>\n",
       "    </tr>\n",
       "    <tr>\n",
       "      <th>9</th>\n",
       "      <td>2016-11-06 23:11:02</td>\n",
       "      <td>34.066417</td>\n",
       "      <td>-118.314795</td>\n",
       "      <td>27</td>\n",
       "      <td>0</td>\n",
       "      <td>0</td>\n",
       "    </tr>\n",
       "  </tbody>\n",
       "</table>\n",
       "</div>"
      ],
      "text/plain": [
       "             timestamp        lat         lng   acc heading v_acc\n",
       "0  2016-11-07 18:07:21  34.066386 -118.314777     5       0    16\n",
       "1  2016-11-07 18:07:21  34.066391 -118.314760    34       0     0\n",
       "2  2016-11-07 17:23:39  34.036402 -118.308978    10     238    24\n",
       "3  2016-11-07 14:43:53  34.031227 -118.265898    53       0     0\n",
       "4  2016-11-07 14:06:17  34.031402 -118.265722    77       0    10\n",
       "5  2016-11-07 13:40:24  34.031327 -118.266530    10     305     6\n",
       "6  2016-11-07 08:57:21  34.031385 -118.266618    62       0     0\n",
       "7  2016-11-07 08:57:02  34.032807 -118.261937  2000       0    20\n",
       "8  2016-11-07 08:06:54  34.052506 -118.298265    10       0    16\n",
       "9  2016-11-06 23:11:02  34.066417 -118.314795    27       0     0"
      ]
     },
     "execution_count": 24,
     "metadata": {},
     "output_type": "execute_result"
    }
   ],
   "source": [
    "gloc_hist_alt.head(10)"
   ]
  },
  {
   "cell_type": "code",
   "execution_count": 25,
   "metadata": {
    "collapsed": false
   },
   "outputs": [],
   "source": [
    "gloc_hist_alt['poi_id'] = ltkm.labels_"
   ]
  },
  {
   "cell_type": "code",
   "execution_count": 26,
   "metadata": {
    "collapsed": false
   },
   "outputs": [
    {
     "data": {
      "text/html": [
       "<div>\n",
       "<table border=\"1\" class=\"dataframe\">\n",
       "  <thead>\n",
       "    <tr style=\"text-align: right;\">\n",
       "      <th></th>\n",
       "      <th>timestamp</th>\n",
       "      <th>lat</th>\n",
       "      <th>lng</th>\n",
       "      <th>acc</th>\n",
       "      <th>heading</th>\n",
       "      <th>v_acc</th>\n",
       "      <th>poi_id</th>\n",
       "    </tr>\n",
       "  </thead>\n",
       "  <tbody>\n",
       "    <tr>\n",
       "      <th>0</th>\n",
       "      <td>2016-11-07 18:07:21</td>\n",
       "      <td>34.066386</td>\n",
       "      <td>-118.314777</td>\n",
       "      <td>5</td>\n",
       "      <td>0</td>\n",
       "      <td>16</td>\n",
       "      <td>18</td>\n",
       "    </tr>\n",
       "    <tr>\n",
       "      <th>1</th>\n",
       "      <td>2016-11-07 18:07:21</td>\n",
       "      <td>34.066391</td>\n",
       "      <td>-118.314760</td>\n",
       "      <td>34</td>\n",
       "      <td>0</td>\n",
       "      <td>0</td>\n",
       "      <td>18</td>\n",
       "    </tr>\n",
       "    <tr>\n",
       "      <th>2</th>\n",
       "      <td>2016-11-07 17:23:39</td>\n",
       "      <td>34.036402</td>\n",
       "      <td>-118.308978</td>\n",
       "      <td>10</td>\n",
       "      <td>238</td>\n",
       "      <td>24</td>\n",
       "      <td>26</td>\n",
       "    </tr>\n",
       "    <tr>\n",
       "      <th>3</th>\n",
       "      <td>2016-11-07 14:43:53</td>\n",
       "      <td>34.031227</td>\n",
       "      <td>-118.265898</td>\n",
       "      <td>53</td>\n",
       "      <td>0</td>\n",
       "      <td>0</td>\n",
       "      <td>2</td>\n",
       "    </tr>\n",
       "    <tr>\n",
       "      <th>4</th>\n",
       "      <td>2016-11-07 14:06:17</td>\n",
       "      <td>34.031402</td>\n",
       "      <td>-118.265722</td>\n",
       "      <td>77</td>\n",
       "      <td>0</td>\n",
       "      <td>10</td>\n",
       "      <td>2</td>\n",
       "    </tr>\n",
       "    <tr>\n",
       "      <th>5</th>\n",
       "      <td>2016-11-07 13:40:24</td>\n",
       "      <td>34.031327</td>\n",
       "      <td>-118.266530</td>\n",
       "      <td>10</td>\n",
       "      <td>305</td>\n",
       "      <td>6</td>\n",
       "      <td>2</td>\n",
       "    </tr>\n",
       "    <tr>\n",
       "      <th>6</th>\n",
       "      <td>2016-11-07 08:57:21</td>\n",
       "      <td>34.031385</td>\n",
       "      <td>-118.266618</td>\n",
       "      <td>62</td>\n",
       "      <td>0</td>\n",
       "      <td>0</td>\n",
       "      <td>2</td>\n",
       "    </tr>\n",
       "    <tr>\n",
       "      <th>7</th>\n",
       "      <td>2016-11-07 08:57:02</td>\n",
       "      <td>34.032807</td>\n",
       "      <td>-118.261937</td>\n",
       "      <td>2000</td>\n",
       "      <td>0</td>\n",
       "      <td>20</td>\n",
       "      <td>46</td>\n",
       "    </tr>\n",
       "    <tr>\n",
       "      <th>8</th>\n",
       "      <td>2016-11-07 08:06:54</td>\n",
       "      <td>34.052506</td>\n",
       "      <td>-118.298265</td>\n",
       "      <td>10</td>\n",
       "      <td>0</td>\n",
       "      <td>16</td>\n",
       "      <td>23</td>\n",
       "    </tr>\n",
       "    <tr>\n",
       "      <th>9</th>\n",
       "      <td>2016-11-06 23:11:02</td>\n",
       "      <td>34.066417</td>\n",
       "      <td>-118.314795</td>\n",
       "      <td>27</td>\n",
       "      <td>0</td>\n",
       "      <td>0</td>\n",
       "      <td>18</td>\n",
       "    </tr>\n",
       "  </tbody>\n",
       "</table>\n",
       "</div>"
      ],
      "text/plain": [
       "             timestamp        lat         lng   acc heading v_acc  poi_id\n",
       "0  2016-11-07 18:07:21  34.066386 -118.314777     5       0    16      18\n",
       "1  2016-11-07 18:07:21  34.066391 -118.314760    34       0     0      18\n",
       "2  2016-11-07 17:23:39  34.036402 -118.308978    10     238    24      26\n",
       "3  2016-11-07 14:43:53  34.031227 -118.265898    53       0     0       2\n",
       "4  2016-11-07 14:06:17  34.031402 -118.265722    77       0    10       2\n",
       "5  2016-11-07 13:40:24  34.031327 -118.266530    10     305     6       2\n",
       "6  2016-11-07 08:57:21  34.031385 -118.266618    62       0     0       2\n",
       "7  2016-11-07 08:57:02  34.032807 -118.261937  2000       0    20      46\n",
       "8  2016-11-07 08:06:54  34.052506 -118.298265    10       0    16      23\n",
       "9  2016-11-06 23:11:02  34.066417 -118.314795    27       0     0      18"
      ]
     },
     "execution_count": 26,
     "metadata": {},
     "output_type": "execute_result"
    }
   ],
   "source": [
    "gloc_hist_alt.head(10)"
   ]
  },
  {
   "cell_type": "markdown",
   "metadata": {
    "collapsed": true
   },
   "source": [
    "Based on the following degree precision information (Source: Wikipedia, https://en.wikipedia.org/wiki/Decimal_degrees), add locations with reduced accuracy within reasonable tolerances for clustering options.\n",
    "\n",
    "![title](gps-resolution.png)"
   ]
  },
  {
   "cell_type": "code",
   "execution_count": 27,
   "metadata": {
    "collapsed": false
   },
   "outputs": [],
   "source": [
    "gloc_hist_alt['lat4'] = [round(glat,4) for glat in gloc_hist_alt['lat']]\n",
    "gloc_hist_alt['lng4'] = [round(glng,4) for glng in gloc_hist_alt['lng']]\n",
    "gloc_hist_alt['lat5'] = [round(glat,5) for glat in gloc_hist_alt['lat']]\n",
    "gloc_hist_alt['lng5'] = [round(glng,5) for glng in gloc_hist_alt['lng']]"
   ]
  },
  {
   "cell_type": "code",
   "execution_count": 28,
   "metadata": {
    "collapsed": false
   },
   "outputs": [
    {
     "data": {
      "text/html": [
       "<div>\n",
       "<table border=\"1\" class=\"dataframe\">\n",
       "  <thead>\n",
       "    <tr style=\"text-align: right;\">\n",
       "      <th></th>\n",
       "      <th>timestamp</th>\n",
       "      <th>lat</th>\n",
       "      <th>lng</th>\n",
       "      <th>acc</th>\n",
       "      <th>heading</th>\n",
       "      <th>v_acc</th>\n",
       "      <th>poi_id</th>\n",
       "      <th>lat4</th>\n",
       "      <th>lng4</th>\n",
       "      <th>lat5</th>\n",
       "      <th>lng5</th>\n",
       "    </tr>\n",
       "  </thead>\n",
       "  <tbody>\n",
       "    <tr>\n",
       "      <th>0</th>\n",
       "      <td>2016-11-07 18:07:21</td>\n",
       "      <td>34.066386</td>\n",
       "      <td>-118.314777</td>\n",
       "      <td>5</td>\n",
       "      <td>0</td>\n",
       "      <td>16</td>\n",
       "      <td>18</td>\n",
       "      <td>34.0664</td>\n",
       "      <td>-118.3148</td>\n",
       "      <td>34.06639</td>\n",
       "      <td>-118.31478</td>\n",
       "    </tr>\n",
       "    <tr>\n",
       "      <th>1</th>\n",
       "      <td>2016-11-07 18:07:21</td>\n",
       "      <td>34.066391</td>\n",
       "      <td>-118.314760</td>\n",
       "      <td>34</td>\n",
       "      <td>0</td>\n",
       "      <td>0</td>\n",
       "      <td>18</td>\n",
       "      <td>34.0664</td>\n",
       "      <td>-118.3148</td>\n",
       "      <td>34.06639</td>\n",
       "      <td>-118.31476</td>\n",
       "    </tr>\n",
       "    <tr>\n",
       "      <th>2</th>\n",
       "      <td>2016-11-07 17:23:39</td>\n",
       "      <td>34.036402</td>\n",
       "      <td>-118.308978</td>\n",
       "      <td>10</td>\n",
       "      <td>238</td>\n",
       "      <td>24</td>\n",
       "      <td>26</td>\n",
       "      <td>34.0364</td>\n",
       "      <td>-118.3090</td>\n",
       "      <td>34.03640</td>\n",
       "      <td>-118.30898</td>\n",
       "    </tr>\n",
       "    <tr>\n",
       "      <th>3</th>\n",
       "      <td>2016-11-07 14:43:53</td>\n",
       "      <td>34.031227</td>\n",
       "      <td>-118.265898</td>\n",
       "      <td>53</td>\n",
       "      <td>0</td>\n",
       "      <td>0</td>\n",
       "      <td>2</td>\n",
       "      <td>34.0312</td>\n",
       "      <td>-118.2659</td>\n",
       "      <td>34.03123</td>\n",
       "      <td>-118.26590</td>\n",
       "    </tr>\n",
       "    <tr>\n",
       "      <th>4</th>\n",
       "      <td>2016-11-07 14:06:17</td>\n",
       "      <td>34.031402</td>\n",
       "      <td>-118.265722</td>\n",
       "      <td>77</td>\n",
       "      <td>0</td>\n",
       "      <td>10</td>\n",
       "      <td>2</td>\n",
       "      <td>34.0314</td>\n",
       "      <td>-118.2657</td>\n",
       "      <td>34.03140</td>\n",
       "      <td>-118.26572</td>\n",
       "    </tr>\n",
       "    <tr>\n",
       "      <th>5</th>\n",
       "      <td>2016-11-07 13:40:24</td>\n",
       "      <td>34.031327</td>\n",
       "      <td>-118.266530</td>\n",
       "      <td>10</td>\n",
       "      <td>305</td>\n",
       "      <td>6</td>\n",
       "      <td>2</td>\n",
       "      <td>34.0313</td>\n",
       "      <td>-118.2665</td>\n",
       "      <td>34.03133</td>\n",
       "      <td>-118.26653</td>\n",
       "    </tr>\n",
       "    <tr>\n",
       "      <th>6</th>\n",
       "      <td>2016-11-07 08:57:21</td>\n",
       "      <td>34.031385</td>\n",
       "      <td>-118.266618</td>\n",
       "      <td>62</td>\n",
       "      <td>0</td>\n",
       "      <td>0</td>\n",
       "      <td>2</td>\n",
       "      <td>34.0314</td>\n",
       "      <td>-118.2666</td>\n",
       "      <td>34.03138</td>\n",
       "      <td>-118.26662</td>\n",
       "    </tr>\n",
       "    <tr>\n",
       "      <th>7</th>\n",
       "      <td>2016-11-07 08:57:02</td>\n",
       "      <td>34.032807</td>\n",
       "      <td>-118.261937</td>\n",
       "      <td>2000</td>\n",
       "      <td>0</td>\n",
       "      <td>20</td>\n",
       "      <td>46</td>\n",
       "      <td>34.0328</td>\n",
       "      <td>-118.2619</td>\n",
       "      <td>34.03281</td>\n",
       "      <td>-118.26194</td>\n",
       "    </tr>\n",
       "    <tr>\n",
       "      <th>8</th>\n",
       "      <td>2016-11-07 08:06:54</td>\n",
       "      <td>34.052506</td>\n",
       "      <td>-118.298265</td>\n",
       "      <td>10</td>\n",
       "      <td>0</td>\n",
       "      <td>16</td>\n",
       "      <td>23</td>\n",
       "      <td>34.0525</td>\n",
       "      <td>-118.2983</td>\n",
       "      <td>34.05251</td>\n",
       "      <td>-118.29826</td>\n",
       "    </tr>\n",
       "    <tr>\n",
       "      <th>9</th>\n",
       "      <td>2016-11-06 23:11:02</td>\n",
       "      <td>34.066417</td>\n",
       "      <td>-118.314795</td>\n",
       "      <td>27</td>\n",
       "      <td>0</td>\n",
       "      <td>0</td>\n",
       "      <td>18</td>\n",
       "      <td>34.0664</td>\n",
       "      <td>-118.3148</td>\n",
       "      <td>34.06642</td>\n",
       "      <td>-118.31479</td>\n",
       "    </tr>\n",
       "  </tbody>\n",
       "</table>\n",
       "</div>"
      ],
      "text/plain": [
       "             timestamp        lat         lng   acc heading v_acc  poi_id  \\\n",
       "0  2016-11-07 18:07:21  34.066386 -118.314777     5       0    16      18   \n",
       "1  2016-11-07 18:07:21  34.066391 -118.314760    34       0     0      18   \n",
       "2  2016-11-07 17:23:39  34.036402 -118.308978    10     238    24      26   \n",
       "3  2016-11-07 14:43:53  34.031227 -118.265898    53       0     0       2   \n",
       "4  2016-11-07 14:06:17  34.031402 -118.265722    77       0    10       2   \n",
       "5  2016-11-07 13:40:24  34.031327 -118.266530    10     305     6       2   \n",
       "6  2016-11-07 08:57:21  34.031385 -118.266618    62       0     0       2   \n",
       "7  2016-11-07 08:57:02  34.032807 -118.261937  2000       0    20      46   \n",
       "8  2016-11-07 08:06:54  34.052506 -118.298265    10       0    16      23   \n",
       "9  2016-11-06 23:11:02  34.066417 -118.314795    27       0     0      18   \n",
       "\n",
       "      lat4      lng4      lat5       lng5  \n",
       "0  34.0664 -118.3148  34.06639 -118.31478  \n",
       "1  34.0664 -118.3148  34.06639 -118.31476  \n",
       "2  34.0364 -118.3090  34.03640 -118.30898  \n",
       "3  34.0312 -118.2659  34.03123 -118.26590  \n",
       "4  34.0314 -118.2657  34.03140 -118.26572  \n",
       "5  34.0313 -118.2665  34.03133 -118.26653  \n",
       "6  34.0314 -118.2666  34.03138 -118.26662  \n",
       "7  34.0328 -118.2619  34.03281 -118.26194  \n",
       "8  34.0525 -118.2983  34.05251 -118.29826  \n",
       "9  34.0664 -118.3148  34.06642 -118.31479  "
      ]
     },
     "execution_count": 28,
     "metadata": {},
     "output_type": "execute_result"
    }
   ],
   "source": [
    "gloc_hist_alt.head(10)"
   ]
  },
  {
   "cell_type": "code",
   "execution_count": 29,
   "metadata": {
    "collapsed": false
   },
   "outputs": [
    {
     "data": {
      "text/plain": [
       "<seaborn.axisgrid.FacetGrid at 0x11b8a2ed0>"
      ]
     },
     "execution_count": 29,
     "metadata": {},
     "output_type": "execute_result"
    },
    {
     "data": {
      "image/png": "[encoded data removed]",
      "text/plain": [
       "<matplotlib.figure.Figure at 0x11f2099d0>"
      ]
     },
     "metadata": {},
     "output_type": "display_data"
    }
   ],
   "source": [
    "gloc4_tsne = TSNE(n_components=2)\n",
    "geoc4_stand = StandardScaler().fit_transform(gloc_hist_alt[['lat4','lng4']])\n",
    "\n",
    "loc4_tsne = gloc4_tsne.fit_transform(geoc4_stand)\n",
    "loc4_tsne_df = pd.DataFrame({'X1':loc4_tsne[:,0], 'X2':loc4_tsne[:,1],'y':ltkm.labels_})\n",
    "\n",
    "sns.lmplot('X1','X2',data=loc4_tsne_df, fit_reg=False,hue='y', size=10)"
   ]
  },
  {
   "cell_type": "code",
   "execution_count": 30,
   "metadata": {
    "collapsed": false
   },
   "outputs": [
    {
     "data": {
      "text/plain": [
       "<seaborn.axisgrid.FacetGrid at 0x11f1c4910>"
      ]
     },
     "execution_count": 30,
     "metadata": {},
     "output_type": "execute_result"
    },
    {
     "data": {
      "image/png": "[encoded data removed]",
      "text/plain": [
       "<matplotlib.figure.Figure at 0x11f209850>"
      ]
     },
     "metadata": {},
     "output_type": "display_data"
    }
   ],
   "source": [
    "gloc5_tsne = TSNE(n_components=2)\n",
    "geoc5_stand = StandardScaler().fit_transform(gloc_hist_alt[['lat5','lng5']])\n",
    "\n",
    "loc5_tsne = gloc5_tsne.fit_transform(geoc5_stand)\n",
    "loc5_tsne_df = pd.DataFrame({'X1':loc5_tsne[:,0], 'X2':loc5_tsne[:,1],'y':ltkm.labels_})\n",
    "\n",
    "sns.lmplot('X1','X2',data=loc5_tsne_df, fit_reg=False,hue='y', size=10)"
   ]
  },
  {
   "cell_type": "code",
   "execution_count": 31,
   "metadata": {
    "collapsed": false
   },
   "outputs": [],
   "source": [
    "poi_id_list = gloc_hist_alt['poi_id'].value_counts().to_frame(name='Count').reset_index()"
   ]
  },
  {
   "cell_type": "code",
   "execution_count": 32,
   "metadata": {
    "collapsed": false
   },
   "outputs": [
    {
     "data": {
      "text/html": [
       "<div>\n",
       "<table border=\"1\" class=\"dataframe\">\n",
       "  <thead>\n",
       "    <tr style=\"text-align: right;\">\n",
       "      <th></th>\n",
       "      <th>index</th>\n",
       "      <th>Count</th>\n",
       "    </tr>\n",
       "  </thead>\n",
       "  <tbody>\n",
       "    <tr>\n",
       "      <th>0</th>\n",
       "      <td>18</td>\n",
       "      <td>89</td>\n",
       "    </tr>\n",
       "    <tr>\n",
       "      <th>1</th>\n",
       "      <td>2</td>\n",
       "      <td>82</td>\n",
       "    </tr>\n",
       "    <tr>\n",
       "      <th>2</th>\n",
       "      <td>4</td>\n",
       "      <td>80</td>\n",
       "    </tr>\n",
       "    <tr>\n",
       "      <th>3</th>\n",
       "      <td>1</td>\n",
       "      <td>16</td>\n",
       "    </tr>\n",
       "    <tr>\n",
       "      <th>4</th>\n",
       "      <td>0</td>\n",
       "      <td>16</td>\n",
       "    </tr>\n",
       "    <tr>\n",
       "      <th>5</th>\n",
       "      <td>33</td>\n",
       "      <td>15</td>\n",
       "    </tr>\n",
       "    <tr>\n",
       "      <th>6</th>\n",
       "      <td>32</td>\n",
       "      <td>13</td>\n",
       "    </tr>\n",
       "    <tr>\n",
       "      <th>7</th>\n",
       "      <td>15</td>\n",
       "      <td>13</td>\n",
       "    </tr>\n",
       "    <tr>\n",
       "      <th>8</th>\n",
       "      <td>5</td>\n",
       "      <td>12</td>\n",
       "    </tr>\n",
       "    <tr>\n",
       "      <th>9</th>\n",
       "      <td>43</td>\n",
       "      <td>12</td>\n",
       "    </tr>\n",
       "  </tbody>\n",
       "</table>\n",
       "</div>"
      ],
      "text/plain": [
       "   index  Count\n",
       "0     18     89\n",
       "1      2     82\n",
       "2      4     80\n",
       "3      1     16\n",
       "4      0     16\n",
       "5     33     15\n",
       "6     32     13\n",
       "7     15     13\n",
       "8      5     12\n",
       "9     43     12"
      ]
     },
     "execution_count": 32,
     "metadata": {},
     "output_type": "execute_result"
    }
   ],
   "source": [
    "poi_id_list.head(10)"
   ]
  },
  {
   "cell_type": "code",
   "execution_count": 33,
   "metadata": {
    "collapsed": false
   },
   "outputs": [],
   "source": [
    "poi_sig = poi_id_list['Count'].describe()"
   ]
  },
  {
   "cell_type": "code",
   "execution_count": 34,
   "metadata": {
    "collapsed": false
   },
   "outputs": [
    {
     "data": {
      "text/plain": [
       "count    49.000000\n",
       "mean     10.244898\n",
       "std      19.492018\n",
       "min       1.000000\n",
       "25%       2.000000\n",
       "50%       4.000000\n",
       "75%       9.000000\n",
       "max      89.000000\n",
       "Name: Count, dtype: float64"
      ]
     },
     "execution_count": 34,
     "metadata": {},
     "output_type": "execute_result"
    }
   ],
   "source": [
    "poi_sig"
   ]
  },
  {
   "cell_type": "code",
   "execution_count": 35,
   "metadata": {
    "collapsed": false
   },
   "outputs": [],
   "source": [
    "min_sig = poi_sig.ix['mean']+poi_sig.ix['std']\n",
    "\n",
    "if len(poi_id_list[(poi_id_list['Count']>min_sig)]['index'].values) < 2:\n",
    "    min_sig = poi_sig.ix['mean']+poi_sig.ix['std']\n",
    "else:\n",
    "    min_sig = poi_sig.ix['mean']+(poi_sig.ix['std']*2)"
   ]
  },
  {
   "cell_type": "code",
   "execution_count": 36,
   "metadata": {
    "collapsed": false
   },
   "outputs": [
    {
     "data": {
      "text/plain": [
       "29.736916210514245"
      ]
     },
     "execution_count": 36,
     "metadata": {},
     "output_type": "execute_result"
    }
   ],
   "source": [
    "poi_sig.ix['mean']+poi_sig.ix['std']"
   ]
  },
  {
   "cell_type": "code",
   "execution_count": 37,
   "metadata": {
    "collapsed": false
   },
   "outputs": [
    {
     "data": {
      "text/plain": [
       "49.228934461844815"
      ]
     },
     "execution_count": 37,
     "metadata": {},
     "output_type": "execute_result"
    }
   ],
   "source": [
    "min_sig"
   ]
  },
  {
   "cell_type": "code",
   "execution_count": 38,
   "metadata": {
    "collapsed": false
   },
   "outputs": [
    {
     "data": {
      "text/plain": [
       "0    18\n",
       "1     2\n",
       "2     4\n",
       "Name: index, dtype: int64"
      ]
     },
     "execution_count": 38,
     "metadata": {},
     "output_type": "execute_result"
    }
   ],
   "source": [
    "poi_id_list[(poi_id_list['Count']>min_sig)]['index']"
   ]
  },
  {
   "cell_type": "code",
   "execution_count": 39,
   "metadata": {
    "collapsed": false
   },
   "outputs": [],
   "source": [
    "poi_points = poi_id_list[(poi_id_list['Count']>min_sig)]['index'].values"
   ]
  },
  {
   "cell_type": "code",
   "execution_count": 40,
   "metadata": {
    "collapsed": false
   },
   "outputs": [
    {
     "data": {
      "text/plain": [
       "array([18,  2,  4])"
      ]
     },
     "execution_count": 40,
     "metadata": {},
     "output_type": "execute_result"
    }
   ],
   "source": [
    "if len(poi_points)<2:\n",
    "    min_sig = poi_sig.ix['mean']+poi_sig.ix['std']\n",
    "    poi_points = poi_id_list[(poi_id_list['Count']>min_sig)]['index'].values\n",
    "\n",
    "poi_points"
   ]
  },
  {
   "cell_type": "code",
   "execution_count": 41,
   "metadata": {
    "collapsed": true
   },
   "outputs": [],
   "source": [
    "# The value counts of the POI id's shows us there are three locations in particular that may be of \n",
    "# high interest to the user. "
   ]
  },
  {
   "cell_type": "code",
   "execution_count": 42,
   "metadata": {
    "collapsed": false
   },
   "outputs": [],
   "source": [
    "def showmap(maplat,maplng,zoom=16):\n",
    "\n",
    "    from IPython.display import IFrame\n",
    "    from IPython.core.display import display\n",
    "\n",
    "    maps_url = \"http://maps.google.com/maps?q={0}+{1}&z={2}&output=embed&iwloc=near\".format(maplat,maplng,zoom)\n",
    "    display(IFrame(maps_url, '400px', '300px'))"
   ]
  },
  {
   "cell_type": "code",
   "execution_count": 43,
   "metadata": {
    "collapsed": false
   },
   "outputs": [
    {
     "name": "stdout",
     "output_type": "stream",
     "text": [
      "34.0664876966 -118.314874163\n"
     ]
    },
    {
     "data": {
      "text/html": [
       "\n",
       "        <iframe\n",
       "            width=\"400px\"\n",
       "            height=\"300px\"\n",
       "            src=\"http://maps.google.com/maps?q=34.0664876966+-118.314874163&z=16&output=embed&iwloc=near\"\n",
       "            frameborder=\"0\"\n",
       "            allowfullscreen\n",
       "        ></iframe>\n",
       "        "
      ],
      "text/plain": [
       "<IPython.lib.display.IFrame at 0x11f1fb7d0>"
      ]
     },
     "metadata": {},
     "output_type": "display_data"
    },
    {
     "name": "stdout",
     "output_type": "stream",
     "text": [
      "34.0312947305 -118.26638861\n"
     ]
    },
    {
     "data": {
      "text/html": [
       "\n",
       "        <iframe\n",
       "            width=\"400px\"\n",
       "            height=\"300px\"\n",
       "            src=\"http://maps.google.com/maps?q=34.0312947305+-118.26638861&z=16&output=embed&iwloc=near\"\n",
       "            frameborder=\"0\"\n",
       "            allowfullscreen\n",
       "        ></iframe>\n",
       "        "
      ],
      "text/plain": [
       "<IPython.lib.display.IFrame at 0x11f1fb7d0>"
      ]
     },
     "metadata": {},
     "output_type": "display_data"
    },
    {
     "name": "stdout",
     "output_type": "stream",
     "text": [
      "34.0601805 -118.281154637\n"
     ]
    },
    {
     "data": {
      "text/html": [
       "\n",
       "        <iframe\n",
       "            width=\"400px\"\n",
       "            height=\"300px\"\n",
       "            src=\"http://maps.google.com/maps?q=34.0601805+-118.281154637&z=16&output=embed&iwloc=near\"\n",
       "            frameborder=\"0\"\n",
       "            allowfullscreen\n",
       "        ></iframe>\n",
       "        "
      ],
      "text/plain": [
       "<IPython.lib.display.IFrame at 0x11f1fb7d0>"
      ]
     },
     "metadata": {},
     "output_type": "display_data"
    }
   ],
   "source": [
    "# Sample Geographic Location Visualization\n",
    "\n",
    "for n in poi_points:\n",
    "\n",
    "    mean_lat = gloc_hist_alt[(gloc_hist_alt['poi_id']==n)]['lat'].mean()\n",
    "    mean_lng = gloc_hist_alt[(gloc_hist_alt['poi_id']==n)]['lng'].mean()\n",
    "\n",
    "    print mean_lat,mean_lng\n",
    "    showmap(mean_lat,mean_lng)"
   ]
  },
  {
   "cell_type": "markdown",
   "metadata": {
    "collapsed": true
   },
   "source": [
    "###  ------------ END of LBC Subsection - EDA - Finding POI ---------------"
   ]
  },
  {
   "cell_type": "code",
   "execution_count": 44,
   "metadata": {
    "collapsed": false
   },
   "outputs": [],
   "source": [
    "gloc_hist_alt['timestamp'] = pd.to_datetime(gloc_hist_alt['timestamp'])\n",
    "gloc_hist_alt['dotw'] = [gldt.dayofweek for gldt in gloc_hist_alt['timestamp']]\n",
    "gloc_hist_alt['hotd'] = [gldt.hour for gldt in gloc_hist_alt['timestamp']]"
   ]
  },
  {
   "cell_type": "code",
   "execution_count": 45,
   "metadata": {
    "collapsed": false
   },
   "outputs": [
    {
     "data": {
      "text/html": [
       "<div>\n",
       "<table border=\"1\" class=\"dataframe\">\n",
       "  <thead>\n",
       "    <tr style=\"text-align: right;\">\n",
       "      <th></th>\n",
       "      <th>timestamp</th>\n",
       "      <th>lat</th>\n",
       "      <th>lng</th>\n",
       "      <th>acc</th>\n",
       "      <th>heading</th>\n",
       "      <th>v_acc</th>\n",
       "      <th>poi_id</th>\n",
       "      <th>lat4</th>\n",
       "      <th>lng4</th>\n",
       "      <th>lat5</th>\n",
       "      <th>lng5</th>\n",
       "      <th>dotw</th>\n",
       "      <th>hotd</th>\n",
       "    </tr>\n",
       "  </thead>\n",
       "  <tbody>\n",
       "    <tr>\n",
       "      <th>0</th>\n",
       "      <td>2016-11-07 18:07:21</td>\n",
       "      <td>34.066386</td>\n",
       "      <td>-118.314777</td>\n",
       "      <td>5</td>\n",
       "      <td>0</td>\n",
       "      <td>16</td>\n",
       "      <td>18</td>\n",
       "      <td>34.0664</td>\n",
       "      <td>-118.3148</td>\n",
       "      <td>34.06639</td>\n",
       "      <td>-118.31478</td>\n",
       "      <td>0</td>\n",
       "      <td>18</td>\n",
       "    </tr>\n",
       "    <tr>\n",
       "      <th>1</th>\n",
       "      <td>2016-11-07 18:07:21</td>\n",
       "      <td>34.066391</td>\n",
       "      <td>-118.314760</td>\n",
       "      <td>34</td>\n",
       "      <td>0</td>\n",
       "      <td>0</td>\n",
       "      <td>18</td>\n",
       "      <td>34.0664</td>\n",
       "      <td>-118.3148</td>\n",
       "      <td>34.06639</td>\n",
       "      <td>-118.31476</td>\n",
       "      <td>0</td>\n",
       "      <td>18</td>\n",
       "    </tr>\n",
       "    <tr>\n",
       "      <th>2</th>\n",
       "      <td>2016-11-07 17:23:39</td>\n",
       "      <td>34.036402</td>\n",
       "      <td>-118.308978</td>\n",
       "      <td>10</td>\n",
       "      <td>238</td>\n",
       "      <td>24</td>\n",
       "      <td>26</td>\n",
       "      <td>34.0364</td>\n",
       "      <td>-118.3090</td>\n",
       "      <td>34.03640</td>\n",
       "      <td>-118.30898</td>\n",
       "      <td>0</td>\n",
       "      <td>17</td>\n",
       "    </tr>\n",
       "    <tr>\n",
       "      <th>3</th>\n",
       "      <td>2016-11-07 14:43:53</td>\n",
       "      <td>34.031227</td>\n",
       "      <td>-118.265898</td>\n",
       "      <td>53</td>\n",
       "      <td>0</td>\n",
       "      <td>0</td>\n",
       "      <td>2</td>\n",
       "      <td>34.0312</td>\n",
       "      <td>-118.2659</td>\n",
       "      <td>34.03123</td>\n",
       "      <td>-118.26590</td>\n",
       "      <td>0</td>\n",
       "      <td>14</td>\n",
       "    </tr>\n",
       "  </tbody>\n",
       "</table>\n",
       "</div>"
      ],
      "text/plain": [
       "            timestamp        lat         lng  acc heading v_acc  poi_id  \\\n",
       "0 2016-11-07 18:07:21  34.066386 -118.314777    5       0    16      18   \n",
       "1 2016-11-07 18:07:21  34.066391 -118.314760   34       0     0      18   \n",
       "2 2016-11-07 17:23:39  34.036402 -118.308978   10     238    24      26   \n",
       "3 2016-11-07 14:43:53  34.031227 -118.265898   53       0     0       2   \n",
       "\n",
       "      lat4      lng4      lat5       lng5  dotw  hotd  \n",
       "0  34.0664 -118.3148  34.06639 -118.31478     0    18  \n",
       "1  34.0664 -118.3148  34.06639 -118.31476     0    18  \n",
       "2  34.0364 -118.3090  34.03640 -118.30898     0    17  \n",
       "3  34.0312 -118.2659  34.03123 -118.26590     0    14  "
      ]
     },
     "execution_count": 45,
     "metadata": {},
     "output_type": "execute_result"
    }
   ],
   "source": [
    "gloc_hist_alt.head(4)"
   ]
  },
  {
   "cell_type": "code",
   "execution_count": 93,
   "metadata": {
    "collapsed": false
   },
   "outputs": [
    {
     "data": {
      "text/html": [
       "<div>\n",
       "<table border=\"1\" class=\"dataframe\">\n",
       "  <thead>\n",
       "    <tr style=\"text-align: right;\">\n",
       "      <th></th>\n",
       "      <th>hotd</th>\n",
       "    </tr>\n",
       "  </thead>\n",
       "  <tbody>\n",
       "    <tr>\n",
       "      <th>count</th>\n",
       "      <td>13.000000</td>\n",
       "    </tr>\n",
       "    <tr>\n",
       "      <th>mean</th>\n",
       "      <td>20.923077</td>\n",
       "    </tr>\n",
       "    <tr>\n",
       "      <th>std</th>\n",
       "      <td>1.255756</td>\n",
       "    </tr>\n",
       "    <tr>\n",
       "      <th>min</th>\n",
       "      <td>19.000000</td>\n",
       "    </tr>\n",
       "    <tr>\n",
       "      <th>25%</th>\n",
       "      <td>20.000000</td>\n",
       "    </tr>\n",
       "    <tr>\n",
       "      <th>50%</th>\n",
       "      <td>21.000000</td>\n",
       "    </tr>\n",
       "    <tr>\n",
       "      <th>75%</th>\n",
       "      <td>22.000000</td>\n",
       "    </tr>\n",
       "    <tr>\n",
       "      <th>max</th>\n",
       "      <td>23.000000</td>\n",
       "    </tr>\n",
       "  </tbody>\n",
       "</table>\n",
       "</div>"
      ],
      "text/plain": [
       "            hotd\n",
       "count  13.000000\n",
       "mean   20.923077\n",
       "std     1.255756\n",
       "min    19.000000\n",
       "25%    20.000000\n",
       "50%    21.000000\n",
       "75%    22.000000\n",
       "max    23.000000"
      ]
     },
     "execution_count": 93,
     "metadata": {},
     "output_type": "execute_result"
    }
   ],
   "source": [
    "pd.DataFrame(gloc_hist_alt[(gloc_hist_alt['poi_id']==4)]['hotd'].describe())"
   ]
  },
  {
   "cell_type": "code",
   "execution_count": 96,
   "metadata": {
    "collapsed": false
   },
   "outputs": [],
   "source": [
    "# Build a DataFrame of the basic stats values using the .describe method for each of the\n",
    "# datetime frequency based columns in the poi dataframe. \n",
    "\n",
    "poi_dotw_df_list = []\n",
    "\n",
    "for n_poi in range(0,len(poi_points)):\n",
    "    poi_dotw_df_list.append(gloc_hist_alt[(gloc_hist_alt['poi_id']==poi_points[n_poi])]['dotw'].describe().values)"
   ]
  },
  {
   "cell_type": "code",
   "execution_count": 97,
   "metadata": {
    "collapsed": true
   },
   "outputs": [],
   "source": [
    "poi_freq_cols = ['count','mean','std','min','25p','50p','75p','max']"
   ]
  },
  {
   "cell_type": "code",
   "execution_count": 98,
   "metadata": {
    "collapsed": false
   },
   "outputs": [],
   "source": [
    "poi_freq_df = pd.DataFrame(poi_dotw_df_list,columns=poi_freq_cols, index=[poi_points])"
   ]
  },
  {
   "cell_type": "code",
   "execution_count": 99,
   "metadata": {
    "collapsed": false
   },
   "outputs": [],
   "source": [
    "dayfreq_list = []\n",
    "cols = ['weekday_visits','weekend_visits','weekday_only','weekend_only']\n",
    "\n",
    "for poi_loc in poi_points:\n",
    "    \n",
    "    on_weekends = []\n",
    "    on_weekdays = []\n",
    "    visit_weekends = []\n",
    "    visit_weekdays = []\n",
    "    weekdays_only = []\n",
    "    weekends_only = []\n",
    "    weekdays = (0,1,2,3,4)\n",
    "    weekends = (5,6)\n",
    "    \n",
    "    for dotw in gloc_hist_alt[(gloc_hist_alt['poi_id']==poi_loc)]['dotw'].value_counts().index:\n",
    "        if dotw in weekends:\n",
    "            on_weekends.append(dotw)\n",
    "        if dotw in weekdays:\n",
    "            on_weekdays.append(dotw)\n",
    "\n",
    "    visit_weekends.append(len(on_weekends)==0)\n",
    "    visit_weekdays.append(len(on_weekdays)==0)\n",
    "    weekdays_only.append((len(on_weekends)==0) & (len(on_weekdays)>0))\n",
    "    weekends_only.append((len(on_weekdays)==0) & (len(on_weekends)>0))\n",
    "    \n",
    "    dayfreq_list.append([on_weekdays,on_weekends,weekdays_only,weekends_only])\n",
    "\n",
    "poi_dayfreq_df = pd.DataFrame(dayfreq_list, columns=cols,index=[poi_points])"
   ]
  },
  {
   "cell_type": "code",
   "execution_count": 100,
   "metadata": {
    "collapsed": false
   },
   "outputs": [],
   "source": [
    "poi_dayfreq_df['weekday_only'] = [item[0] for item in poi_dayfreq_df['weekday_only']]\n",
    "poi_dayfreq_df['weekend_only'] = [item[0] for item in poi_dayfreq_df['weekend_only']]"
   ]
  },
  {
   "cell_type": "code",
   "execution_count": 102,
   "metadata": {
    "collapsed": false
   },
   "outputs": [],
   "source": [
    "poi_main_df = pd.concat([poi_freq_df, poi_dayfreq_df], axis=1)"
   ]
  },
  {
   "cell_type": "code",
   "execution_count": 103,
   "metadata": {
    "collapsed": false
   },
   "outputs": [
    {
     "data": {
      "text/html": [
       "<div>\n",
       "<table border=\"1\" class=\"dataframe\">\n",
       "  <thead>\n",
       "    <tr style=\"text-align: right;\">\n",
       "      <th></th>\n",
       "      <th>count</th>\n",
       "      <th>mean</th>\n",
       "      <th>std</th>\n",
       "      <th>min</th>\n",
       "      <th>25p</th>\n",
       "      <th>50p</th>\n",
       "      <th>75p</th>\n",
       "      <th>max</th>\n",
       "      <th>weekday_visits</th>\n",
       "      <th>weekend_visits</th>\n",
       "      <th>weekday_only</th>\n",
       "      <th>weekend_only</th>\n",
       "    </tr>\n",
       "  </thead>\n",
       "  <tbody>\n",
       "    <tr>\n",
       "      <th>27</th>\n",
       "      <td>89.0</td>\n",
       "      <td>3.988764</td>\n",
       "      <td>2.053237</td>\n",
       "      <td>0.0</td>\n",
       "      <td>2.0</td>\n",
       "      <td>5.0</td>\n",
       "      <td>6.0</td>\n",
       "      <td>6.0</td>\n",
       "      <td>[4, 2, 0, 1, 3]</td>\n",
       "      <td>[6, 5]</td>\n",
       "      <td>False</td>\n",
       "      <td>False</td>\n",
       "    </tr>\n",
       "    <tr>\n",
       "      <th>8</th>\n",
       "      <td>84.0</td>\n",
       "      <td>1.892857</td>\n",
       "      <td>1.456335</td>\n",
       "      <td>0.0</td>\n",
       "      <td>1.0</td>\n",
       "      <td>2.0</td>\n",
       "      <td>3.0</td>\n",
       "      <td>4.0</td>\n",
       "      <td>[1, 0, 4, 3, 2]</td>\n",
       "      <td>[]</td>\n",
       "      <td>True</td>\n",
       "      <td>False</td>\n",
       "    </tr>\n",
       "    <tr>\n",
       "      <th>7</th>\n",
       "      <td>80.0</td>\n",
       "      <td>5.462500</td>\n",
       "      <td>0.940559</td>\n",
       "      <td>0.0</td>\n",
       "      <td>5.0</td>\n",
       "      <td>6.0</td>\n",
       "      <td>6.0</td>\n",
       "      <td>6.0</td>\n",
       "      <td>[1, 0]</td>\n",
       "      <td>[6, 5]</td>\n",
       "      <td>False</td>\n",
       "      <td>False</td>\n",
       "    </tr>\n",
       "  </tbody>\n",
       "</table>\n",
       "</div>"
      ],
      "text/plain": [
       "    count      mean       std  min  25p  50p  75p  max   weekday_visits  \\\n",
       "27   89.0  3.988764  2.053237  0.0  2.0  5.0  6.0  6.0  [4, 2, 0, 1, 3]   \n",
       "8    84.0  1.892857  1.456335  0.0  1.0  2.0  3.0  4.0  [1, 0, 4, 3, 2]   \n",
       "7    80.0  5.462500  0.940559  0.0  5.0  6.0  6.0  6.0           [1, 0]   \n",
       "\n",
       "   weekend_visits weekday_only weekend_only  \n",
       "27         [6, 5]        False        False  \n",
       "8              []         True        False  \n",
       "7          [6, 5]        False        False  "
      ]
     },
     "execution_count": 103,
     "metadata": {},
     "output_type": "execute_result"
    }
   ],
   "source": [
    "poi_main_df"
   ]
  },
  {
   "cell_type": "code",
   "execution_count": 104,
   "metadata": {
    "collapsed": false
   },
   "outputs": [
    {
     "name": "stdout",
     "output_type": "stream",
     "text": [
      "The POI ID of the location with the highest recollection potential is: 7\n",
      "The user most commonly visits the POI with HRP on: Sunday\n"
     ]
    }
   ],
   "source": [
    "selected_poi_for_freq_query = poi_freq_df['std'].idxmin()\n",
    "\n",
    "most_freq_dotw_for_pot = gloc_hist_alt[(gloc_hist_alt['poi_id']==selected_poi_for_freq_query)]['dotw'].value_counts().index[0]\n",
    "\n",
    "print \"The POI ID of the location with the highest recollection potential is:\", selected_poi_for_freq_query\n",
    "print \"The user most commonly visits the POI with HRP on:\",calendar.day_name[most_freq_dotw_for_pot]\n",
    "if poi_main_df['weekday_only'].ix[selected_poi_for_freq_query]:\n",
    "    print \"This POI occurs only on weekdays\"\n",
    "elif poi_main_df['weekend_only'].ix[selected_poi_for_freq_query]:\n",
    "    print \"This POI occurs only on weekends\""
   ]
  },
  {
   "cell_type": "markdown",
   "metadata": {},
   "source": [
    "# =============== END LBC ================"
   ]
  },
  {
   "cell_type": "markdown",
   "metadata": {},
   "source": [
    "# ======= LBC Generation ========"
   ]
  },
  {
   "cell_type": "markdown",
   "metadata": {},
   "source": [
    "This is a rough implementation of the Location Based Challenge module for SG1. \n",
    "\n",
    "Expected final implementation will be a LBC class which will include measures to destroy the instance after use or upon expiration so that data does not reside in memory. "
   ]
  },
  {
   "cell_type": "code",
   "execution_count": 107,
   "metadata": {
    "collapsed": false
   },
   "outputs": [],
   "source": [
    "# Password tokenization\n",
    "\n",
    "import time\n",
    "import hashlib\n",
    "import random\n",
    "\n",
    "testdev = '06883575783776600' # Add copy of first digit to create 16-digit key\n",
    "\n",
    "token = 'a'\n",
    "\n",
    "valid_answer = []\n",
    "\n",
    "def tokemon(devid = testdev):\n",
    "    to_encode = devid + str(int(round(time.time())))\n",
    "    encoded = hashlib.sha224(to_encode).hexdigest()\n",
    "    global token\n",
    "    token = encoded\n",
    "    return token"
   ]
  },
  {
   "cell_type": "code",
   "execution_count": 111,
   "metadata": {
    "collapsed": false
   },
   "outputs": [],
   "source": [
    "# Version 0.1 - Basic LBC generation based on assumed data from above. \n",
    "\n",
    "# No parameters\n",
    "# Data is assumed to inherently exist from processing/model applications above.\n",
    "# This version of LBC is basing geolocation information solely from GPS coordinates\n",
    "# obtained via Google Maps background locator data.\n",
    "\n",
    "# Function will return LBC with hint if available along with randomized token for answer tokenization. \n",
    "\n",
    "# Secondary function will take LBC challenge answer and token and repond with authentication response. \n",
    "import warnings\n",
    "warnings.filterwarnings('ignore')\n",
    "\n",
    "def genlbc(qtype='geo'):\n",
    "    \n",
    "    # There are different \"classes\" of location oriented questions that can be generated based\n",
    "    # on user location behavior modeling. \n",
    "    \n",
    "    # Location Frequency - What day(s) are you usually at {%location}?\n",
    "    # Significant POI - On {%dotw}, where do you go most often? \n",
    "\n",
    "    global valid_answer\n",
    "    valid_answer = []\n",
    "\n",
    "    if qtype=='geo':\n",
    "        hint = \"none\"\n",
    "        question = \"What day(s) do you visit this place/area most often? \"\n",
    "        if poi_main_df['weekday_only'].ix[selected_poi_for_freq_query]==True:\n",
    "            global valid_answer\n",
    "            valid_answer.append('weekdays')\n",
    "        elif poi_main_df['weekend_only'].ix[selected_poi_for_freq_query]==True:\n",
    "            global valid_answer\n",
    "            valid_answer.append('weekends')\n",
    "        valid_answer.append(calendar.day_name[most_freq_dotw_for_pot].lower())\n",
    "            \n",
    "        challenge = [question, hint]\n",
    "        gen_token = tokemon()\n",
    "\n",
    "        return challenge, gen_token\n",
    "    else:\n",
    "        return False"
   ]
  },
  {
   "cell_type": "code",
   "execution_count": 112,
   "metadata": {
    "collapsed": true
   },
   "outputs": [],
   "source": [
    "def passlbc(answer,passed_token):\n",
    "    \n",
    "    if passed_token != token:\n",
    "        return 0\n",
    "    else:\n",
    "        global valid_answer\n",
    "        if answer in valid_answer:\n",
    "            return 1\n",
    "        if answer not in valid_answer:\n",
    "            return -1"
   ]
  },
  {
   "cell_type": "code",
   "execution_count": 113,
   "metadata": {
    "collapsed": false
   },
   "outputs": [],
   "source": [
    "# Test function to query user and try authenticating.\n",
    "import string\n",
    "\n",
    "\n",
    "def lbc_auth(method='geoloc'):\n",
    "\n",
    "    if method=='geoloc':\n",
    "        mean_lat = gloc_hist_alt[(gloc_hist_alt['poi_id']==selected_poi_for_freq_query)]['lat'].mean()\n",
    "        mean_lng = gloc_hist_alt[(gloc_hist_alt['poi_id']==selected_poi_for_freq_query)]['lng'].mean()\n",
    "        \n",
    "        print valid_answer\n",
    "        \n",
    "        lbc_query,lbc_token = genlbc('geo')\n",
    "        for attempt_number in range(0,3):\n",
    "            if attempt_number > 0:\n",
    "                try:\n",
    "                    if lbc_query[1]!=\"none\":\n",
    "                        print lbc_query[0]\n",
    "                        raw_response = raw_input(hint)\n",
    "                    else:\n",
    "                        raw_response = raw_input(lbc_query[0])\n",
    "                except:\n",
    "                    raw_response = raw_input(lbc_query[0])\n",
    "            else:\n",
    "                showmap(mean_lat,mean_lng)\n",
    "                raw_response = raw_input(lbc_query[0])            \n",
    "            response = raw_response.lower().translate(None, string.punctuation)\n",
    "            attempt = passlbc(response,lbc_token)\n",
    "            if attempt==1:\n",
    "                print \"Login OK - You have been identified as an authorized user.\"\n",
    "                break\n",
    "            elif attempt==-1:\n",
    "                print \"Authenticated failed. Please try again.\"\n",
    "            elif attempt==0:\n",
    "                print \"Insecure authentication attempt detected. System may be compromised.\"\n",
    "                break\n",
    "        if (attempt_number==2) and (attempt != 1):\n",
    "            print \"Access Denied.\"\n",
    "    else:\n",
    "        print \"Other methods in progress\""
   ]
  },
  {
   "cell_type": "markdown",
   "metadata": {},
   "source": [
    "## === LBC Tests ==="
   ]
  },
  {
   "cell_type": "code",
   "execution_count": 115,
   "metadata": {
    "collapsed": false
   },
   "outputs": [
    {
     "name": "stdout",
     "output_type": "stream",
     "text": [
      "['sunday']\n"
     ]
    },
    {
     "data": {
      "text/html": [
       "\n",
       "        <iframe\n",
       "            width=\"400px\"\n",
       "            height=\"300px\"\n",
       "            src=\"http://maps.google.com/maps?q=34.0601805+-118.281154637&z=16&output=embed&iwloc=near\"\n",
       "            frameborder=\"0\"\n",
       "            allowfullscreen\n",
       "        ></iframe>\n",
       "        "
      ],
      "text/plain": [
       "<IPython.lib.display.IFrame at 0x11fc04b50>"
      ]
     },
     "metadata": {},
     "output_type": "display_data"
    },
    {
     "name": "stdout",
     "output_type": "stream",
     "text": [
      "What day(s) do you visit this place/area most often? sunday\n",
      "Login OK - You have been identified as an authorized user.\n"
     ]
    }
   ],
   "source": [
    "lbc_auth('geoloc')"
   ]
  },
  {
   "cell_type": "code",
   "execution_count": null,
   "metadata": {
    "collapsed": true
   },
   "outputs": [],
   "source": []
  }
 ],
 "metadata": {
  "anaconda-cloud": {},
  "kernelspec": {
   "display_name": "Python [Root]",
   "language": "python",
   "name": "Python [Root]"
  },
  "language_info": {
   "codemirror_mode": {
    "name": "ipython",
    "version": 2
   },
   "file_extension": ".py",
   "mimetype": "text/x-python",
   "name": "python",
   "nbconvert_exporter": "python",
   "pygments_lexer": "ipython2",
   "version": "2.7.12"
  }
 },
 "nbformat": 4,
 "nbformat_minor": 1
}
